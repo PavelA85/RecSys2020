{
 "cells": [
  {
   "cell_type": "code",
   "execution_count": 1,
   "metadata": {},
   "outputs": [],
   "source": [
    "import os\n",
    "\n",
    "import pandas as pd\n",
    "from d2l import mxnet as d2l\n",
    "from mxnet import gluon, np"
   ]
  },
  {
   "cell_type": "code",
   "execution_count": 8,
   "metadata": {},
   "outputs": [
    {
     "name": "stdout",
     "output_type": "stream",
     "text": [
      "Downloading ..\\data\\ml-1m.zip from http://files.grouplens.org/datasets/movielens/ml-1m.zip...\n"
     ]
    }
   ],
   "source": [
    "d2l.DATA_HUB[\"ml-1M\"] = (\n",
    "    \"http://files.grouplens.org/datasets/movielens/ml-1m.zip\",\n",
    "    \"c4d9eecfca2ab87c1945afe126590906\",\n",
    ")\n",
    "data_dir = d2l.download_extract(\"ml-1M\")"
   ]
  },
  {
   "cell_type": "code",
   "execution_count": 9,
   "metadata": {},
   "outputs": [],
   "source": [
    "# @save\n",
    "def read_data_ml1m():\n",
    "    iNames = [\"user_id\", \"item_id\", \"rating\", \"timestamp\"]\n",
    "    iData = pd.read_csv(\n",
    "        os.path.join(data_dir, \"ratings.dat\"), \"::\", names=iNames, engine=\"python\"\n",
    "    )\n",
    "    uNames = [\"user_id\", \"gender\", \"age\", \"occupation\", \"zipcode\"]\n",
    "    uData = pd.read_csv(\n",
    "        os.path.join(data_dir, \"users.dat\"), \"::\", names=uNames, engine=\"python\"\n",
    "    )\n",
    "    num_users = iData.user_id.unique().shape[0]\n",
    "    num_items = iData.item_id.unique().shape[0]\n",
    "    return iData, uData, num_users, num_items\n",
    "\n",
    "\n",
    "items, users, num_users, num_items = read_data_ml1m()"
   ]
  },
  {
   "cell_type": "code",
   "execution_count": 4,
   "metadata": {},
   "outputs": [
    {
     "name": "stdout",
     "output_type": "stream",
     "text": [
      "number of users: 6040, number of movies: 3706\n",
      "number of rating: 1000209\n",
      "matrix sparsity: 0.955316\n",
      "\n",
      "number of users: 6040, number of genders: 2\n",
      "   user_id  item_id  rating  timestamp\n",
      "0        1     1193       5  978300760\n",
      "1        1      661       3  978302109\n",
      "2        1      914       3  978301968\n",
      "3        1     3408       4  978300275\n",
      "4        1     2355       5  978824291\n",
      "   user_id gender  age  occupation zipcode\n",
      "0        1      F    1          10   48067\n",
      "1        2      M   56          16   70072\n",
      "2        3      M   25          15   55117\n",
      "3        4      M   45           7   02460\n",
      "4        5      M   25          20   55455\n"
     ]
    }
   ],
   "source": [
    "sparsity = 1 - len(items) / (num_users * num_items)\n",
    "print(f\"number of users: {num_users}, number of movies: {num_items}\")\n",
    "print(f\"number of rating: {len(items)}\")\n",
    "print(f\"matrix sparsity: {sparsity:f}\")\n",
    "print(\"\")\n",
    "unum_users = users.user_id.unique().shape[0]\n",
    "genders = users.gender.unique().shape[0]\n",
    "print(f\"number of users: {unum_users}, number of genders: {genders}\")\n",
    "\n",
    "print(items.head(5))\n",
    "print(users.head(5))"
   ]
  },
  {
   "cell_type": "code",
   "execution_count": 5,
   "metadata": {},
   "outputs": [
    {
     "ename": "TypeError",
     "evalue": "_repr_latex_() missing 1 required positional argument: 'self'",
     "output_type": "error",
     "traceback": [
      "\u001b[0;31m---------------------------------------------------------------------------\u001b[0m\n\u001b[0;31mTypeError\u001b[0m                                 Traceback (most recent call last)",
      "In  \u001b[0;34m[5]\u001b[0m:\nLine \u001b[0;34m1\u001b[0m:     \u001b[36mtype\u001b[39;49;00m(items[\u001b[33m\"\u001b[39;49;00m\u001b[33muser_id\u001b[39;49;00m\u001b[33m\"\u001b[39;49;00m])\n",
      "\u001b[0;31mTypeError\u001b[0m: _repr_latex_() missing 1 required positional argument: 'self'\n\u001b[0;31m---------------------------------------------------------------------------\u001b[0m"
     ]
    }
   ],
   "source": [
    "type(items[\"user_id\"])"
   ]
  },
  {
   "cell_type": "code",
   "execution_count": null,
   "metadata": {},
   "outputs": [],
   "source": [
    "d2l.DATA_HUB[\"ml-100k\"] = (\n",
    "    \"http://files.grouplens.org/datasets/movielens/ml-100k.zip\",\n",
    "    \"cd4dcac4241c8a4ad7badc7ca635da8a69dddb83\",\n",
    ")\n",
    "\n",
    "\n",
    "data_dir = d2l.download_extract(\"ml-100k\")\n",
    "# names = ['user_id', 'item_id', 'rating', 'timestamp']\n",
    "# data = pd.read_csv(os.path.join(data_dir, 'u.data'), '\\t', names=names,\n",
    "#                   engine='python')\n",
    "\n",
    "# pass in column names for each CSV\n",
    "u_cols = [\"user_id\", \"age\", \"sex\", \"occupation\", \"zip_code\"]\n",
    "users = pd.read_csv(\n",
    "    os.path.join(data_dir, \"u.user\"), sep=\"|\", names=u_cols, encoding=\"latin-1\"\n",
    ")\n",
    "\n",
    "r_cols = [\"user_id\", \"movie_id\", \"rating\", \"unix_timestamp\"]\n",
    "ratings = pd.read_csv(\n",
    "    os.path.join(data_dir, \"u.data\"), sep=\"\\t\", names=r_cols, encoding=\"latin-1\"\n",
    ")\n",
    "\n",
    "# the movies file contains columns indicating the movie's genres\n",
    "# let's only load the first five columns of the file with usecols\n",
    "m_cols = [\"movie_id\", \"title\", \"release_date\", \"video_release_date\", \"imdb_url\"]\n",
    "movies = pd.read_csv(\n",
    "    os.path.join(data_dir, \"u.item\"),\n",
    "    sep=\"|\",\n",
    "    names=m_cols,\n",
    "    usecols=range(5),\n",
    "    encoding=\"latin-1\",\n",
    ")\n",
    "\n",
    "# create one merged DataFrame\n",
    "movie_ratings = pd.merge(movies, ratings)\n",
    "lens = pd.merge(movie_ratings, users)"
   ]
  },
  {
   "cell_type": "code",
   "execution_count": null,
   "metadata": {},
   "outputs": [],
   "source": [
    "most_rated = lens.groupby(\"title\").size().sort_values(ascending=False)[:5]\n",
    "most_rated"
   ]
  },
  {
   "cell_type": "code",
   "execution_count": null,
   "metadata": {},
   "outputs": [],
   "source": [
    "lens.title.value_counts()[:5]\n",
    "# SELECT title, count(1)\n",
    "# FROM lens\n",
    "# GROUP BY title\n",
    "# ORDER BY 2 DESC\n",
    "# LIMIT 25;"
   ]
  },
  {
   "cell_type": "code",
   "execution_count": null,
   "metadata": {},
   "outputs": [],
   "source": [
    "print(lens.user_id.unique().shape[0])\n",
    "print(lens.movie_id.unique().shape[0])\n",
    "print(lens.sex.unique().shape[0])\n",
    "print(lens.occupation.unique().shape[0])\n",
    "##http://www.gregreda.com/2013/10/26/using-pandas-on-the-movielens-dataset/"
   ]
  },
  {
   "cell_type": "code",
   "execution_count": null,
   "metadata": {},
   "outputs": [],
   "source": [
    "import matplotlib.pyplot as plt\n",
    "import numpy as np\n",
    "from matplotlib.patches import Patch\n",
    "from sklearn.model_selection import (\n",
    "    GroupKFold,\n",
    "    GroupShuffleSplit,\n",
    "    KFold,\n",
    "    ShuffleSplit,\n",
    "    StratifiedKFold,\n",
    "    StratifiedShuffleSplit,\n",
    "    TimeSeriesSplit,\n",
    ")\n",
    "\n",
    "np.random.seed(1338)\n",
    "cmap_data = plt.cm.Paired\n",
    "cmap_cv = plt.cm.coolwarm\n",
    "n_splits = 4"
   ]
  },
  {
   "cell_type": "code",
   "execution_count": null,
   "metadata": {},
   "outputs": [],
   "source": [
    "y = np.array(lens[\"sex\"])\n",
    "groups = [\"red\", \"blue\"]\n",
    "\n",
    "\n",
    "def visualize_groups(classes, groups, name):\n",
    "    # Visualize dataset groups\n",
    "    fig, ax = plt.subplots()\n",
    "    ax.scatter(\n",
    "        range(len(groups)),\n",
    "        [0.5] * len(groups),\n",
    "        c=groups,\n",
    "        marker=\"_\",\n",
    "        lw=50,\n",
    "        cmap=cmap_data,\n",
    "    )\n",
    "    ax.scatter(\n",
    "        range(len(groups)),\n",
    "        [3.5] * len(groups),\n",
    "        c=classes,\n",
    "        marker=\"_\",\n",
    "        lw=50,\n",
    "        cmap=cmap_data,\n",
    "    )\n",
    "    ax.set(\n",
    "        ylim=[-1, 5],\n",
    "        yticks=[0.5, 3.5],\n",
    "        yticklabels=[\"Data\\ngroup\", \"Data\\nclass\"],\n",
    "        xlabel=\"Sample index\",\n",
    "    )\n",
    "\n",
    "\n",
    "visualize_groups(y, groups, \"no groups\")\n",
    "plt.show()"
   ]
  },
  {
   "cell_type": "code",
   "execution_count": 6,
   "metadata": {},
   "outputs": [
    {
     "ename": "NameError",
     "evalue": "name 'plt' is not defined",
     "output_type": "error",
     "traceback": [
      "\u001b[0;31m---------------------------------------------------------------------------\u001b[0m\n\u001b[0;31mNameError\u001b[0m                                 Traceback (most recent call last)",
      "In  \u001b[0;34m[6]\u001b[0m:\nLine \u001b[0;34m1\u001b[0m:     plt.show()\n",
      "\u001b[0;31mNameError\u001b[0m: name 'plt' is not defined\n\u001b[0;31m---------------------------------------------------------------------------\u001b[0m"
     ]
    }
   ],
   "source": [
    "plt.show()"
   ]
  },
  {
   "cell_type": "code",
   "execution_count": 7,
   "metadata": {},
   "outputs": [
    {
     "ename": "NameError",
     "evalue": "name 'lens' is not defined",
     "output_type": "error",
     "traceback": [
      "\u001b[0;31m---------------------------------------------------------------------------\u001b[0m\n\u001b[0;31mNameError\u001b[0m                                 Traceback (most recent call last)",
      "In  \u001b[0;34m[7]\u001b[0m:\nLine \u001b[0;34m1\u001b[0m:     lens[\u001b[33m\"\u001b[39;49;00m\u001b[33msex\u001b[39;49;00m\u001b[33m\"\u001b[39;49;00m].unique()\n",
      "\u001b[0;31mNameError\u001b[0m: name 'lens' is not defined\n\u001b[0;31m---------------------------------------------------------------------------\u001b[0m"
     ]
    }
   ],
   "source": [
    "lens[\"sex\"].unique()\n",
    "%pylab inline"
   ]
  },
  {
   "cell_type": "code",
   "execution_count": 238,
   "metadata": {},
   "outputs": [],
   "source": [
    "def plot_cv_indices(cv, X, y, group, ax, n_splits, lw=10):\n",
    "    \"\"\"Create a sample plot for indices of a cross-validation object.\"\"\"\n",
    "\n",
    "    # Generate the training/testing visualizations for each CV split\n",
    "    for ii, (tr, tt) in enumerate(cv.split(X=X, y=y, groups=group)):\n",
    "        # Fill in indices with the training/test groups\n",
    "        indices = np.array([np.nan] * len(X))\n",
    "        indices[tt] = 1\n",
    "        indices[tr] = 0\n",
    "\n",
    "        # Visualize the results\n",
    "        ax.scatter(\n",
    "            range(len(indices)),\n",
    "            [ii + 0.5] * len(indices),\n",
    "            c=indices,\n",
    "            marker=\"_\",\n",
    "            lw=lw,\n",
    "            cmap=cmap_cv,\n",
    "            vmin=-0.2,\n",
    "            vmax=1.2,\n",
    "        )\n",
    "\n",
    "    # Plot the data classes and groups at the end\n",
    "    ax.scatter(\n",
    "        range(len(X)), [ii + 1.5] * len(X), c=y, marker=\"_\", lw=lw, cmap=cmap_data\n",
    "    )\n",
    "\n",
    "    ax.scatter(\n",
    "        range(len(X)), [ii + 2.5] * len(X), c=group, marker=\"_\", lw=lw, cmap=cmap_data\n",
    "    )\n",
    "\n",
    "    # Formatting\n",
    "    yticklabels = list(range(n_splits)) + [\"class\", \"group\"]\n",
    "    ax.set(\n",
    "        yticks=np.arange(n_splits + 2) + 0.5,\n",
    "        yticklabels=yticklabels,\n",
    "        xlabel=\"Sample index\",\n",
    "        ylabel=\"CV iteration\",\n",
    "        ylim=[n_splits + 2.2, -0.2],\n",
    "        xlim=[0, 100],\n",
    "    )\n",
    "    ax.set_title(\"{}\".format(type(cv).__name__), fontsize=15)\n",
    "    return ax"
   ]
  },
  {
   "cell_type": "code",
   "execution_count": 239,
   "metadata": {},
   "outputs": [],
   "source": [
    "fig, ax = plt.subplots()\n",
    "cv = StratifiedKFold(n_splits)\n",
    "lens[\"sexcode\"] = pd.factorize(lens[\"sex\"])[0] + 1\n",
    "groups = np.array(lens[\"sexcode\"])\n",
    "plot_cv_indices(cv, lens, lens[\"sexcode\"], groups, ax, n_splits)\n",
    "\n",
    "ax.legend(\n",
    "    [Patch(color=cmap_cv(0.8)), Patch(color=cmap_cv(0.02))],\n",
    "    [\"Testing set\", \"Training set\"],\n",
    "    loc=(1.02, 0.8),\n",
    ")\n",
    "plt.tight_layout()\n",
    "fig.subplots_adjust(right=0.7)\n",
    "plt.show()"
   ]
  },
  {
   "cell_type": "code",
   "execution_count": 124,
   "metadata": {},
   "outputs": [
    {
     "data": {
      "text/plain": [
       "array([1, 1, 1, ..., 1, 1, 1], dtype=int64)"
      ]
     },
     "execution_count": 124,
     "metadata": {},
     "output_type": "execute_result"
    }
   ],
   "source": [
    "pd.factorize(lens[\"sex\"])[0] + 1"
   ]
  },
  {
   "cell_type": "code",
   "execution_count": 177,
   "metadata": {},
   "outputs": [
    {
     "ename": "AttributeError",
     "evalue": "'numpy.ndarray' object has no attribute 'count'",
     "output_type": "error",
     "traceback": [
      "\u001b[0;31m---------------------------------------------------------------------------\u001b[0m\n\u001b[0;31mAttributeError\u001b[0m                            Traceback (most recent call last)",
      "In  \u001b[0;34m[177]\u001b[0m:\nLine \u001b[0;34m2\u001b[0m:     \u001b[36mprint\u001b[39;49;00m(lens[\u001b[33m'\u001b[39;49;00m\u001b[33msexcode\u001b[39;49;00m\u001b[33m'\u001b[39;49;00m].values.count(\u001b[33m'\u001b[39;49;00m\u001b[33mM\u001b[39;49;00m\u001b[33m'\u001b[39;49;00m))\n",
      "\u001b[0;31mAttributeError\u001b[0m: 'numpy.ndarray' object has no attribute 'count'\n\u001b[0;31m---------------------------------------------------------------------------\u001b[0m"
     ]
    }
   ],
   "source": [
    "x = lens[\"sexcode\"].where(lens[\"sexcode\"] == 2)\n",
    "print(lens[\"sexcode\"].values.count(\"M\"))"
   ]
  },
  {
   "cell_type": "code",
   "execution_count": 90,
   "metadata": {},
   "outputs": [
    {
     "name": "stdout",
     "output_type": "stream",
     "text": [
      "[0 0 0 0 0 0 0 0 0 0 1 1 1 1 1 1 1 1 1 1 2 2 2 2 2 2 2 2 2 2 3 3 3 3 3 3 3\n",
      " 3 3 3 4 4 4 4 4 4 4 4 4 4 5 5 5 5 5 5 5 5 5 5 6 6 6 6 6 6 6 6 6 6 7 7 7 7\n",
      " 7 7 7 7 7 7 8 8 8 8 8 8 8 8 8 8 9 9 9 9 9 9 9 9 9 9]\n",
      "100\n"
     ]
    }
   ],
   "source": [
    "groups = np.hstack([[ii] * 10 for ii in range(10)])\n",
    "print(groups)\n",
    "print(len(groups))"
   ]
  },
  {
   "cell_type": "code",
   "execution_count": 182,
   "metadata": {},
   "outputs": [
    {
     "data": {
      "text/plain": [
       "524         1\n",
       "525         2\n",
       "526         3\n",
       "527         4\n",
       "528         5\n",
       "         ... \n",
       "99974     682\n",
       "99975     873\n",
       "99976     877\n",
       "99977     886\n",
       "99978    1527\n",
       "Name: movie_id, Length: 25740, dtype: int64"
      ]
     },
     "execution_count": 182,
     "metadata": {},
     "output_type": "execute_result"
    }
   ],
   "source": [
    "lens[lens[\"sex\"] == \"F\"].movie_id"
   ]
  },
  {
   "cell_type": "code",
   "execution_count": 166,
   "metadata": {},
   "outputs": [
    {
     "name": "stdout",
     "output_type": "stream",
     "text": [
      "[['F' 'M']\n",
      " [25740 74260]]\n"
     ]
    }
   ],
   "source": [
    "lens[\"sex\"].values\n",
    "unique, counts = np.unique(lens[\"sex\"].values, return_counts=True)\n",
    "\n",
    "print(np.asarray((unique, counts)))"
   ]
  },
  {
   "cell_type": "code",
   "execution_count": 172,
   "metadata": {},
   "outputs": [
    {
     "name": "stdout",
     "output_type": "stream",
     "text": [
      "25740\n",
      "74260\n",
      "100000\n"
     ]
    }
   ],
   "source": [
    "j = 0\n",
    "y = 0\n",
    "for i in pd.factorize(lens[\"sex\"])[0] + 1:\n",
    "    if i == 2:\n",
    "        j += 1\n",
    "    else:\n",
    "        y += 1\n",
    "print(j)\n",
    "print(y)\n",
    "\n",
    "print(j + y)"
   ]
  },
  {
   "cell_type": "code",
   "execution_count": 185,
   "metadata": {},
   "outputs": [
    {
     "name": "stdout",
     "output_type": "stream",
     "text": [
      "50000 50000\n",
      "50000 50000\n"
     ]
    }
   ],
   "source": [
    "import numpy as np\n",
    "from sklearn.model_selection import KFold\n",
    "\n",
    "X = [\"a\", \"b\", \"c\", \"d\"]\n",
    "kf = KFold(n_splits=2)\n",
    "for train, test in kf.split(lens):\n",
    "    print(\"%s %s\" % (len(train), len(test)))"
   ]
  },
  {
   "cell_type": "code",
   "execution_count": 226,
   "metadata": {},
   "outputs": [],
   "source": [
    "# Generate the class/group data\n",
    "n_points = 100000\n",
    "X = np.array(lens[\"rating\"])  # np.random.randn(100, 10)\n",
    "y = np.array(lens[\"sexcode\"]).T\n",
    "groups = pd.factorize(lens[\"age\"])[0] + 1\n",
    "ageGroups = pd.factorize(lens[\"age\"])[0] + 1\n",
    "occupationGroups = pd.factorize(lens[\"occupation\"])[0] + 1"
   ]
  },
  {
   "cell_type": "code",
   "execution_count": 240,
   "metadata": {},
   "outputs": [
    {
     "ename": "ValueError",
     "evalue": "'c' argument must be a color, a sequence of colors, or a sequence of numbers, not ['M' 'M' 'M' ... 'M' 'M' 'M']",
     "output_type": "error",
     "traceback": [
      "\u001b[0;31m---------------------------------------------------------------------------\u001b[0m\n\u001b[0;31mValueError\u001b[0m                                Traceback (most recent call last)",
      "In  \u001b[0;34m[240]\u001b[0m:\nLine \u001b[0;34m12\u001b[0m:    \n",
      "In  \u001b[0;34m[240]\u001b[0m:\nLine \u001b[0;34m6\u001b[0m:     ax.scatter(\u001b[36mrange\u001b[39;49;00m(\u001b[36mlen\u001b[39;49;00m(groups)),  [.\u001b[34m5\u001b[39;49;00m] * \u001b[36mlen\u001b[39;49;00m(groups), c=groups, marker=\u001b[33m'\u001b[39;49;00m\u001b[33m_\u001b[39;49;00m\u001b[33m'\u001b[39;49;00m,\n",
      "File \u001b[0;34mC:\\Users\\pavel\\.conda\\envs\\jupyterlab-debugger\\lib\\site-packages\\matplotlib\\__init__.py\u001b[0m, in \u001b[0;32minner\u001b[0m:\nLine \u001b[0;34m1438\u001b[0m:  \u001b[34mreturn\u001b[39;49;00m func(ax, *\u001b[36mmap\u001b[39;49;00m(sanitize_sequence, args), **kwargs)\n",
      "File \u001b[0;34mC:\\Users\\pavel\\.conda\\envs\\jupyterlab-debugger\\lib\\site-packages\\matplotlib\\cbook\\deprecation.py\u001b[0m, in \u001b[0;32mwrapper\u001b[0m:\nLine \u001b[0;34m411\u001b[0m:   \u001b[34mreturn\u001b[39;49;00m func(*inner_args, **inner_kwargs)\n",
      "File \u001b[0;34mC:\\Users\\pavel\\.conda\\envs\\jupyterlab-debugger\\lib\\site-packages\\matplotlib\\axes\\_axes.py\u001b[0m, in \u001b[0;32mscatter\u001b[0m:\nLine \u001b[0;34m4451\u001b[0m:  \u001b[36mself\u001b[39;49;00m._parse_scatter_color_args(\n",
      "File \u001b[0;34mC:\\Users\\pavel\\.conda\\envs\\jupyterlab-debugger\\lib\\site-packages\\matplotlib\\axes\\_axes.py\u001b[0m, in \u001b[0;32m_parse_scatter_color_args\u001b[0m:\nLine \u001b[0;34m4300\u001b[0m:  \u001b[34mraise\u001b[39;49;00m \u001b[36mValueError\u001b[39;49;00m(\n",
      "\u001b[0;31mValueError\u001b[0m: 'c' argument must be a color, a sequence of colors, or a sequence of numbers, not ['M' 'M' 'M' ... 'M' 'M' 'M']\n\u001b[0;31m---------------------------------------------------------------------------\u001b[0m"
     ]
    }
   ],
   "source": [
    "def visualize_groups(classes, groups, name):\n",
    "    # Visualize dataset groups\n",
    "    fig, ax = plt.subplots()\n",
    "    ax.scatter(\n",
    "        range(len(groups)),\n",
    "        [0.5] * len(groups),\n",
    "        c=groups,\n",
    "        marker=\"_\",\n",
    "        lw=50,\n",
    "        cmap=cmap_data,\n",
    "    )\n",
    "    ax.scatter(\n",
    "        range(len(groups)),\n",
    "        [3.5] * len(groups),\n",
    "        c=classes,\n",
    "        marker=\"_\",\n",
    "        lw=50,\n",
    "        cmap=cmap_data,\n",
    "    )\n",
    "    ax.set(\n",
    "        ylim=[-1, 5],\n",
    "        yticks=[0.5, 3.5],\n",
    "        yticklabels=[\"Data\\ngroup\", \"Data\\nclass\"],\n",
    "        xlabel=\"Sample index\",\n",
    "    )\n",
    "\n",
    "\n",
    "visualize_groups(y, groups, \"no groups\")\n",
    "ax.legend(\n",
    "    [Patch(color=cmap_cv(0.8)), Patch(color=cmap_cv(0.02))],\n",
    "    [\"Testing set\", \"Training set\"],\n",
    "    loc=(1.02, 0.8),\n",
    ")\n",
    "plt.tight_layout()\n",
    "fig.subplots_adjust(right=0.7)\n",
    "\n",
    "plt.show()"
   ]
  },
  {
   "cell_type": "code",
   "execution_count": 196,
   "metadata": {},
   "outputs": [
    {
     "data": {
      "text/plain": [
       "array([0, 0, 0, 0, 0, 0, 0, 0, 0, 0, 1, 1, 1, 1, 1, 1, 1, 1, 1, 1, 2, 2,\n",
       "       2, 2, 2, 2, 2, 2, 2, 2, 3, 3, 3, 3, 3, 3, 3, 3, 3, 3, 4, 4, 4, 4,\n",
       "       4, 4, 4, 4, 4, 4, 5, 5, 5, 5, 5, 5, 5, 5, 5, 5, 6, 6, 6, 6, 6, 6,\n",
       "       6, 6, 6, 6, 7, 7, 7, 7, 7, 7, 7, 7, 7, 7, 8, 8, 8, 8, 8, 8, 8, 8,\n",
       "       8, 8, 9, 9, 9, 9, 9, 9, 9, 9, 9, 9])"
      ]
     },
     "execution_count": 196,
     "metadata": {},
     "output_type": "execute_result"
    }
   ],
   "source": [
    "np.hstack([[ii] * 10 for ii in range(10)])"
   ]
  },
  {
   "cell_type": "code",
   "execution_count": 233,
   "metadata": {},
   "outputs": [],
   "source": [
    "def plot_cv_indices(cv, X, y, group, group2, ax, n_splits, lw=10):\n",
    "    \"\"\"Create a sample plot for indices of a cross-validation object.\"\"\"\n",
    "\n",
    "    # Generate the training/testing visualizations for each CV split\n",
    "    for ii, (tr, tt) in enumerate(cv.split(X=X, y=y, groups=group)):\n",
    "        # Fill in indices with the training/test groups\n",
    "        indices = np.array([np.nan] * len(X))\n",
    "        indices[tt] = 1\n",
    "        indices[tr] = 0\n",
    "\n",
    "        # Visualize the results\n",
    "        ax.scatter(\n",
    "            range(len(indices)),\n",
    "            [ii + 0.5] * len(indices),\n",
    "            c=indices,\n",
    "            marker=\"_\",\n",
    "            lw=lw,\n",
    "            cmap=cmap_cv,\n",
    "            vmin=-0.2,\n",
    "            vmax=1.2,\n",
    "        )\n",
    "\n",
    "    # Plot the data classes and groups at the end\n",
    "    ax.scatter(\n",
    "        range(len(X)), [ii + 1.5] * len(X), c=y, marker=\"_\", lw=lw, cmap=cmap_data\n",
    "    )\n",
    "\n",
    "    ax.scatter(\n",
    "        range(len(X)), [ii + 2.5] * len(X), c=group, marker=\"_\", lw=lw, cmap=cmap_data\n",
    "    )\n",
    "\n",
    "    ax.scatter(\n",
    "        range(len(X)), [ii + 3.5] * len(X), c=group2, marker=\"_\", lw=lw, cmap=cmap_data\n",
    "    )\n",
    "\n",
    "    # Formatting\n",
    "    yticklabels = list(range(n_splits)) + [\"sex\", \"age\", \"occupation\"]\n",
    "    ax.set(\n",
    "        yticks=np.arange(n_splits + 3) + 0.5,\n",
    "        yticklabels=yticklabels,\n",
    "        xlabel=\"Sample index\",\n",
    "        ylabel=\"CV iteration\",\n",
    "        ylim=[n_splits + 3.2, -0.2],\n",
    "        xlim=[0, 100000],\n",
    "    )\n",
    "    ax.set_title(\"{}\".format(type(cv).__name__), fontsize=15)\n",
    "    return ax\n",
    "\n",
    "\n",
    "cvs = [\n",
    "    KFold,\n",
    "    GroupKFold,\n",
    "    ShuffleSplit,\n",
    "    StratifiedKFold,\n",
    "    #GroupShuffleSplit,\n",
    "    StratifiedShuffleSplit,\n",
    "    TimeSeriesSplit,\n",
    "]\n",
    "\n",
    "for cv in cvs:\n",
    "    this_cv = cv(n_splits=n_splits)\n",
    "    fig, ax = plt.subplots(figsize=(6, 3))\n",
    "    plot_cv_indices(this_cv, X, y, ageGroups, occupationGroups, ax, n_splits)\n",
    "\n",
    "    ax.legend(\n",
    "        [Patch(color=cmap_cv(0.8)), Patch(color=cmap_cv(0.02))],\n",
    "        [\"Testing set\", \"Training set\"],\n",
    "        loc=(1.02, 0.8),\n",
    "    )\n",
    "    # Make the legend fit\n",
    "    plt.tight_layout()\n",
    "    fig.subplots_adjust(right=0.7)\n",
    "plt.show()"
   ]
  },
  {
   "cell_type": "code",
   "execution_count": 221,
   "metadata": {},
   "outputs": [
    {
     "data": {
      "text/plain": [
       "100000"
      ]
     },
     "execution_count": 221,
     "metadata": {},
     "output_type": "execute_result"
    }
   ],
   "source": [
    "len(X)"
   ]
  },
  {
   "cell_type": "code",
   "execution_count": 223,
   "metadata": {},
   "outputs": [],
   "source": [
    "def plot_cv_indices(cv, X, y, group, group2, ax, n_splits, lw=10):\n",
    "    \"\"\"Create a sample plot for indices of a cross-validation object.\"\"\"\n",
    "\n",
    "    # Generate the training/testing visualizations for each CV split\n",
    "    for ii, (tr, tt) in enumerate(cv.split(X=X, y=y, groups=group)):\n",
    "        # Fill in indices with the training/test groups\n",
    "        indices = np.array([np.nan] * len(X))\n",
    "        indices[tt] = 1\n",
    "        indices[tr] = 0\n",
    "\n",
    "        # Visualize the results\n",
    "        ax.scatter(\n",
    "            range(len(indices)),\n",
    "            [ii + 0.5] * len(indices),\n",
    "            c=indices,\n",
    "            marker=\"_\",\n",
    "            lw=lw,\n",
    "            cmap=cmap_cv,\n",
    "            vmin=-0.2,\n",
    "            vmax=1.2,\n",
    "        )\n",
    "\n",
    "    # Plot the data classes and groups at the end\n",
    "    ax.scatter(\n",
    "        range(len(X)), [ii + 1.5] * len(X), c=y, marker=\"_\", lw=lw, cmap=cmap_data\n",
    "    )\n",
    "\n",
    "    ax.scatter(\n",
    "        range(len(X)), [ii + 2.5] * len(X), c=group, marker=\"_\", lw=lw, cmap=cmap_data\n",
    "    )\n",
    "\n",
    "    ax.scatter(\n",
    "        range(len(X)), [ii + 3.5] * len(X), c=group2, marker=\"_\", lw=lw, cmap=cmap_data\n",
    "    )\n",
    "\n",
    "    # Formatting\n",
    "    yticklabels = list(range(n_splits)) + [\"sex\", \"age\", \"occupation\"]\n",
    "    ax.set(\n",
    "        yticks=np.arange(n_splits + 3) + 0.5,\n",
    "        yticklabels=yticklabels,\n",
    "        xlabel=\"Sample index\",\n",
    "        ylabel=\"CV iteration\",\n",
    "        ylim=[n_splits + 3.2, -0.2],\n",
    "        xlim=[0, 100000],\n",
    "    )\n",
    "    ax.set_title(\"{}\".format(type(cv).__name__), fontsize=15)\n",
    "    return ax\n",
    "\n",
    "\n",
    "cvs1 = [\n",
    "    KFold,\n",
    "    GroupKFold,\n",
    "    ShuffleSplit]\n",
    "cvs2 = [\n",
    "    StratifiedKFold,\n",
    "    #GroupShuffleSplit,\n",
    "    StratifiedShuffleSplit,\n",
    "    TimeSeriesSplit,\n",
    "]\n",
    "\n",
    "fig, axs = plt.subplots(2,3)\n",
    "\n",
    "for i,cv in enumerate(cvs1):\n",
    "    this_cv = cv(n_splits=n_splits)\n",
    "    ax = axs[0, i]\n",
    "    plot_cv_indices(this_cv, X, y, ageGroups, occupationGroups, ax, n_splits)\n",
    "\n",
    "    \n",
    "for i,cv in enumerate(cvs2):\n",
    "    this_cv = cv(n_splits=n_splits)\n",
    "    ax = axs[1, i]\n",
    "    plot_cv_indices(this_cv, X, y, ageGroups, occupationGroups, ax, n_splits)\n",
    "    \n",
    "ax.legend(\n",
    "    [Patch(color=cmap_cv(0.8)), Patch(color=cmap_cv(0.02))],\n",
    "    [\"Testing set\", \"Training set\"],\n",
    "    loc=(1.02, 0.8),\n",
    ")\n",
    "# Make the legend fit\n",
    "fig.set_size_inches(6, 12)\n",
    "\n",
    "plt.tight_layout()\n",
    "fig.subplots_adjust(right=0.7)\n",
    "plt.show()"
   ]
  }
 ],
 "metadata": {
  "kernelspec": {
   "display_name": "Python 3.9 (XPython)",
   "language": "python",
   "name": "xpython"
  },
  "language_info": {
   "file_extension": ".py",
   "mimetype": "text/x-python",
   "name": "python",
   "version": "3.9.1"
  }
 },
 "nbformat": 4,
 "nbformat_minor": 4
}
