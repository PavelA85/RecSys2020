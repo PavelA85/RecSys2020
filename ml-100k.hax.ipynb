{
 "cells": [
  {
   "cell_type": "code",
   "execution_count": 1,
   "metadata": {},
   "outputs": [],
   "source": [
    "import os\n",
    "import pprint\n",
    "\n",
    "import pandas as pd\n",
    "from d2l import mxnet as d2l\n",
    "from mxnet import np\n",
    "\n",
    "# Use 3 decimal places in output display\n",
    "pd.set_option(\"display.precision\", 3)\n",
    "\n",
    "# Don't wrap repr(DataFrame) across additional lines\n",
    "pd.set_option(\"display.expand_frame_repr\", False)\n",
    "\n",
    "# Set max rows displayed in output to 25\n",
    "pd.set_option(\"display.max_rows\", 25)\n",
    "\n",
    "pp = pprint.PrettyPrinter(indent=4)"
   ]
  },
  {
   "cell_type": "code",
   "execution_count": 2,
   "metadata": {},
   "outputs": [
    {
     "name": "stdout",
     "output_type": "stream",
     "text": [
      "Downloading ..\\data\\ml-1m.zip from http://files.grouplens.org/datasets/movielens/ml-1m.zip...\n"
     ]
    }
   ],
   "source": [
    "d2l.DATA_HUB[\"ml-1M\"] = (\n",
    "    \"http://files.grouplens.org/datasets/movielens/ml-1m.zip\",\n",
    "    \"c4d9eecfca2ab87c1945afe126590906\",\n",
    ")\n",
    "data_dir1m = d2l.download_extract(\"ml-1M\")"
   ]
  },
  {
   "cell_type": "code",
   "execution_count": 3,
   "metadata": {},
   "outputs": [
    {
     "data": {
      "text/plain": "         item_id                                      title  \\\n0              1                           Toy Story (1995)   \n1             48                          Pocahontas (1995)   \n2            150                           Apollo 13 (1995)   \n3            260  Star Wars: Episode IV - A New Hope (1977)   \n4            527                    Schindler's List (1993)   \n...          ...                                        ...   \n1000204     3513                 Rules of Engagement (2000)   \n1000205     3535                     American Psycho (2000)   \n1000206     3536                   Keeping the Faith (2000)   \n1000207     3555                               U-571 (2000)   \n1000208     3578                           Gladiator (2000)   \n\n                                      generes  user_id  rating  timestamp  \\\n0                 Animation|Children's|Comedy        1       5  978824268   \n1        Animation|Children's|Musical|Romance        1       5  978824351   \n2                                       Drama        1       5  978301777   \n3             Action|Adventure|Fantasy|Sci-Fi        1       4  978300760   \n4                                   Drama|War        1       5  978824195   \n...                                       ...      ...     ...        ...   \n1000204                        Drama|Thriller     5727       4  958489970   \n1000205                Comedy|Horror|Thriller     5727       2  958489970   \n1000206                        Comedy|Romance     5727       5  958489902   \n1000207                       Action|Thriller     5727       3  958490699   \n1000208                          Action|Drama     5727       5  958490171   \n\n        gender  age  occupation zipcode  \n0            F    1          10   48067  \n1            F    1          10   48067  \n2            F    1          10   48067  \n3            F    1          10   48067  \n4            F    1          10   48067  \n...        ...  ...         ...     ...  \n1000204      M   25           4   92843  \n1000205      M   25           4   92843  \n1000206      M   25           4   92843  \n1000207      M   25           4   92843  \n1000208      M   25           4   92843  \n\n[1000209 rows x 10 columns]",
      "text/html": "<div>\n<style scoped>\n    .dataframe tbody tr th:only-of-type {\n        vertical-align: middle;\n    }\n\n    .dataframe tbody tr th {\n        vertical-align: top;\n    }\n\n    .dataframe thead th {\n        text-align: right;\n    }\n</style>\n<table border=\"1\" class=\"dataframe\">\n  <thead>\n    <tr style=\"text-align: right;\">\n      <th></th>\n      <th>item_id</th>\n      <th>title</th>\n      <th>generes</th>\n      <th>user_id</th>\n      <th>rating</th>\n      <th>timestamp</th>\n      <th>gender</th>\n      <th>age</th>\n      <th>occupation</th>\n      <th>zipcode</th>\n    </tr>\n  </thead>\n  <tbody>\n    <tr>\n      <th>0</th>\n      <td>1</td>\n      <td>Toy Story (1995)</td>\n      <td>Animation|Children's|Comedy</td>\n      <td>1</td>\n      <td>5</td>\n      <td>978824268</td>\n      <td>F</td>\n      <td>1</td>\n      <td>10</td>\n      <td>48067</td>\n    </tr>\n    <tr>\n      <th>1</th>\n      <td>48</td>\n      <td>Pocahontas (1995)</td>\n      <td>Animation|Children's|Musical|Romance</td>\n      <td>1</td>\n      <td>5</td>\n      <td>978824351</td>\n      <td>F</td>\n      <td>1</td>\n      <td>10</td>\n      <td>48067</td>\n    </tr>\n    <tr>\n      <th>2</th>\n      <td>150</td>\n      <td>Apollo 13 (1995)</td>\n      <td>Drama</td>\n      <td>1</td>\n      <td>5</td>\n      <td>978301777</td>\n      <td>F</td>\n      <td>1</td>\n      <td>10</td>\n      <td>48067</td>\n    </tr>\n    <tr>\n      <th>3</th>\n      <td>260</td>\n      <td>Star Wars: Episode IV - A New Hope (1977)</td>\n      <td>Action|Adventure|Fantasy|Sci-Fi</td>\n      <td>1</td>\n      <td>4</td>\n      <td>978300760</td>\n      <td>F</td>\n      <td>1</td>\n      <td>10</td>\n      <td>48067</td>\n    </tr>\n    <tr>\n      <th>4</th>\n      <td>527</td>\n      <td>Schindler's List (1993)</td>\n      <td>Drama|War</td>\n      <td>1</td>\n      <td>5</td>\n      <td>978824195</td>\n      <td>F</td>\n      <td>1</td>\n      <td>10</td>\n      <td>48067</td>\n    </tr>\n    <tr>\n      <th>...</th>\n      <td>...</td>\n      <td>...</td>\n      <td>...</td>\n      <td>...</td>\n      <td>...</td>\n      <td>...</td>\n      <td>...</td>\n      <td>...</td>\n      <td>...</td>\n      <td>...</td>\n    </tr>\n    <tr>\n      <th>1000204</th>\n      <td>3513</td>\n      <td>Rules of Engagement (2000)</td>\n      <td>Drama|Thriller</td>\n      <td>5727</td>\n      <td>4</td>\n      <td>958489970</td>\n      <td>M</td>\n      <td>25</td>\n      <td>4</td>\n      <td>92843</td>\n    </tr>\n    <tr>\n      <th>1000205</th>\n      <td>3535</td>\n      <td>American Psycho (2000)</td>\n      <td>Comedy|Horror|Thriller</td>\n      <td>5727</td>\n      <td>2</td>\n      <td>958489970</td>\n      <td>M</td>\n      <td>25</td>\n      <td>4</td>\n      <td>92843</td>\n    </tr>\n    <tr>\n      <th>1000206</th>\n      <td>3536</td>\n      <td>Keeping the Faith (2000)</td>\n      <td>Comedy|Romance</td>\n      <td>5727</td>\n      <td>5</td>\n      <td>958489902</td>\n      <td>M</td>\n      <td>25</td>\n      <td>4</td>\n      <td>92843</td>\n    </tr>\n    <tr>\n      <th>1000207</th>\n      <td>3555</td>\n      <td>U-571 (2000)</td>\n      <td>Action|Thriller</td>\n      <td>5727</td>\n      <td>3</td>\n      <td>958490699</td>\n      <td>M</td>\n      <td>25</td>\n      <td>4</td>\n      <td>92843</td>\n    </tr>\n    <tr>\n      <th>1000208</th>\n      <td>3578</td>\n      <td>Gladiator (2000)</td>\n      <td>Action|Drama</td>\n      <td>5727</td>\n      <td>5</td>\n      <td>958490171</td>\n      <td>M</td>\n      <td>25</td>\n      <td>4</td>\n      <td>92843</td>\n    </tr>\n  </tbody>\n</table>\n<p>1000209 rows × 10 columns</p>\n</div>"
     },
     "execution_count": 3,
     "metadata": {},
     "output_type": "execute_result"
    }
   ],
   "source": [
    "# @save\n",
    "def read_data_ml1m():\n",
    "    iNames = [\"user_id\", \"item_id\", \"rating\", \"timestamp\"]\n",
    "    ratings = pd.read_csv(\n",
    "        os.path.join(data_dir1m, \"ratings.dat\"), \"::\", names=iNames, engine=\"python\"\n",
    "    )\n",
    "    uNames = [\"user_id\", \"gender\", \"age\", \"occupation\", \"zipcode\"]\n",
    "    users = pd.read_csv(\n",
    "        os.path.join(data_dir1m, \"users.dat\"), \"::\", names=uNames, engine=\"python\"\n",
    "    )\n",
    "\n",
    "    # MovieID::Title::Genres\n",
    "    m_cols = [\"item_id\", \"title\", \"generes\"]\n",
    "    movies = pd.read_csv(\n",
    "        os.path.join(data_dir1m, \"movies.dat\"),\n",
    "        sep=\"::\",\n",
    "        names=m_cols,\n",
    "        usecols=range(3),\n",
    "        encoding=\"latin-1\",\n",
    "        engine=\"python\",\n",
    "    )\n",
    "\n",
    "    # create one merged DataFrame\n",
    "    movie_ratings = pd.merge(movies, ratings)\n",
    "    lens = pd.merge(movie_ratings, users)\n",
    "\n",
    "    num_users = ratings.user_id.unique().shape[0]\n",
    "    num_items = ratings.item_id.unique().shape[0]\n",
    "    return lens, num_users, num_items\n",
    "\n",
    "\n",
    "rating, num_users, num_items = read_data_ml1m()\n",
    "rating"
   ]
  },
  {
   "cell_type": "code",
   "execution_count": 8,
   "outputs": [
    {
     "data": {
      "text/plain": "            item_id       user_id        rating     timestamp      age  \\\ncount  38780.000000  38780.000000  38780.000000  3.878000e+04  38780.0   \nmean    1927.316194   2963.619082      3.766632  9.712856e+08     56.0   \nstd     1106.875694   1661.022763      1.062551  9.558104e+06      0.0   \nmin        1.000000      2.000000      1.000000  9.567068e+08     56.0   \n25%     1073.000000   1670.000000      3.000000  9.653421e+08     56.0   \n50%     1911.000000   2656.000000      4.000000  9.739963e+08     56.0   \n75%     2919.000000   4193.000000      5.000000  9.748619e+08     56.0   \nmax     3952.000000   6038.000000      5.000000  1.046438e+09     56.0   \n\n         occupation  \ncount  38780.000000  \nmean       9.569856  \nstd        6.323344  \nmin        0.000000  \n25%        2.000000  \n50%       13.000000  \n75%       14.000000  \nmax       20.000000  ",
      "text/html": "<div>\n<style scoped>\n    .dataframe tbody tr th:only-of-type {\n        vertical-align: middle;\n    }\n\n    .dataframe tbody tr th {\n        vertical-align: top;\n    }\n\n    .dataframe thead th {\n        text-align: right;\n    }\n</style>\n<table border=\"1\" class=\"dataframe\">\n  <thead>\n    <tr style=\"text-align: right;\">\n      <th></th>\n      <th>item_id</th>\n      <th>user_id</th>\n      <th>rating</th>\n      <th>timestamp</th>\n      <th>age</th>\n      <th>occupation</th>\n    </tr>\n  </thead>\n  <tbody>\n    <tr>\n      <th>count</th>\n      <td>38780.000000</td>\n      <td>38780.000000</td>\n      <td>38780.000000</td>\n      <td>3.878000e+04</td>\n      <td>38780.0</td>\n      <td>38780.000000</td>\n    </tr>\n    <tr>\n      <th>mean</th>\n      <td>1927.316194</td>\n      <td>2963.619082</td>\n      <td>3.766632</td>\n      <td>9.712856e+08</td>\n      <td>56.0</td>\n      <td>9.569856</td>\n    </tr>\n    <tr>\n      <th>std</th>\n      <td>1106.875694</td>\n      <td>1661.022763</td>\n      <td>1.062551</td>\n      <td>9.558104e+06</td>\n      <td>0.0</td>\n      <td>6.323344</td>\n    </tr>\n    <tr>\n      <th>min</th>\n      <td>1.000000</td>\n      <td>2.000000</td>\n      <td>1.000000</td>\n      <td>9.567068e+08</td>\n      <td>56.0</td>\n      <td>0.000000</td>\n    </tr>\n    <tr>\n      <th>25%</th>\n      <td>1073.000000</td>\n      <td>1670.000000</td>\n      <td>3.000000</td>\n      <td>9.653421e+08</td>\n      <td>56.0</td>\n      <td>2.000000</td>\n    </tr>\n    <tr>\n      <th>50%</th>\n      <td>1911.000000</td>\n      <td>2656.000000</td>\n      <td>4.000000</td>\n      <td>9.739963e+08</td>\n      <td>56.0</td>\n      <td>13.000000</td>\n    </tr>\n    <tr>\n      <th>75%</th>\n      <td>2919.000000</td>\n      <td>4193.000000</td>\n      <td>5.000000</td>\n      <td>9.748619e+08</td>\n      <td>56.0</td>\n      <td>14.000000</td>\n    </tr>\n    <tr>\n      <th>max</th>\n      <td>3952.000000</td>\n      <td>6038.000000</td>\n      <td>5.000000</td>\n      <td>1.046438e+09</td>\n      <td>56.0</td>\n      <td>20.000000</td>\n    </tr>\n  </tbody>\n</table>\n</div>"
     },
     "execution_count": 8,
     "metadata": {},
     "output_type": "execute_result"
    }
   ],
   "source": [
    "rating.head()\n",
    "\n",
    "young = rating[rating[\"age\"] < 19]\n",
    "old = rating[rating[\"age\"] > 55]\n",
    "\n",
    "old.item_id"
   ],
   "metadata": {
    "collapsed": false,
    "pycharm": {
     "name": "#%%\n"
    }
   }
  },
  {
   "cell_type": "code",
   "execution_count": 13,
   "outputs": [
    {
     "ename": "KeyError",
     "evalue": "<class 'numpy.object_'>",
     "output_type": "error",
     "traceback": [
      "\u001B[1;31m---------------------------------------------------------------------------\u001B[0m",
      "\u001B[1;31mKeyError\u001B[0m                                  Traceback (most recent call last)",
      "\u001B[1;32m<ipython-input-13-4f5e24b684ca>\u001B[0m in \u001B[0;36m<module>\u001B[1;34m\u001B[0m\n\u001B[0;32m     12\u001B[0m     \u001B[0mr\u001B[0m\u001B[1;33m[\u001B[0m\u001B[1;33m[\u001B[0m\u001B[1;34m\"rrec\"\u001B[0m\u001B[1;33m,\u001B[0m \u001B[1;34m\"config\"\u001B[0m\u001B[1;33m]\u001B[0m\u001B[1;33m]\u001B[0m \u001B[1;33m=\u001B[0m \u001B[0mr\u001B[0m\u001B[1;33m.\u001B[0m\u001B[0mrec\u001B[0m\u001B[1;33m.\u001B[0m\u001B[0mstr\u001B[0m\u001B[1;33m.\u001B[0m\u001B[0msplit\u001B[0m\u001B[1;33m(\u001B[0m\u001B[1;34m\"(\"\u001B[0m\u001B[1;33m,\u001B[0m \u001B[0mexpand\u001B[0m\u001B[1;33m=\u001B[0m\u001B[1;32mTrue\u001B[0m\u001B[1;33m)\u001B[0m\u001B[1;33m\u001B[0m\u001B[1;33m\u001B[0m\u001B[0m\n\u001B[0;32m     13\u001B[0m     \u001B[0mr\u001B[0m\u001B[1;33m.\u001B[0m\u001B[0mhead\u001B[0m\u001B[1;33m(\u001B[0m\u001B[1;33m)\u001B[0m\u001B[1;33m\u001B[0m\u001B[1;33m\u001B[0m\u001B[0m\n\u001B[1;32m---> 14\u001B[1;33m \u001B[0mqq\u001B[0m\u001B[1;33m(\u001B[0m\u001B[0me\u001B[0m\u001B[1;33m)\u001B[0m\u001B[1;33m\u001B[0m\u001B[1;33m\u001B[0m\u001B[0m\n\u001B[0m",
      "\u001B[1;32m<ipython-input-13-4f5e24b684ca>\u001B[0m in \u001B[0;36mqq\u001B[1;34m(data)\u001B[0m\n\u001B[0;32m      1\u001B[0m \u001B[0me\u001B[0m \u001B[1;33m=\u001B[0m \u001B[0mold\u001B[0m\u001B[1;33m.\u001B[0m\u001B[0mgroupby\u001B[0m\u001B[1;33m(\u001B[0m\u001B[0mby\u001B[0m\u001B[1;33m=\u001B[0m\u001B[1;34m'item_id'\u001B[0m\u001B[1;33m)\u001B[0m\u001B[1;33m\u001B[0m\u001B[1;33m\u001B[0m\u001B[0m\n\u001B[0;32m      2\u001B[0m \u001B[1;32mdef\u001B[0m \u001B[0mqq\u001B[0m\u001B[1;33m(\u001B[0m\u001B[0mdata\u001B[0m\u001B[1;33m)\u001B[0m\u001B[1;33m:\u001B[0m\u001B[1;33m\u001B[0m\u001B[1;33m\u001B[0m\u001B[0m\n\u001B[1;32m----> 3\u001B[1;33m     \u001B[0me\u001B[0m \u001B[1;33m=\u001B[0m \u001B[0mnp\u001B[0m\u001B[1;33m.\u001B[0m\u001B[0marray\u001B[0m\u001B[1;33m(\u001B[0m\u001B[0mdata\u001B[0m\u001B[1;33m,\u001B[0m \u001B[0mdtype\u001B[0m\u001B[1;33m=\u001B[0m\u001B[0mobject\u001B[0m\u001B[1;33m)\u001B[0m\u001B[1;33m\u001B[0m\u001B[1;33m\u001B[0m\u001B[0m\n\u001B[0m\u001B[0;32m      4\u001B[0m \u001B[1;33m\u001B[0m\u001B[0m\n\u001B[0;32m      5\u001B[0m     \u001B[0mf\u001B[0m \u001B[1;33m=\u001B[0m \u001B[0me\u001B[0m\u001B[1;33m[\u001B[0m\u001B[1;36m1\u001B[0m\u001B[1;33m,\u001B[0m \u001B[1;36m1\u001B[0m\u001B[1;33m]\u001B[0m\u001B[1;33m\u001B[0m\u001B[1;33m\u001B[0m\u001B[0m\n",
      "\u001B[1;32m~\\.conda\\envs\\jupyterlab-debugger\\lib\\site-packages\\mxnet\\numpy\\multiarray.py\u001B[0m in \u001B[0;36marray\u001B[1;34m(object, dtype, ctx)\u001B[0m\n\u001B[0;32m   2278\u001B[0m             \u001B[1;31m# for transparency on users' side\u001B[0m\u001B[1;33m\u001B[0m\u001B[1;33m\u001B[0m\u001B[1;33m\u001B[0m\u001B[0m\n\u001B[0;32m   2279\u001B[0m             \u001B[1;32mraise\u001B[0m \u001B[0mTypeError\u001B[0m\u001B[1;33m(\u001B[0m\u001B[1;34m'{}'\u001B[0m\u001B[1;33m.\u001B[0m\u001B[0mformat\u001B[0m\u001B[1;33m(\u001B[0m\u001B[0mstr\u001B[0m\u001B[1;33m(\u001B[0m\u001B[0me\u001B[0m\u001B[1;33m)\u001B[0m\u001B[1;33m)\u001B[0m\u001B[1;33m)\u001B[0m\u001B[1;33m\u001B[0m\u001B[1;33m\u001B[0m\u001B[0m\n\u001B[1;32m-> 2280\u001B[1;33m     \u001B[0mret\u001B[0m \u001B[1;33m=\u001B[0m \u001B[0mempty\u001B[0m\u001B[1;33m(\u001B[0m\u001B[0mobject\u001B[0m\u001B[1;33m.\u001B[0m\u001B[0mshape\u001B[0m\u001B[1;33m,\u001B[0m \u001B[0mdtype\u001B[0m\u001B[1;33m=\u001B[0m\u001B[0mdtype\u001B[0m\u001B[1;33m,\u001B[0m \u001B[0mctx\u001B[0m\u001B[1;33m=\u001B[0m\u001B[0mctx\u001B[0m\u001B[1;33m)\u001B[0m\u001B[1;33m\u001B[0m\u001B[1;33m\u001B[0m\u001B[0m\n\u001B[0m\u001B[0;32m   2281\u001B[0m     \u001B[1;32mif\u001B[0m \u001B[0mlen\u001B[0m\u001B[1;33m(\u001B[0m\u001B[0mobject\u001B[0m\u001B[1;33m.\u001B[0m\u001B[0mshape\u001B[0m\u001B[1;33m)\u001B[0m \u001B[1;33m==\u001B[0m \u001B[1;36m0\u001B[0m\u001B[1;33m:\u001B[0m\u001B[1;33m\u001B[0m\u001B[1;33m\u001B[0m\u001B[0m\n\u001B[0;32m   2282\u001B[0m         \u001B[0mret\u001B[0m\u001B[1;33m[\u001B[0m\u001B[1;33m(\u001B[0m\u001B[1;33m)\u001B[0m\u001B[1;33m]\u001B[0m \u001B[1;33m=\u001B[0m \u001B[0mobject\u001B[0m\u001B[1;33m\u001B[0m\u001B[1;33m\u001B[0m\u001B[0m\n",
      "\u001B[1;32m~\\.conda\\envs\\jupyterlab-debugger\\lib\\site-packages\\mxnet\\numpy\\multiarray.py\u001B[0m in \u001B[0;36mempty\u001B[1;34m(shape, dtype, order, ctx)\u001B[0m\n\u001B[0;32m   2225\u001B[0m     \u001B[1;32mif\u001B[0m \u001B[0misinstance\u001B[0m\u001B[1;33m(\u001B[0m\u001B[0mshape\u001B[0m\u001B[1;33m,\u001B[0m \u001B[0mint\u001B[0m\u001B[1;33m)\u001B[0m\u001B[1;33m:\u001B[0m\u001B[1;33m\u001B[0m\u001B[1;33m\u001B[0m\u001B[0m\n\u001B[0;32m   2226\u001B[0m         \u001B[0mshape\u001B[0m \u001B[1;33m=\u001B[0m \u001B[1;33m(\u001B[0m\u001B[0mshape\u001B[0m\u001B[1;33m,\u001B[0m\u001B[1;33m)\u001B[0m\u001B[1;33m\u001B[0m\u001B[1;33m\u001B[0m\u001B[0m\n\u001B[1;32m-> 2227\u001B[1;33m     \u001B[1;32mreturn\u001B[0m \u001B[0mndarray\u001B[0m\u001B[1;33m(\u001B[0m\u001B[0mhandle\u001B[0m\u001B[1;33m=\u001B[0m\u001B[0m_new_alloc_handle\u001B[0m\u001B[1;33m(\u001B[0m\u001B[0mshape\u001B[0m\u001B[1;33m,\u001B[0m \u001B[0mctx\u001B[0m\u001B[1;33m,\u001B[0m \u001B[1;32mFalse\u001B[0m\u001B[1;33m,\u001B[0m \u001B[0mdtype\u001B[0m\u001B[1;33m)\u001B[0m\u001B[1;33m)\u001B[0m\u001B[1;33m\u001B[0m\u001B[1;33m\u001B[0m\u001B[0m\n\u001B[0m\u001B[0;32m   2228\u001B[0m \u001B[1;33m\u001B[0m\u001B[0m\n\u001B[0;32m   2229\u001B[0m \u001B[1;33m\u001B[0m\u001B[0m\n",
      "\u001B[1;32m~\\.conda\\envs\\jupyterlab-debugger\\lib\\site-packages\\mxnet\\numpy\\multiarray.py\u001B[0m in \u001B[0;36m_new_alloc_handle\u001B[1;34m(shape, ctx, delay_alloc, dtype)\u001B[0m\n\u001B[0;32m    102\u001B[0m         \u001B[0mctypes\u001B[0m\u001B[1;33m.\u001B[0m\u001B[0mc_int\u001B[0m\u001B[1;33m(\u001B[0m\u001B[0mctx\u001B[0m\u001B[1;33m.\u001B[0m\u001B[0mdevice_id\u001B[0m\u001B[1;33m)\u001B[0m\u001B[1;33m,\u001B[0m\u001B[1;33m\u001B[0m\u001B[1;33m\u001B[0m\u001B[0m\n\u001B[0;32m    103\u001B[0m         \u001B[0mctypes\u001B[0m\u001B[1;33m.\u001B[0m\u001B[0mc_int\u001B[0m\u001B[1;33m(\u001B[0m\u001B[0mint\u001B[0m\u001B[1;33m(\u001B[0m\u001B[0mdelay_alloc\u001B[0m\u001B[1;33m)\u001B[0m\u001B[1;33m)\u001B[0m\u001B[1;33m,\u001B[0m\u001B[1;33m\u001B[0m\u001B[1;33m\u001B[0m\u001B[0m\n\u001B[1;32m--> 104\u001B[1;33m         \u001B[0mctypes\u001B[0m\u001B[1;33m.\u001B[0m\u001B[0mc_int\u001B[0m\u001B[1;33m(\u001B[0m\u001B[0mint\u001B[0m\u001B[1;33m(\u001B[0m\u001B[0m_DTYPE_NP_TO_MX\u001B[0m\u001B[1;33m[\u001B[0m\u001B[0m_np\u001B[0m\u001B[1;33m.\u001B[0m\u001B[0mdtype\u001B[0m\u001B[1;33m(\u001B[0m\u001B[0mdtype\u001B[0m\u001B[1;33m)\u001B[0m\u001B[1;33m.\u001B[0m\u001B[0mtype\u001B[0m\u001B[1;33m]\u001B[0m\u001B[1;33m)\u001B[0m\u001B[1;33m)\u001B[0m\u001B[1;33m,\u001B[0m\u001B[1;33m\u001B[0m\u001B[1;33m\u001B[0m\u001B[0m\n\u001B[0m\u001B[0;32m    105\u001B[0m         ctypes.byref(hdl)))\n\u001B[0;32m    106\u001B[0m     \u001B[1;32mreturn\u001B[0m \u001B[0mhdl\u001B[0m\u001B[1;33m\u001B[0m\u001B[1;33m\u001B[0m\u001B[0m\n",
      "\u001B[1;31mKeyError\u001B[0m: <class 'numpy.object_'>"
     ]
    }
   ],
   "source": [
    "e = old.groupby(by='item_id')\n",
    "def qq(data):\n",
    "    e = np.array(data, dtype=object)\n",
    "\n",
    "    f = e[1, 1]\n",
    "    g = f[\"P@10\"]\n",
    "\n",
    "    q = []\n",
    "    for i in e:\n",
    "        q.append((i[0], np.average(i[1][\"P@10\"].values)))\n",
    "    r = pd.DataFrame(q, columns=[\"rec\", \"avg\"])\n",
    "    r[[\"rrec\", \"config\"]] = r.rec.str.split(\"(\", expand=True)\n",
    "    r.head()\n",
    "qq(e)"
   ],
   "metadata": {
    "collapsed": false,
    "pycharm": {
     "name": "#%%\n"
    }
   }
  },
  {
   "cell_type": "code",
   "execution_count": 4,
   "metadata": {},
   "outputs": [],
   "source": [
    "fr = rating[rating[\"gender\"] == \"M\"]\n",
    "mr = rating[rating[\"gender\"] == \"F\"]"
   ]
  },
  {
   "cell_type": "code",
   "execution_count": 5,
   "metadata": {},
   "outputs": [
    {
     "data": {
      "text/plain": "            item_id       user_id        rating     timestamp           age  \\\ncount  1.000209e+06  1.000209e+06  1.000209e+06  1.000209e+06  1.000209e+06   \nmean   1.865540e+03  3.024512e+03  3.581564e+00  9.722437e+08  2.973831e+01   \nstd    1.096041e+03  1.728413e+03  1.117102e+00  1.215256e+07  1.175198e+01   \nmin    1.000000e+00  1.000000e+00  1.000000e+00  9.567039e+08  1.000000e+00   \n25%    1.030000e+03  1.506000e+03  3.000000e+00  9.653026e+08  2.500000e+01   \n50%    1.835000e+03  3.070000e+03  4.000000e+00  9.730180e+08  2.500000e+01   \n75%    2.770000e+03  4.476000e+03  4.000000e+00  9.752209e+08  3.500000e+01   \nmax    3.952000e+03  6.040000e+03  5.000000e+00  1.046455e+09  5.600000e+01   \n\n         occupation  \ncount  1.000209e+06  \nmean   8.036138e+00  \nstd    6.531336e+00  \nmin    0.000000e+00  \n25%    2.000000e+00  \n50%    7.000000e+00  \n75%    1.400000e+01  \nmax    2.000000e+01  ",
      "text/html": "<div>\n<style scoped>\n    .dataframe tbody tr th:only-of-type {\n        vertical-align: middle;\n    }\n\n    .dataframe tbody tr th {\n        vertical-align: top;\n    }\n\n    .dataframe thead th {\n        text-align: right;\n    }\n</style>\n<table border=\"1\" class=\"dataframe\">\n  <thead>\n    <tr style=\"text-align: right;\">\n      <th></th>\n      <th>item_id</th>\n      <th>user_id</th>\n      <th>rating</th>\n      <th>timestamp</th>\n      <th>age</th>\n      <th>occupation</th>\n    </tr>\n  </thead>\n  <tbody>\n    <tr>\n      <th>count</th>\n      <td>1.000209e+06</td>\n      <td>1.000209e+06</td>\n      <td>1.000209e+06</td>\n      <td>1.000209e+06</td>\n      <td>1.000209e+06</td>\n      <td>1.000209e+06</td>\n    </tr>\n    <tr>\n      <th>mean</th>\n      <td>1.865540e+03</td>\n      <td>3.024512e+03</td>\n      <td>3.581564e+00</td>\n      <td>9.722437e+08</td>\n      <td>2.973831e+01</td>\n      <td>8.036138e+00</td>\n    </tr>\n    <tr>\n      <th>std</th>\n      <td>1.096041e+03</td>\n      <td>1.728413e+03</td>\n      <td>1.117102e+00</td>\n      <td>1.215256e+07</td>\n      <td>1.175198e+01</td>\n      <td>6.531336e+00</td>\n    </tr>\n    <tr>\n      <th>min</th>\n      <td>1.000000e+00</td>\n      <td>1.000000e+00</td>\n      <td>1.000000e+00</td>\n      <td>9.567039e+08</td>\n      <td>1.000000e+00</td>\n      <td>0.000000e+00</td>\n    </tr>\n    <tr>\n      <th>25%</th>\n      <td>1.030000e+03</td>\n      <td>1.506000e+03</td>\n      <td>3.000000e+00</td>\n      <td>9.653026e+08</td>\n      <td>2.500000e+01</td>\n      <td>2.000000e+00</td>\n    </tr>\n    <tr>\n      <th>50%</th>\n      <td>1.835000e+03</td>\n      <td>3.070000e+03</td>\n      <td>4.000000e+00</td>\n      <td>9.730180e+08</td>\n      <td>2.500000e+01</td>\n      <td>7.000000e+00</td>\n    </tr>\n    <tr>\n      <th>75%</th>\n      <td>2.770000e+03</td>\n      <td>4.476000e+03</td>\n      <td>4.000000e+00</td>\n      <td>9.752209e+08</td>\n      <td>3.500000e+01</td>\n      <td>1.400000e+01</td>\n    </tr>\n    <tr>\n      <th>max</th>\n      <td>3.952000e+03</td>\n      <td>6.040000e+03</td>\n      <td>5.000000e+00</td>\n      <td>1.046455e+09</td>\n      <td>5.600000e+01</td>\n      <td>2.000000e+01</td>\n    </tr>\n  </tbody>\n</table>\n</div>"
     },
     "execution_count": 5,
     "metadata": {},
     "output_type": "execute_result"
    }
   ],
   "source": [
    "rating.describe()\n",
    "# young = rating[rating['age'] == 'M']"
   ]
  },
  {
   "cell_type": "code",
   "execution_count": 4,
   "metadata": {},
   "outputs": [
    {
     "ename": "NameError",
     "evalue": "name 'fr' is not defined",
     "output_type": "error",
     "traceback": [
      "\u001B[1;31m---------------------------------------------------------------------------\u001B[0m",
      "\u001B[1;31mNameError\u001B[0m                                 Traceback (most recent call last)",
      "\u001B[1;32m<ipython-input-4-fed0629f2a22>\u001B[0m in \u001B[0;36m<module>\u001B[1;34m\u001B[0m\n\u001B[1;32m----> 1\u001B[1;33m \u001B[0mfr\u001B[0m\u001B[1;33m.\u001B[0m\u001B[0mto_csv\u001B[0m\u001B[1;33m(\u001B[0m\u001B[1;34mr'C:\\Projects\\RecSys2020\\datasets\\ml1m\\female\\ratings.dat'\u001B[0m\u001B[1;33m,\u001B[0m \u001B[0mindex\u001B[0m\u001B[1;33m=\u001B[0m\u001B[1;32mFalse\u001B[0m\u001B[1;33m)\u001B[0m\u001B[1;33m\u001B[0m\u001B[1;33m\u001B[0m\u001B[0m\n\u001B[0m\u001B[0;32m      2\u001B[0m \u001B[0mmr\u001B[0m\u001B[1;33m.\u001B[0m\u001B[0mto_csv\u001B[0m\u001B[1;33m(\u001B[0m\u001B[1;34mr'C:\\Projects\\RecSys2020\\datasets\\ml1m\\male\\ratings.dat'\u001B[0m\u001B[1;33m,\u001B[0m \u001B[0mindex\u001B[0m\u001B[1;33m=\u001B[0m\u001B[1;32mFalse\u001B[0m\u001B[1;33m)\u001B[0m\u001B[1;33m\u001B[0m\u001B[1;33m\u001B[0m\u001B[0m\n\u001B[0;32m      3\u001B[0m \u001B[1;33m\u001B[0m\u001B[0m\n",
      "\u001B[1;31mNameError\u001B[0m: name 'fr' is not defined"
     ]
    }
   ],
   "source": [
    "fr.to_csv(r\"C:\\Projects\\RecSys2020\\datasets\\ml1m\\female\\ratings.dat\", index=False)\n",
    "mr.to_csv(r\"C:\\Projects\\RecSys2020\\datasets\\ml1m\\male\\ratings.dat\", index=False)"
   ]
  },
  {
   "cell_type": "code",
   "execution_count": 86,
   "metadata": {},
   "outputs": [],
   "source": [
    "rating_by_gender = rating.groupby(\"gender\").size().sort_values(ascending=False)[:2]\n",
    "users_by_gender = rating.groupby(\"gender\").agg({\"user_id\": pd.Series.nunique})"
   ]
  },
  {
   "cell_type": "code",
   "execution_count": 87,
   "metadata": {},
   "outputs": [],
   "source": [
    "male_rating = rating[rating[\"gender\"] == \"M\"]\n",
    "female_rating = rating[rating[\"gender\"] == \"F\"]\n",
    "\n",
    "rating_by_gender"
   ]
  },
  {
   "cell_type": "code",
   "execution_count": 5,
   "metadata": {},
   "outputs": [
    {
     "ename": "TypeError",
     "evalue": "_repr_latex_() missing 1 required positional argument: 'self'",
     "output_type": "error",
     "traceback": [
      "\u001B[0;31m---------------------------------------------------------------------------\u001B[0m\n\u001B[0;31mTypeError\u001B[0m                                 Traceback (most recent call last)",
      "In  \u001B[0;34m[5]\u001B[0m:\nLine \u001B[0;34m1\u001B[0m:     \u001B[36mtype\u001B[39;49;00m(items[\u001B[33m\"\u001B[39;49;00m\u001B[33muser_id\u001B[39;49;00m\u001B[33m\"\u001B[39;49;00m])\n",
      "\u001B[0;31mTypeError\u001B[0m: _repr_latex_() missing 1 required positional argument: 'self'\n\u001B[0;31m---------------------------------------------------------------------------\u001B[0m"
     ]
    }
   ],
   "source": []
  },
  {
   "cell_type": "code",
   "execution_count": 2,
   "metadata": {},
   "outputs": [],
   "source": [
    "d2l.DATA_HUB[\"ml-100k\"] = (\n",
    "    \"http://files.grouplens.org/datasets/movielens/ml-100k.zip\",\n",
    "    \"cd4dcac4241c8a4ad7badc7ca635da8a69dddb83\",\n",
    ")\n",
    "\n",
    "\n",
    "data_dir = d2l.download_extract(\"ml-100k\")\n",
    "# names = ['user_id', 'item_id', 'rating', 'timestamp']\n",
    "# data = pd.read_csv(os.path.join(data_dir, 'u.data'), '\\t', names=names,\n",
    "#                   engine='python')\n",
    "\n",
    "# pass in column names for each CSV\n",
    "u_cols = [\"user_id\", \"age\", \"sex\", \"occupation\", \"zip_code\"]\n",
    "users = pd.read_csv(\n",
    "    os.path.join(data_dir, \"u.user\"), sep=\"|\", names=u_cols, encoding=\"latin-1\"\n",
    ")\n",
    "\n",
    "r_cols = [\"user_id\", \"movie_id\", \"rating\", \"unix_timestamp\"]\n",
    "ratings = pd.read_csv(\n",
    "    os.path.join(data_dir, \"u.data\"), sep=\"\\t\", names=r_cols, encoding=\"latin-1\"\n",
    ")\n",
    "\n",
    "# the movies file contains columns indicating the movie's genres\n",
    "# let's only load the first five columns of the file with usecols\n",
    "m_cols = [\"movie_id\", \"title\", \"release_date\", \"video_release_date\", \"imdb_url\"]\n",
    "movies = pd.read_csv(\n",
    "    os.path.join(data_dir, \"u.item\"),\n",
    "    sep=\"|\",\n",
    "    names=m_cols,\n",
    "    usecols=range(5),\n",
    "    encoding=\"latin-1\",\n",
    ")\n",
    "\n",
    "# create one merged DataFrame\n",
    "movie_ratings = pd.merge(movies, ratings)\n",
    "lens = pd.merge(movie_ratings, users)"
   ]
  },
  {
   "cell_type": "code",
   "execution_count": 7,
   "outputs": [
    {
     "data": {
      "text/plain": "943"
     },
     "execution_count": 7,
     "metadata": {},
     "output_type": "execute_result"
    }
   ],
   "source": [
    "lens.describe()\n",
    "\n",
    "lens['user_id'].unique().size"
   ],
   "metadata": {
    "collapsed": false,
    "pycharm": {
     "name": "#%%\n"
    }
   }
  },
  {
   "cell_type": "code",
   "execution_count": 8,
   "outputs": [],
   "source": [
    "young = lens[lens[\"age\"] < 19]\n",
    "old = lens[lens[\"age\"] > 55]"
   ],
   "metadata": {
    "collapsed": false,
    "pycharm": {
     "name": "#%%\n"
    }
   }
  },
  {
   "cell_type": "code",
   "execution_count": 12,
   "outputs": [
    {
     "data": {
      "text/plain": "54"
     },
     "execution_count": 12,
     "metadata": {},
     "output_type": "execute_result"
    }
   ],
   "source": [
    "young['user_id'].unique().size"
   ],
   "metadata": {
    "collapsed": false,
    "pycharm": {
     "name": "#%%\n"
    }
   }
  },
  {
   "cell_type": "code",
   "execution_count": null,
   "outputs": [],
   "source": [
    "bins = [0, 18, 25, 35, 45, 50, 56, 200]\n",
    "labels = [\"Under 18\", \"18-24\", \"25-34\", \"35-44\", \"45-49\", \"50-55\", \"56+\"]\n",
    "lens[\"AgeGroup\"] = pd.cut(lens[\"age\"], bins=bins, labels=labels, right=False)\n",
    "\n",
    "\n",
    "lens.head(150)\n",
    "# np.array(e[1].keys())"
   ],
   "metadata": {
    "collapsed": false,
    "pycharm": {
     "name": "#%%\n"
    }
   }
  },
  {
   "cell_type": "code",
   "execution_count": 13,
   "metadata": {
    "collapsed": false,
    "jupyter": {
     "outputs_hidden": false
    },
    "pycharm": {
     "name": "#%%\n"
    }
   },
   "outputs": [
    {
     "data": {
      "text/html": [
       "<div>\n",
       "<style scoped>\n",
       "    .dataframe tbody tr th:only-of-type {\n",
       "        vertical-align: middle;\n",
       "    }\n",
       "\n",
       "    .dataframe tbody tr th {\n",
       "        vertical-align: top;\n",
       "    }\n",
       "\n",
       "    .dataframe thead th {\n",
       "        text-align: right;\n",
       "    }\n",
       "</style>\n",
       "<table border=\"1\" class=\"dataframe\">\n",
       "  <thead>\n",
       "    <tr style=\"text-align: right;\">\n",
       "      <th></th>\n",
       "      <th>movie_id</th>\n",
       "      <th>title</th>\n",
       "      <th>release_date</th>\n",
       "      <th>video_release_date</th>\n",
       "      <th>imdb_url</th>\n",
       "      <th>user_id</th>\n",
       "      <th>rating</th>\n",
       "      <th>unix_timestamp</th>\n",
       "      <th>age</th>\n",
       "      <th>sex</th>\n",
       "      <th>occupation</th>\n",
       "      <th>zip_code</th>\n",
       "      <th>AgeGroup</th>\n",
       "    </tr>\n",
       "  </thead>\n",
       "  <tbody>\n",
       "    <tr>\n",
       "      <th>0</th>\n",
       "      <td>1</td>\n",
       "      <td>Toy Story (1995)</td>\n",
       "      <td>01-Jan-1995</td>\n",
       "      <td>NaN</td>\n",
       "      <td>http://us.imdb.com/M/title-exact?Toy%20Story%2...</td>\n",
       "      <td>308</td>\n",
       "      <td>4</td>\n",
       "      <td>887736532</td>\n",
       "      <td>60</td>\n",
       "      <td>M</td>\n",
       "      <td>retired</td>\n",
       "      <td>95076</td>\n",
       "      <td>56+</td>\n",
       "    </tr>\n",
       "    <tr>\n",
       "      <th>1</th>\n",
       "      <td>4</td>\n",
       "      <td>Get Shorty (1995)</td>\n",
       "      <td>01-Jan-1995</td>\n",
       "      <td>NaN</td>\n",
       "      <td>http://us.imdb.com/M/title-exact?Get%20Shorty%...</td>\n",
       "      <td>308</td>\n",
       "      <td>5</td>\n",
       "      <td>887737890</td>\n",
       "      <td>60</td>\n",
       "      <td>M</td>\n",
       "      <td>retired</td>\n",
       "      <td>95076</td>\n",
       "      <td>56+</td>\n",
       "    </tr>\n",
       "    <tr>\n",
       "      <th>2</th>\n",
       "      <td>5</td>\n",
       "      <td>Copycat (1995)</td>\n",
       "      <td>01-Jan-1995</td>\n",
       "      <td>NaN</td>\n",
       "      <td>http://us.imdb.com/M/title-exact?Copycat%20(1995)</td>\n",
       "      <td>308</td>\n",
       "      <td>4</td>\n",
       "      <td>887739608</td>\n",
       "      <td>60</td>\n",
       "      <td>M</td>\n",
       "      <td>retired</td>\n",
       "      <td>95076</td>\n",
       "      <td>56+</td>\n",
       "    </tr>\n",
       "    <tr>\n",
       "      <th>3</th>\n",
       "      <td>7</td>\n",
       "      <td>Twelve Monkeys (1995)</td>\n",
       "      <td>01-Jan-1995</td>\n",
       "      <td>NaN</td>\n",
       "      <td>http://us.imdb.com/M/title-exact?Twelve%20Monk...</td>\n",
       "      <td>308</td>\n",
       "      <td>4</td>\n",
       "      <td>887738847</td>\n",
       "      <td>60</td>\n",
       "      <td>M</td>\n",
       "      <td>retired</td>\n",
       "      <td>95076</td>\n",
       "      <td>56+</td>\n",
       "    </tr>\n",
       "    <tr>\n",
       "      <th>4</th>\n",
       "      <td>8</td>\n",
       "      <td>Babe (1995)</td>\n",
       "      <td>01-Jan-1995</td>\n",
       "      <td>NaN</td>\n",
       "      <td>http://us.imdb.com/M/title-exact?Babe%20(1995)</td>\n",
       "      <td>308</td>\n",
       "      <td>5</td>\n",
       "      <td>887736696</td>\n",
       "      <td>60</td>\n",
       "      <td>M</td>\n",
       "      <td>retired</td>\n",
       "      <td>95076</td>\n",
       "      <td>56+</td>\n",
       "    </tr>\n",
       "  </tbody>\n",
       "</table>\n",
       "</div>"
      ],
      "text/plain": [
       "   movie_id                  title release_date  video_release_date  \\\n",
       "0         1       Toy Story (1995)  01-Jan-1995                 NaN   \n",
       "1         4      Get Shorty (1995)  01-Jan-1995                 NaN   \n",
       "2         5         Copycat (1995)  01-Jan-1995                 NaN   \n",
       "3         7  Twelve Monkeys (1995)  01-Jan-1995                 NaN   \n",
       "4         8            Babe (1995)  01-Jan-1995                 NaN   \n",
       "\n",
       "                                            imdb_url  user_id  rating  \\\n",
       "0  http://us.imdb.com/M/title-exact?Toy%20Story%2...      308       4   \n",
       "1  http://us.imdb.com/M/title-exact?Get%20Shorty%...      308       5   \n",
       "2  http://us.imdb.com/M/title-exact?Copycat%20(1995)      308       4   \n",
       "3  http://us.imdb.com/M/title-exact?Twelve%20Monk...      308       4   \n",
       "4     http://us.imdb.com/M/title-exact?Babe%20(1995)      308       5   \n",
       "\n",
       "   unix_timestamp  age sex occupation zip_code AgeGroup  \n",
       "0       887736532   60   M    retired    95076      56+  \n",
       "1       887737890   60   M    retired    95076      56+  \n",
       "2       887739608   60   M    retired    95076      56+  \n",
       "3       887738847   60   M    retired    95076      56+  \n",
       "4       887736696   60   M    retired    95076      56+  "
      ]
     },
     "execution_count": 13,
     "metadata": {},
     "output_type": "execute_result"
    }
   ],
   "source": [
    "def groupby2(by):\n",
    "    r = lens.groupby(by).size()\n",
    "    u = lens.groupby(by).agg({\"user_id\": pd.Series.nunique})\n",
    "    ppp = pd.DataFrame(\n",
    "        data=[r.tolist(), np.array(u)],\n",
    "        index=[\"ratings\", \"users\"],\n",
    "        columns=lens.groupby(by).size().keys().tolist(),\n",
    "    )\n",
    "    return ppp\n",
    "\n",
    "\n",
    "e = []\n",
    "for i in [\"sex\", \"AgeGroup\", \"occupation\"]:\n",
    "    e.append(groupby2(i))\n",
    "\n",
    "lens.head()"
   ]
  },
  {
   "cell_type": "code",
   "execution_count": 14,
   "metadata": {
    "collapsed": false,
    "jupyter": {
     "outputs_hidden": false
    },
    "pycharm": {
     "name": "#%%\n"
    }
   },
   "outputs": [
    {
     "data": {
      "text/html": [
       "<div>\n",
       "<style scoped>\n",
       "    .dataframe tbody tr th:only-of-type {\n",
       "        vertical-align: middle;\n",
       "    }\n",
       "\n",
       "    .dataframe tbody tr th {\n",
       "        vertical-align: top;\n",
       "    }\n",
       "\n",
       "    .dataframe thead th {\n",
       "        text-align: right;\n",
       "    }\n",
       "</style>\n",
       "<table border=\"1\" class=\"dataframe\">\n",
       "  <thead>\n",
       "    <tr style=\"text-align: right;\">\n",
       "      <th></th>\n",
       "      <th>ratings</th>\n",
       "      <th>users</th>\n",
       "    </tr>\n",
       "  </thead>\n",
       "  <tbody>\n",
       "    <tr>\n",
       "      <th>Under 18</th>\n",
       "      <td>2491</td>\n",
       "      <td>[[[[36.]]]]</td>\n",
       "    </tr>\n",
       "    <tr>\n",
       "      <th>18-24</th>\n",
       "      <td>24060</td>\n",
       "      <td>[[[[198.]]]]</td>\n",
       "    </tr>\n",
       "    <tr>\n",
       "      <th>25-34</th>\n",
       "      <td>35444</td>\n",
       "      <td>[[[[310.]]]]</td>\n",
       "    </tr>\n",
       "    <tr>\n",
       "      <th>35-44</th>\n",
       "      <td>19591</td>\n",
       "      <td>[[[[194.]]]]</td>\n",
       "    </tr>\n",
       "    <tr>\n",
       "      <th>45-49</th>\n",
       "      <td>6890</td>\n",
       "      <td>[[[[80.]]]]</td>\n",
       "    </tr>\n",
       "    <tr>\n",
       "      <th>50-55</th>\n",
       "      <td>6534</td>\n",
       "      <td>[[[[73.]]]]</td>\n",
       "    </tr>\n",
       "    <tr>\n",
       "      <th>56+</th>\n",
       "      <td>4990</td>\n",
       "      <td>[[[[52.]]]]</td>\n",
       "    </tr>\n",
       "  </tbody>\n",
       "</table>\n",
       "</div>"
      ],
      "text/plain": [
       "         ratings         users\n",
       "Under 18    2491   [[[[36.]]]]\n",
       "18-24      24060  [[[[198.]]]]\n",
       "25-34      35444  [[[[310.]]]]\n",
       "35-44      19591  [[[[194.]]]]\n",
       "45-49       6890   [[[[80.]]]]\n",
       "50-55       6534   [[[[73.]]]]\n",
       "56+         4990   [[[[52.]]]]"
      ]
     },
     "execution_count": 14,
     "metadata": {},
     "output_type": "execute_result"
    }
   ],
   "source": [
    "e[1].T"
   ]
  },
  {
   "cell_type": "code",
   "execution_count": 29,
   "metadata": {
    "collapsed": false,
    "jupyter": {
     "outputs_hidden": false
    },
    "pycharm": {
     "name": "#%%\n"
    }
   },
   "outputs": [
    {
     "data": {
      "text/html": [
       "<div>\n",
       "<style scoped>\n",
       "    .dataframe tbody tr th:only-of-type {\n",
       "        vertical-align: middle;\n",
       "    }\n",
       "\n",
       "    .dataframe tbody tr th {\n",
       "        vertical-align: top;\n",
       "    }\n",
       "\n",
       "    .dataframe thead th {\n",
       "        text-align: right;\n",
       "    }\n",
       "</style>\n",
       "<table border=\"1\" class=\"dataframe\">\n",
       "  <thead>\n",
       "    <tr style=\"text-align: right;\">\n",
       "      <th></th>\n",
       "      <th>movie_id</th>\n",
       "      <th>video_release_date</th>\n",
       "      <th>user_id</th>\n",
       "      <th>rating</th>\n",
       "      <th>unix_timestamp</th>\n",
       "      <th>age</th>\n",
       "    </tr>\n",
       "  </thead>\n",
       "  <tbody>\n",
       "    <tr>\n",
       "      <th>count</th>\n",
       "      <td>4710.000000</td>\n",
       "      <td>0.0</td>\n",
       "      <td>4710.000000</td>\n",
       "      <td>4710.000000</td>\n",
       "      <td>4.710000e+03</td>\n",
       "      <td>4710.000000</td>\n",
       "    </tr>\n",
       "    <tr>\n",
       "      <th>mean</th>\n",
       "      <td>461.844161</td>\n",
       "      <td>NaN</td>\n",
       "      <td>569.222930</td>\n",
       "      <td>3.552229</td>\n",
       "      <td>8.837090e+08</td>\n",
       "      <td>16.469427</td>\n",
       "    </tr>\n",
       "    <tr>\n",
       "      <th>std</th>\n",
       "      <td>351.680234</td>\n",
       "      <td>NaN</td>\n",
       "      <td>230.513726</td>\n",
       "      <td>1.213348</td>\n",
       "      <td>4.854273e+06</td>\n",
       "      <td>2.057524</td>\n",
       "    </tr>\n",
       "    <tr>\n",
       "      <th>min</th>\n",
       "      <td>1.000000</td>\n",
       "      <td>NaN</td>\n",
       "      <td>30.000000</td>\n",
       "      <td>1.000000</td>\n",
       "      <td>8.747282e+08</td>\n",
       "      <td>7.000000</td>\n",
       "    </tr>\n",
       "    <tr>\n",
       "      <th>25%</th>\n",
       "      <td>186.250000</td>\n",
       "      <td>NaN</td>\n",
       "      <td>434.000000</td>\n",
       "      <td>3.000000</td>\n",
       "      <td>8.801678e+08</td>\n",
       "      <td>15.000000</td>\n",
       "    </tr>\n",
       "    <tr>\n",
       "      <th>50%</th>\n",
       "      <td>339.000000</td>\n",
       "      <td>NaN</td>\n",
       "      <td>592.000000</td>\n",
       "      <td>4.000000</td>\n",
       "      <td>8.829610e+08</td>\n",
       "      <td>17.000000</td>\n",
       "    </tr>\n",
       "    <tr>\n",
       "      <th>75%</th>\n",
       "      <td>721.000000</td>\n",
       "      <td>NaN</td>\n",
       "      <td>674.000000</td>\n",
       "      <td>5.000000</td>\n",
       "      <td>8.881800e+08</td>\n",
       "      <td>18.000000</td>\n",
       "    </tr>\n",
       "    <tr>\n",
       "      <th>max</th>\n",
       "      <td>1680.000000</td>\n",
       "      <td>NaN</td>\n",
       "      <td>925.000000</td>\n",
       "      <td>5.000000</td>\n",
       "      <td>8.930908e+08</td>\n",
       "      <td>18.000000</td>\n",
       "    </tr>\n",
       "  </tbody>\n",
       "</table>\n",
       "</div>"
      ],
      "text/plain": [
       "          movie_id  video_release_date      user_id       rating  \\\n",
       "count  4710.000000                 0.0  4710.000000  4710.000000   \n",
       "mean    461.844161                 NaN   569.222930     3.552229   \n",
       "std     351.680234                 NaN   230.513726     1.213348   \n",
       "min       1.000000                 NaN    30.000000     1.000000   \n",
       "25%     186.250000                 NaN   434.000000     3.000000   \n",
       "50%     339.000000                 NaN   592.000000     4.000000   \n",
       "75%     721.000000                 NaN   674.000000     5.000000   \n",
       "max    1680.000000                 NaN   925.000000     5.000000   \n",
       "\n",
       "       unix_timestamp          age  \n",
       "count    4.710000e+03  4710.000000  \n",
       "mean     8.837090e+08    16.469427  \n",
       "std      4.854273e+06     2.057524  \n",
       "min      8.747282e+08     7.000000  \n",
       "25%      8.801678e+08    15.000000  \n",
       "50%      8.829610e+08    17.000000  \n",
       "75%      8.881800e+08    18.000000  \n",
       "max      8.930908e+08    18.000000  "
      ]
     },
     "execution_count": 29,
     "metadata": {},
     "output_type": "execute_result"
    }
   ],
   "source": []
  },
  {
   "cell_type": "code",
   "execution_count": 41,
   "metadata": {
    "collapsed": false,
    "jupyter": {
     "outputs_hidden": false
    },
    "pycharm": {
     "name": "#%%\n"
    }
   },
   "outputs": [
    {
     "name": "stdout",
     "output_type": "stream",
     "text": [
      "Creation of the directory C:\\Projects\\RecSys2020\\datasets\\ml100k\\young failed\n",
      "Creation of the directory C:\\Projects\\RecSys2020\\datasets\\ml100k\\old failed\n",
      "1012 1042\n"
     ]
    }
   ],
   "source": [
    "def save_csv(data):\n",
    "    values = data[\"lens\"].sort_values(by=\"user_id\")\n",
    "\n",
    "    try:\n",
    "        os.mkdir(data[\"path\"])\n",
    "    except OSError:\n",
    "        print(\"Creation of the directory %s failed\" % data[\"path\"])\n",
    "    else:\n",
    "        print(\"Successfully created the directory %s \" % data[\"path\"])\n",
    "\n",
    "    csv_path = os.path.join(data[\"path\"], \"data.txt\")\n",
    "    values.to_csv(\n",
    "        csv_path,\n",
    "        index=False,\n",
    "        header=False,\n",
    "        columns=[\"user_id\", \"movie_id\", \"rating\", \"unix_timestamp\"],\n",
    "        sep=\"\\t\",\n",
    "    )\n",
    "\n",
    "young = lens[lens[\"age\"] < 19]\n",
    "old = lens[lens[\"age\"] > 55]\n",
    "\n",
    "path = os.path.join(r\"C:\\Projects\\RecSys2020\\datasets\\ml100k\", \"young\")\n",
    "save_csv({\"lens\": young, \"path\": path})\n",
    "\n",
    "path = os.path.join(r\"C:\\Projects\\RecSys2020\\datasets\\ml100k\", \"old\")\n",
    "save_csv({\"lens\": old, \"path\": path})\n",
    "\n",
    "print(young['movie_id'].unique().size, old['movie_id'].unique().size)"
   ]
  },
  {
   "cell_type": "code",
   "execution_count": 40,
   "metadata": {
    "collapsed": false,
    "jupyter": {
     "outputs_hidden": false
    },
    "pycharm": {
     "name": "#%%\n"
    }
   },
   "outputs": [
    {
     "data": {
      "text/plain": "1012"
     },
     "execution_count": 40,
     "metadata": {},
     "output_type": "execute_result"
    }
   ],
   "source": [
    "young['movie_id'].unique().size\n"
   ]
  },
  {
   "cell_type": "code",
   "execution_count": null,
   "metadata": {
    "collapsed": false,
    "jupyter": {
     "outputs_hidden": false
    },
    "pycharm": {
     "name": "#%%\n"
    }
   },
   "outputs": [],
   "source": [
    "data_dirM = r\"C:\\Projects\\RecSys2020\\datasets\\ml100k\\male\\\\\"\n",
    "data_dirF = r\"C:\\Projects\\RecSys2020\\datasets\\ml100k\\female\\\\\"\n",
    "\n",
    "fr = lens[lens[\"sex\"] == \"F\"].sort_values(by=\"user_id\")\n",
    "mr = lens[lens[\"sex\"] == \"M\"].sort_values(by=\"user_id\")\n",
    "\n",
    "rating_columns = [\"user_id\", \"movie_id\", \"rating\", \"unix_timestamp\"]\n",
    "fname = \"data.txt\"\n",
    "params = dict(index=False, header=False, columns=rating_columns, sep=\"\\t\")\n",
    "fr.to_csv(os.path.join(data_dirF, fname), **params)\n",
    "mr.to_csv(os.path.join(data_dirM, fname), **params)"
   ]
  },
  {
   "cell_type": "code",
   "execution_count": 5,
   "metadata": {},
   "outputs": [
    {
     "data": {
      "text/plain": [
       "title\n",
       "Star Wars (1977)             583\n",
       "Contact (1997)               509\n",
       "Fargo (1996)                 508\n",
       "Return of the Jedi (1983)    507\n",
       "Liar Liar (1997)             485\n",
       "dtype: int64"
      ]
     },
     "execution_count": 5,
     "metadata": {},
     "output_type": "execute_result"
    }
   ],
   "source": [
    "most_rated = lens.groupby(\"title\").size().sort_values(ascending=False)[:5]\n",
    "most_rated"
   ]
  },
  {
   "cell_type": "code",
   "execution_count": 6,
   "metadata": {},
   "outputs": [
    {
     "data": {
      "text/plain": [
       "Star Wars (1977)             583\n",
       "Contact (1997)               509\n",
       "Fargo (1996)                 508\n",
       "Return of the Jedi (1983)    507\n",
       "Liar Liar (1997)             485\n",
       "Name: title, dtype: int64"
      ]
     },
     "execution_count": 6,
     "metadata": {},
     "output_type": "execute_result"
    }
   ],
   "source": [
    "lens.title.value_counts()[:5]\n",
    "# SELECT title, count(1)\n",
    "# FROM lens\n",
    "# GROUP BY title\n",
    "# ORDER BY 2 DESC\n",
    "# LIMIT 25;"
   ]
  },
  {
   "cell_type": "code",
   "execution_count": 8,
   "metadata": {},
   "outputs": [
    {
     "name": "stdout",
     "output_type": "stream",
     "text": [
      "943\n",
      "1682\n",
      "2\n",
      "21\n",
      "795\n"
     ]
    }
   ],
   "source": [
    "print(lens.user_id.unique().shape[0])\n",
    "print(lens.movie_id.unique().shape[0])\n",
    "print(lens.sex.unique().shape[0])\n",
    "print(lens.occupation.unique().shape[0])\n",
    "print(lens.zip_code.unique().shape[0])\n",
    "\n",
    "##http://www.gregreda.com/2013/10/26/using-pandas-on-the-movielens-dataset/"
   ]
  },
  {
   "cell_type": "markdown",
   "metadata": {},
   "source": [
    "rating_by_gender = lens.groupby(\"sex\").size().sort_values(ascending=False)[:2]\n",
    "users_by_gender = lens.groupby(\"sex\").agg({\"user_id\": pd.Series.nunique})\n",
    "# .size().sort_values(ascending=False)[:2]"
   ]
  },
  {
   "cell_type": "code",
   "execution_count": 55,
   "metadata": {},
   "outputs": [
    {
     "name": "stdout",
     "output_type": "stream",
     "text": [
      "users_by_gender 0.7104984093319194 0.28950159066808057\n",
      "rating_by_gender 0.7426 0.2574\n"
     ]
    }
   ],
   "source": [
    "print(\n",
    "    \"users_by_gender\",\n",
    "    users_by_gender[\"user_id\"][\"M\"] / users_by_gender.sum()[0],\n",
    "    users_by_gender[\"user_id\"][\"F\"] / users_by_gender.sum()[0],\n",
    ")\n",
    "\n",
    "print(\n",
    "    \"rating_by_gender\",\n",
    "    rating_by_gender[\"M\"] / rating_by_gender.sum(),\n",
    "    rating_by_gender[\"F\"] / rating_by_gender.sum(),\n",
    ")"
   ]
  },
  {
   "cell_type": "code",
   "execution_count": 50,
   "metadata": {},
   "outputs": [
    {
     "data": {
      "text/plain": [
       "100000"
      ]
     },
     "execution_count": 50,
     "metadata": {},
     "output_type": "execute_result"
    }
   ],
   "source": [
    "users_by_gender[\"user_id\"].sum()"
   ]
  },
  {
   "cell_type": "code",
   "execution_count": 52,
   "metadata": {},
   "outputs": [
    {
     "data": {
      "text/plain": [
       "943"
      ]
     },
     "execution_count": 52,
     "metadata": {},
     "output_type": "execute_result"
    }
   ],
   "source": [
    "users_by_gender.sum()[0]"
   ]
  },
  {
   "cell_type": "code",
   "execution_count": null,
   "metadata": {},
   "outputs": [],
   "source": [
    "import matplotlib.pyplot as plt\n",
    "import numpy as np\n",
    "from matplotlib.patches import Patch\n",
    "from sklearn.model_selection import (\n",
    "    GroupKFold,\n",
    "    ShuffleSplit,\n",
    "    StratifiedKFold,\n",
    "    StratifiedShuffleSplit,\n",
    "    TimeSeriesSplit,\n",
    ")\n",
    "\n",
    "np.random.seed(1338)\n",
    "cmap_data = plt.cm.Paired\n",
    "cmap_cv = plt.cm.coolwarm\n",
    "n_splits = 4"
   ]
  },
  {
   "cell_type": "code",
   "execution_count": null,
   "metadata": {},
   "outputs": [],
   "source": [
    "y = np.array(lens[\"sex\"])\n",
    "groups = [\"red\", \"blue\"]\n",
    "\n",
    "\n",
    "def visualize_groups(classes, groups, name):\n",
    "    # Visualize dataset groups\n",
    "    fig, ax = plt.subplots()\n",
    "    ax.scatter(\n",
    "        range(len(groups)),\n",
    "        [0.5] * len(groups),\n",
    "        c=groups,\n",
    "        marker=\"_\",\n",
    "        lw=50,\n",
    "        cmap=cmap_data,\n",
    "    )\n",
    "    ax.scatter(\n",
    "        range(len(groups)),\n",
    "        [3.5] * len(groups),\n",
    "        c=classes,\n",
    "        marker=\"_\",\n",
    "        lw=50,\n",
    "        cmap=cmap_data,\n",
    "    )\n",
    "    ax.set(\n",
    "        ylim=[-1, 5],\n",
    "        yticks=[0.5, 3.5],\n",
    "        yticklabels=[\"Data\\ngroup\", \"Data\\nclass\"],\n",
    "        xlabel=\"Sample index\",\n",
    "    )\n",
    "\n",
    "\n",
    "visualize_groups(y, groups, \"no groups\")\n",
    "plt.show()"
   ]
  },
  {
   "cell_type": "code",
   "execution_count": 6,
   "metadata": {},
   "outputs": [
    {
     "ename": "NameError",
     "evalue": "name 'plt' is not defined",
     "output_type": "error",
     "traceback": [
      "\u001B[0;31m---------------------------------------------------------------------------\u001B[0m\n\u001B[0;31mNameError\u001B[0m                                 Traceback (most recent call last)",
      "In  \u001B[0;34m[6]\u001B[0m:\nLine \u001B[0;34m1\u001B[0m:     plt.show()\n",
      "\u001B[0;31mNameError\u001B[0m: name 'plt' is not defined\n\u001B[0;31m---------------------------------------------------------------------------\u001B[0m"
     ]
    }
   ],
   "source": [
    "plt.show()"
   ]
  },
  {
   "cell_type": "code",
   "execution_count": 7,
   "metadata": {},
   "outputs": [
    {
     "ename": "NameError",
     "evalue": "name 'lens' is not defined",
     "output_type": "error",
     "traceback": [
      "\u001B[0;31m---------------------------------------------------------------------------\u001B[0m\n\u001B[0;31mNameError\u001B[0m                                 Traceback (most recent call last)",
      "In  \u001B[0;34m[7]\u001B[0m:\nLine \u001B[0;34m1\u001B[0m:     lens[\u001B[33m\"\u001B[39;49;00m\u001B[33msex\u001B[39;49;00m\u001B[33m\"\u001B[39;49;00m].unique()\n",
      "\u001B[0;31mNameError\u001B[0m: name 'lens' is not defined\n\u001B[0;31m---------------------------------------------------------------------------\u001B[0m"
     ]
    }
   ],
   "source": [
    "lens[\"sex\"].unique()\n",
    "%pylab inline"
   ]
  },
  {
   "cell_type": "code",
   "execution_count": 238,
   "metadata": {},
   "outputs": [],
   "source": [
    "def plot_cv_indices(cv, X, y, group, ax, n_splits, lw=10):\n",
    "    \"\"\"Create a sample plot for indices of a cross-validation object.\"\"\"\n",
    "\n",
    "    # Generate the training/testing visualizations for each CV split\n",
    "    for ii, (tr, tt) in enumerate(cv.split(X=X, y=y, groups=group)):\n",
    "        # Fill in indices with the training/test groups\n",
    "        indices = np.array([np.nan] * len(X))\n",
    "        indices[tt] = 1\n",
    "        indices[tr] = 0\n",
    "\n",
    "        # Visualize the results\n",
    "        ax.scatter(\n",
    "            range(len(indices)),\n",
    "            [ii + 0.5] * len(indices),\n",
    "            c=indices,\n",
    "            marker=\"_\",\n",
    "            lw=lw,\n",
    "            cmap=cmap_cv,\n",
    "            vmin=-0.2,\n",
    "            vmax=1.2,\n",
    "        )\n",
    "\n",
    "    # Plot the data classes and groups at the end\n",
    "    ax.scatter(\n",
    "        range(len(X)), [ii + 1.5] * len(X), c=y, marker=\"_\", lw=lw, cmap=cmap_data\n",
    "    )\n",
    "\n",
    "    ax.scatter(\n",
    "        range(len(X)), [ii + 2.5] * len(X), c=group, marker=\"_\", lw=lw, cmap=cmap_data\n",
    "    )\n",
    "\n",
    "    # Formatting\n",
    "    yticklabels = list(range(n_splits)) + [\"class\", \"group\"]\n",
    "    ax.set(\n",
    "        yticks=np.arange(n_splits + 2) + 0.5,\n",
    "        yticklabels=yticklabels,\n",
    "        xlabel=\"Sample index\",\n",
    "        ylabel=\"CV iteration\",\n",
    "        ylim=[n_splits + 2.2, -0.2],\n",
    "        xlim=[0, 100],\n",
    "    )\n",
    "    ax.set_title(\"{}\".format(type(cv).__name__), fontsize=15)\n",
    "    return ax"
   ]
  },
  {
   "cell_type": "code",
   "execution_count": 239,
   "metadata": {},
   "outputs": [],
   "source": [
    "fig, ax = plt.subplots()\n",
    "cv = StratifiedKFold(n_splits)\n",
    "lens[\"sexcode\"] = pd.factorize(lens[\"sex\"])[0] + 1\n",
    "groups = np.array(lens[\"sexcode\"])\n",
    "plot_cv_indices(cv, lens, lens[\"sexcode\"], groups, ax, n_splits)\n",
    "\n",
    "ax.legend(\n",
    "    [Patch(color=cmap_cv(0.8)), Patch(color=cmap_cv(0.02))],\n",
    "    [\"Testing set\", \"Training set\"],\n",
    "    loc=(1.02, 0.8),\n",
    ")\n",
    "plt.tight_layout()\n",
    "fig.subplots_adjust(right=0.7)\n",
    "plt.show()"
   ]
  },
  {
   "cell_type": "code",
   "execution_count": 124,
   "metadata": {},
   "outputs": [
    {
     "data": {
      "text/plain": [
       "array([1, 1, 1, ..., 1, 1, 1], dtype=int64)"
      ]
     },
     "execution_count": 124,
     "metadata": {},
     "output_type": "execute_result"
    }
   ],
   "source": [
    "pd.factorize(lens[\"sex\"])[0] + 1"
   ]
  },
  {
   "cell_type": "code",
   "execution_count": 177,
   "metadata": {},
   "outputs": [
    {
     "ename": "AttributeError",
     "evalue": "'numpy.ndarray' object has no attribute 'count'",
     "output_type": "error",
     "traceback": [
      "\u001B[0;31m---------------------------------------------------------------------------\u001B[0m\n\u001B[0;31mAttributeError\u001B[0m                            Traceback (most recent call last)",
      "In  \u001B[0;34m[177]\u001B[0m:\nLine \u001B[0;34m2\u001B[0m:     \u001B[36mprint\u001B[39;49;00m(lens[\u001B[33m'\u001B[39;49;00m\u001B[33msexcode\u001B[39;49;00m\u001B[33m'\u001B[39;49;00m].values.count(\u001B[33m'\u001B[39;49;00m\u001B[33mM\u001B[39;49;00m\u001B[33m'\u001B[39;49;00m))\n",
      "\u001B[0;31mAttributeError\u001B[0m: 'numpy.ndarray' object has no attribute 'count'\n\u001B[0;31m---------------------------------------------------------------------------\u001B[0m"
     ]
    }
   ],
   "source": [
    "x = lens[\"sexcode\"].where(lens[\"sexcode\"] == 2)\n",
    "print(lens[\"sexcode\"].values.count(\"M\"))"
   ]
  },
  {
   "cell_type": "code",
   "execution_count": 90,
   "metadata": {},
   "outputs": [
    {
     "name": "stdout",
     "output_type": "stream",
     "text": [
      "[0 0 0 0 0 0 0 0 0 0 1 1 1 1 1 1 1 1 1 1 2 2 2 2 2 2 2 2 2 2 3 3 3 3 3 3 3\n",
      " 3 3 3 4 4 4 4 4 4 4 4 4 4 5 5 5 5 5 5 5 5 5 5 6 6 6 6 6 6 6 6 6 6 7 7 7 7\n",
      " 7 7 7 7 7 7 8 8 8 8 8 8 8 8 8 8 9 9 9 9 9 9 9 9 9 9]\n",
      "100\n"
     ]
    }
   ],
   "source": [
    "groups = np.hstack([[ii] * 10 for ii in range(10)])\n",
    "print(groups)\n",
    "print(len(groups))"
   ]
  },
  {
   "cell_type": "code",
   "execution_count": 182,
   "metadata": {},
   "outputs": [
    {
     "data": {
      "text/plain": [
       "524         1\n",
       "525         2\n",
       "526         3\n",
       "527         4\n",
       "528         5\n",
       "         ... \n",
       "99974     682\n",
       "99975     873\n",
       "99976     877\n",
       "99977     886\n",
       "99978    1527\n",
       "Name: movie_id, Length: 25740, dtype: int64"
      ]
     },
     "execution_count": 182,
     "metadata": {},
     "output_type": "execute_result"
    }
   ],
   "source": [
    "lens[lens[\"sex\"] == \"F\"].movie_id"
   ]
  },
  {
   "cell_type": "code",
   "execution_count": 166,
   "metadata": {},
   "outputs": [
    {
     "name": "stdout",
     "output_type": "stream",
     "text": [
      "[['F' 'M']\n",
      " [25740 74260]]\n"
     ]
    }
   ],
   "source": [
    "lens[\"sex\"].values\n",
    "unique, counts = np.unique(lens[\"sex\"].values, return_counts=True)\n",
    "\n",
    "print(np.asarray((unique, counts)))"
   ]
  },
  {
   "cell_type": "code",
   "execution_count": 172,
   "metadata": {},
   "outputs": [
    {
     "name": "stdout",
     "output_type": "stream",
     "text": [
      "25740\n",
      "74260\n",
      "100000\n"
     ]
    }
   ],
   "source": [
    "j = 0\n",
    "y = 0\n",
    "for i in pd.factorize(lens[\"sex\"])[0] + 1:\n",
    "    if i == 2:\n",
    "        j += 1\n",
    "    else:\n",
    "        y += 1\n",
    "print(j)\n",
    "print(y)\n",
    "\n",
    "print(j + y)"
   ]
  },
  {
   "cell_type": "code",
   "execution_count": 185,
   "metadata": {},
   "outputs": [
    {
     "name": "stdout",
     "output_type": "stream",
     "text": [
      "50000 50000\n",
      "50000 50000\n"
     ]
    }
   ],
   "source": [
    "import numpy as np\n",
    "from sklearn.model_selection import KFold\n",
    "\n",
    "X = [\"a\", \"b\", \"c\", \"d\"]\n",
    "kf = KFold(n_splits=2)\n",
    "for train, test in kf.split(lens):\n",
    "    print(\"%s %s\" % (len(train), len(test)))"
   ]
  },
  {
   "cell_type": "code",
   "execution_count": 226,
   "metadata": {},
   "outputs": [],
   "source": [
    "# Generate the class/group data\n",
    "n_points = 100000\n",
    "X = np.array(lens[\"rating\"])  # np.random.randn(100, 10)\n",
    "y = np.array(lens[\"sexcode\"]).T\n",
    "groups = pd.factorize(lens[\"age\"])[0] + 1\n",
    "ageGroups = pd.factorize(lens[\"age\"])[0] + 1\n",
    "occupationGroups = pd.factorize(lens[\"occupation\"])[0] + 1"
   ]
  },
  {
   "cell_type": "code",
   "execution_count": 240,
   "metadata": {},
   "outputs": [
    {
     "ename": "ValueError",
     "evalue": "'c' argument must be a color, a sequence of colors, or a sequence of numbers, not ['M' 'M' 'M' ... 'M' 'M' 'M']",
     "output_type": "error",
     "traceback": [
      "\u001B[0;31m---------------------------------------------------------------------------\u001B[0m\n\u001B[0;31mValueError\u001B[0m                                Traceback (most recent call last)",
      "In  \u001B[0;34m[240]\u001B[0m:\nLine \u001B[0;34m12\u001B[0m:    \n",
      "In  \u001B[0;34m[240]\u001B[0m:\nLine \u001B[0;34m6\u001B[0m:     ax.scatter(\u001B[36mrange\u001B[39;49;00m(\u001B[36mlen\u001B[39;49;00m(groups)),  [.\u001B[34m5\u001B[39;49;00m] * \u001B[36mlen\u001B[39;49;00m(groups), c=groups, marker=\u001B[33m'\u001B[39;49;00m\u001B[33m_\u001B[39;49;00m\u001B[33m'\u001B[39;49;00m,\n",
      "File \u001B[0;34mC:\\Users\\pavel\\.conda\\envs\\jupyterlab-debugger\\lib\\site-packages\\matplotlib\\__init__.py\u001B[0m, in \u001B[0;32minner\u001B[0m:\nLine \u001B[0;34m1438\u001B[0m:  \u001B[34mreturn\u001B[39;49;00m func(ax, *\u001B[36mmap\u001B[39;49;00m(sanitize_sequence, args), **kwargs)\n",
      "File \u001B[0;34mC:\\Users\\pavel\\.conda\\envs\\jupyterlab-debugger\\lib\\site-packages\\matplotlib\\cbook\\deprecation.py\u001B[0m, in \u001B[0;32mwrapper\u001B[0m:\nLine \u001B[0;34m411\u001B[0m:   \u001B[34mreturn\u001B[39;49;00m func(*inner_args, **inner_kwargs)\n",
      "File \u001B[0;34mC:\\Users\\pavel\\.conda\\envs\\jupyterlab-debugger\\lib\\site-packages\\matplotlib\\axes\\_axes.py\u001B[0m, in \u001B[0;32mscatter\u001B[0m:\nLine \u001B[0;34m4451\u001B[0m:  \u001B[36mself\u001B[39;49;00m._parse_scatter_color_args(\n",
      "File \u001B[0;34mC:\\Users\\pavel\\.conda\\envs\\jupyterlab-debugger\\lib\\site-packages\\matplotlib\\axes\\_axes.py\u001B[0m, in \u001B[0;32m_parse_scatter_color_args\u001B[0m:\nLine \u001B[0;34m4300\u001B[0m:  \u001B[34mraise\u001B[39;49;00m \u001B[36mValueError\u001B[39;49;00m(\n",
      "\u001B[0;31mValueError\u001B[0m: 'c' argument must be a color, a sequence of colors, or a sequence of numbers, not ['M' 'M' 'M' ... 'M' 'M' 'M']\n\u001B[0;31m---------------------------------------------------------------------------\u001B[0m"
     ]
    }
   ],
   "source": [
    "def visualize_groups(classes, groups, name):\n",
    "    # Visualize dataset groups\n",
    "    fig, ax = plt.subplots()\n",
    "    ax.scatter(\n",
    "        range(len(groups)),\n",
    "        [0.5] * len(groups),\n",
    "        c=groups,\n",
    "        marker=\"_\",\n",
    "        lw=50,\n",
    "        cmap=cmap_data,\n",
    "    )\n",
    "    ax.scatter(\n",
    "        range(len(groups)),\n",
    "        [3.5] * len(groups),\n",
    "        c=classes,\n",
    "        marker=\"_\",\n",
    "        lw=50,\n",
    "        cmap=cmap_data,\n",
    "    )\n",
    "    ax.set(\n",
    "        ylim=[-1, 5],\n",
    "        yticks=[0.5, 3.5],\n",
    "        yticklabels=[\"Data\\ngroup\", \"Data\\nclass\"],\n",
    "        xlabel=\"Sample index\",\n",
    "    )\n",
    "\n",
    "\n",
    "visualize_groups(y, groups, \"no groups\")\n",
    "ax.legend(\n",
    "    [Patch(color=cmap_cv(0.8)), Patch(color=cmap_cv(0.02))],\n",
    "    [\"Testing set\", \"Training set\"],\n",
    "    loc=(1.02, 0.8),\n",
    ")\n",
    "plt.tight_layout()\n",
    "fig.subplots_adjust(right=0.7)\n",
    "\n",
    "plt.show()"
   ]
  },
  {
   "cell_type": "code",
   "execution_count": 196,
   "metadata": {},
   "outputs": [
    {
     "data": {
      "text/plain": [
       "array([0, 0, 0, 0, 0, 0, 0, 0, 0, 0, 1, 1, 1, 1, 1, 1, 1, 1, 1, 1, 2, 2,\n",
       "       2, 2, 2, 2, 2, 2, 2, 2, 3, 3, 3, 3, 3, 3, 3, 3, 3, 3, 4, 4, 4, 4,\n",
       "       4, 4, 4, 4, 4, 4, 5, 5, 5, 5, 5, 5, 5, 5, 5, 5, 6, 6, 6, 6, 6, 6,\n",
       "       6, 6, 6, 6, 7, 7, 7, 7, 7, 7, 7, 7, 7, 7, 8, 8, 8, 8, 8, 8, 8, 8,\n",
       "       8, 8, 9, 9, 9, 9, 9, 9, 9, 9, 9, 9])"
      ]
     },
     "execution_count": 196,
     "metadata": {},
     "output_type": "execute_result"
    }
   ],
   "source": [
    "np.hstack([[ii] * 10 for ii in range(10)])"
   ]
  },
  {
   "cell_type": "code",
   "execution_count": 233,
   "metadata": {},
   "outputs": [],
   "source": [
    "def plot_cv_indices(cv, X, y, group, group2, ax, n_splits, lw=10):\n",
    "    \"\"\"Create a sample plot for indices of a cross-validation object.\"\"\"\n",
    "\n",
    "    # Generate the training/testing visualizations for each CV split\n",
    "    for ii, (tr, tt) in enumerate(cv.split(X=X, y=y, groups=group)):\n",
    "        # Fill in indices with the training/test groups\n",
    "        indices = np.array([np.nan] * len(X))\n",
    "        indices[tt] = 1\n",
    "        indices[tr] = 0\n",
    "\n",
    "        # Visualize the results\n",
    "        ax.scatter(\n",
    "            range(len(indices)),\n",
    "            [ii + 0.5] * len(indices),\n",
    "            c=indices,\n",
    "            marker=\"_\",\n",
    "            lw=lw,\n",
    "            cmap=cmap_cv,\n",
    "            vmin=-0.2,\n",
    "            vmax=1.2,\n",
    "        )\n",
    "\n",
    "    # Plot the data classes and groups at the end\n",
    "    ax.scatter(\n",
    "        range(len(X)), [ii + 1.5] * len(X), c=y, marker=\"_\", lw=lw, cmap=cmap_data\n",
    "    )\n",
    "\n",
    "    ax.scatter(\n",
    "        range(len(X)), [ii + 2.5] * len(X), c=group, marker=\"_\", lw=lw, cmap=cmap_data\n",
    "    )\n",
    "\n",
    "    ax.scatter(\n",
    "        range(len(X)), [ii + 3.5] * len(X), c=group2, marker=\"_\", lw=lw, cmap=cmap_data\n",
    "    )\n",
    "\n",
    "    # Formatting\n",
    "    yticklabels = list(range(n_splits)) + [\"sex\", \"age\", \"occupation\"]\n",
    "    ax.set(\n",
    "        yticks=np.arange(n_splits + 3) + 0.5,\n",
    "        yticklabels=yticklabels,\n",
    "        xlabel=\"Sample index\",\n",
    "        ylabel=\"CV iteration\",\n",
    "        ylim=[n_splits + 3.2, -0.2],\n",
    "        xlim=[0, 100000],\n",
    "    )\n",
    "    ax.set_title(\"{}\".format(type(cv).__name__), fontsize=15)\n",
    "    return ax\n",
    "\n",
    "\n",
    "cvs = [\n",
    "    KFold,\n",
    "    GroupKFold,\n",
    "    ShuffleSplit,\n",
    "    StratifiedKFold,\n",
    "    # GroupShuffleSplit,\n",
    "    StratifiedShuffleSplit,\n",
    "    TimeSeriesSplit,\n",
    "]\n",
    "\n",
    "for cv in cvs:\n",
    "    this_cv = cv(n_splits=n_splits)\n",
    "    fig, ax = plt.subplots(figsize=(6, 3))\n",
    "    plot_cv_indices(this_cv, X, y, ageGroups, occupationGroups, ax, n_splits)\n",
    "\n",
    "    ax.legend(\n",
    "        [Patch(color=cmap_cv(0.8)), Patch(color=cmap_cv(0.02))],\n",
    "        [\"Testing set\", \"Training set\"],\n",
    "        loc=(1.02, 0.8),\n",
    "    )\n",
    "    # Make the legend fit\n",
    "    plt.tight_layout()\n",
    "    fig.subplots_adjust(right=0.7)\n",
    "plt.show()"
   ]
  },
  {
   "cell_type": "code",
   "execution_count": 221,
   "metadata": {},
   "outputs": [
    {
     "data": {
      "text/plain": [
       "100000"
      ]
     },
     "execution_count": 221,
     "metadata": {},
     "output_type": "execute_result"
    }
   ],
   "source": [
    "len(X)"
   ]
  },
  {
   "cell_type": "code",
   "execution_count": 223,
   "metadata": {},
   "outputs": [],
   "source": [
    "def plot_cv_indices(cv, X, y, group, group2, ax, n_splits, lw=10):\n",
    "    \"\"\"Create a sample plot for indices of a cross-validation object.\"\"\"\n",
    "\n",
    "    # Generate the training/testing visualizations for each CV split\n",
    "    for ii, (tr, tt) in enumerate(cv.split(X=X, y=y, groups=group)):\n",
    "        # Fill in indices with the training/test groups\n",
    "        indices = np.array([np.nan] * len(X))\n",
    "        indices[tt] = 1\n",
    "        indices[tr] = 0\n",
    "\n",
    "        # Visualize the results\n",
    "        ax.scatter(\n",
    "            range(len(indices)),\n",
    "            [ii + 0.5] * len(indices),\n",
    "            c=indices,\n",
    "            marker=\"_\",\n",
    "            lw=lw,\n",
    "            cmap=cmap_cv,\n",
    "            vmin=-0.2,\n",
    "            vmax=1.2,\n",
    "        )\n",
    "\n",
    "    # Plot the data classes and groups at the end\n",
    "    ax.scatter(\n",
    "        range(len(X)), [ii + 1.5] * len(X), c=y, marker=\"_\", lw=lw, cmap=cmap_data\n",
    "    )\n",
    "\n",
    "    ax.scatter(\n",
    "        range(len(X)), [ii + 2.5] * len(X), c=group, marker=\"_\", lw=lw, cmap=cmap_data\n",
    "    )\n",
    "\n",
    "    ax.scatter(\n",
    "        range(len(X)), [ii + 3.5] * len(X), c=group2, marker=\"_\", lw=lw, cmap=cmap_data\n",
    "    )\n",
    "\n",
    "    # Formatting\n",
    "    yticklabels = list(range(n_splits)) + [\"sex\", \"age\", \"occupation\"]\n",
    "    ax.set(\n",
    "        yticks=np.arange(n_splits + 3) + 0.5,\n",
    "        yticklabels=yticklabels,\n",
    "        xlabel=\"Sample index\",\n",
    "        ylabel=\"CV iteration\",\n",
    "        ylim=[n_splits + 3.2, -0.2],\n",
    "        xlim=[0, 100000],\n",
    "    )\n",
    "    ax.set_title(\"{}\".format(type(cv).__name__), fontsize=15)\n",
    "    return ax\n",
    "\n",
    "\n",
    "cvs1 = [KFold, GroupKFold, ShuffleSplit]\n",
    "cvs2 = [\n",
    "    StratifiedKFold,\n",
    "    # GroupShuffleSplit,\n",
    "    StratifiedShuffleSplit,\n",
    "    TimeSeriesSplit,\n",
    "]\n",
    "\n",
    "fig, axs = plt.subplots(2, 3)\n",
    "\n",
    "for i, cv in enumerate(cvs1):\n",
    "    this_cv = cv(n_splits=n_splits)\n",
    "    ax = axs[0, i]\n",
    "    plot_cv_indices(this_cv, X, y, ageGroups, occupationGroups, ax, n_splits)\n",
    "\n",
    "\n",
    "for i, cv in enumerate(cvs2):\n",
    "    this_cv = cv(n_splits=n_splits)\n",
    "    ax = axs[1, i]\n",
    "    plot_cv_indices(this_cv, X, y, ageGroups, occupationGroups, ax, n_splits)\n",
    "\n",
    "ax.legend(\n",
    "    [Patch(color=cmap_cv(0.8)), Patch(color=cmap_cv(0.02))],\n",
    "    [\"Testing set\", \"Training set\"],\n",
    "    loc=(1.02, 0.8),\n",
    ")\n",
    "# Make the legend fit\n",
    "fig.set_size_inches(6, 12)\n",
    "\n",
    "plt.tight_layout()\n",
    "fig.subplots_adjust(right=0.7)\n",
    "plt.show()"
   ]
  }
 ],
 "metadata": {
  "kernelspec": {
   "display_name": "PyCharm (TargetSampling)",
   "language": "python",
   "name": "pycharm-960a82ab"
  },
  "language_info": {
   "codemirror_mode": {
    "name": "ipython",
    "version": 3
   },
   "file_extension": ".py",
   "mimetype": "text/x-python",
   "name": "python",
   "nbconvert_exporter": "python",
   "pygments_lexer": "ipython3",
   "version": "3.9.1"
  }
 },
 "nbformat": 4,
 "nbformat_minor": 4
}