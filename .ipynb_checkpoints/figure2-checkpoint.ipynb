{
 "cells": [
  {
   "cell_type": "code",
   "execution_count": 16,
   "metadata": {},
   "outputs": [
    {
     "name": "stdout",
     "output_type": "stream",
     "text": [
      "Using pandas 1.2.0 version\n",
      "Using seaborn 0.11.1 version\n",
      "Using scipy 1.6.0 version\n"
     ]
    }
   ],
   "source": [
    "import pprint\n",
    "\n",
    "import matplotlib.pyplot as plt\n",
    "import numpy as np\n",
    "import pandas as pd\n",
    "import scipy\n",
    "import scipy.stats as stats\n",
    "import seaborn as sns\n",
    "import os\n",
    "\n",
    "pp = pprint.PrettyPrinter(indent=4)\n",
    "\n",
    "print(\"Using pandas %s version\" % pd.__version__)\n",
    "print(\"Using seaborn %s version\" % sns.__version__)\n",
    "print(\"Using scipy %s version\" % scipy.__version__)"
   ]
  },
  {
   "cell_type": "code",
   "execution_count": 17,
   "metadata": {
    "scrolled": true
   },
   "outputs": [],
   "source": [
    "ndcg = pd.read_table(\n",
    "    r\"C:\\Projects\\RecSys2020\\results\\figure2.txt\", sep=\"\\t\", header=4, nrows=8\n",
    ")\n",
    "precision = pd.read_table(\n",
    "    r\"C:\\Projects\\RecSys2020\\results\\figure2.txt\", sep=\"\\t\", header=14, nrows=8\n",
    ")\n",
    "recall = pd.read_table(\n",
    "    r\"C:\\Projects\\RecSys2020\\results\\figure2.txt\", sep=\"\\t\", header=24, nrows=8\n",
    ")\n",
    "\n",
    "recall.head()\n",
    "precision.head()\n",
    "ndcg.head()\n",
    "data_dir = r\"C:\\Projects\\RecSys2020\\results\\\\\"\n"
   ]
  },
  {
   "cell_type": "code",
   "execution_count": 18,
   "metadata": {},
   "outputs": [],
   "source": [
    "def reshape_results(data):\n",
    "    result = [\n",
    "        list(a)\n",
    "        for a in zip(\n",
    "            data.Recommender,\n",
    "            data.Full.rank(ascending=False),\n",
    "            data.Unbiased.rank(ascending=False),\n",
    "            data.Test.rank(ascending=False),\n",
    "        )\n",
    "    ]\n",
    "    return result"
   ]
  },
  {
   "cell_type": "code",
   "execution_count": 19,
   "metadata": {},
   "outputs": [],
   "source": [
    "r = reshape_results(recall)\n",
    "p = reshape_results(precision)\n",
    "n = reshape_results(ndcg)"
   ]
  },
  {
   "cell_type": "code",
   "execution_count": 26,
   "metadata": {},
   "outputs": [],
   "source": [
    "fig, (ax1, ax2, ax3) = plt.subplots(1, 3, sharex=\"row\")\n",
    "\n",
    "\n",
    "def combine_figure(data, ax, title):\n",
    "    artists = []\n",
    "    for row, color in zip(\n",
    "        data, (\"red\", \"blue\", \"green\", \"magenta\", \"black\", \"purple\", \"grey\", \"orange\")\n",
    "    ):\n",
    "        artists.append(\n",
    "            plt.Line2D(xdata=[1, 2, 3], ydata=[row[1:]], lw=1, color=color, marker=\"o\")\n",
    "        )\n",
    "\n",
    "    for artist in artists:\n",
    "        ax.add_artist(artist)\n",
    "\n",
    "    ax.set_ybound([0.8, 8.2])\n",
    "    ax.set_xbound([0.90, 3.1])\n",
    "    ax.spines[\"top\"].set_visible(False)\n",
    "    ax.spines[\"right\"].set_visible(False)\n",
    "    ax.spines[\"bottom\"].set_visible(False)\n",
    "    ax.spines[\"left\"].set_visible(False)\n",
    "    ax.set_title(title)\n",
    "    ax.invert_yaxis()\n",
    "    return artists\n",
    "\n",
    "\n",
    "combine_figure(p, ax1, 'Precision@10')\n",
    "combine_figure(r, ax2, 'Recall@10')\n",
    "artists = combine_figure(n, ax3, 'nDCG@10')\n",
    "ax1.set_ylabel(\"System ranking\")\n",
    "\n",
    "\n",
    "plt.xticks([1, 2, 3], [\"Full\", \"Unbiased\", \"Test\"])\n",
    "\n",
    "plt.legend(\n",
    "    artists,\n",
    "    recall.Recommender,\n",
    "    bbox_to_anchor=(1.05, 1),\n",
    "    loc=\"upper left\",\n",
    "    title=\"Recommender\",\n",
    "    title_fontsize=\"x-large\",\n",
    ")\n",
    "fig.set_size_inches(8, 4)\n",
    "fig.tight_layout()\n",
    "png = os.path.join(data_dir, \"figure2.png\")\n",
    "#fig.savefig(png, format=\"png\", dpi=300)\n",
    "plt.show()"
   ]
  },
  {
   "cell_type": "code",
   "execution_count": null,
   "metadata": {},
   "outputs": [],
   "source": []
  },
  {
   "cell_type": "code",
   "execution_count": null,
   "metadata": {},
   "outputs": [],
   "source": []
  }
 ],
 "metadata": {
  "kernelspec": {
   "display_name": "Python 3.9 (XPython)",
   "language": "python",
   "name": "xpython"
  },
  "language_info": {
   "file_extension": ".py",
   "mimetype": "text/x-python",
   "name": "python",
   "version": "3.9.1"
  }
 },
 "nbformat": 4,
 "nbformat_minor": 4
}
