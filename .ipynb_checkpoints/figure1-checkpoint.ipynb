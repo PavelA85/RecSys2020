{
 "cells": [
  {
   "cell_type": "code",
   "execution_count": 1,
   "metadata": {},
   "outputs": [
    {
     "name": "stdout",
     "output_type": "stream",
     "text": [
      "Using pandas 1.2.0 version\n",
      "Using seaborn 0.11.1 version\n",
      "Using scipy 1.6.0 version\n"
     ]
    }
   ],
   "source": [
    "import linecache\n",
    "import os\n",
    "import pprint\n",
    "\n",
    "import matplotlib.pyplot as plt\n",
    "import numpy as np\n",
    "import pandas as pd\n",
    "import scipy\n",
    "import scipy.stats as stats\n",
    "import seaborn as sns\n",
    "\n",
    "pp = pprint.PrettyPrinter(indent=4)\n",
    "\n",
    "print(\"Using pandas %s version\" % pd.__version__)\n",
    "print(\"Using seaborn %s version\" % sns.__version__)\n",
    "print(\"Using scipy %s version\" % scipy.__version__)"
   ]
  },
  {
   "cell_type": "code",
   "execution_count": 2,
   "metadata": {},
   "outputs": [],
   "source": [
    "imfFull = \"#548235\"\n",
    "imfTest = \"#99C979\"\n",
    "\n",
    "knnFull = \"#C55A11\"\n",
    "knnTest = \"#ff5811\"\n",
    "normalizedKnnFull = \"#4A76C6\"\n",
    "normalizedKnnTest = \"#19C3FF\"\n",
    "\n",
    "average = \"#FFC000\"\n",
    "popularity = \"#F18F8F\"\n",
    "random = \"#BFBFBF\"\n",
    "\n",
    "# colors = ('red','blue','green','magenta', 'black', 'purple', 'grey', 'orange')\n",
    "rec_colors = (\n",
    "    imfFull,\n",
    "    imfTest,\n",
    "    knnFull,\n",
    "    knnTest,\n",
    "    normalizedKnnFull,\n",
    "    normalizedKnnTest,\n",
    "    average,\n",
    "    popularity,\n",
    "    random,\n",
    ")"
   ]
  },
  {
   "cell_type": "code",
   "execution_count": 3,
   "metadata": {},
   "outputs": [
    {
     "data": {
      "text/html": [
       "<div>\n",
       "<style scoped>\n",
       "    .dataframe tbody tr th:only-of-type {\n",
       "        vertical-align: middle;\n",
       "    }\n",
       "\n",
       "    .dataframe tbody tr th {\n",
       "        vertical-align: top;\n",
       "    }\n",
       "\n",
       "    .dataframe thead th {\n",
       "        text-align: right;\n",
       "    }\n",
       "</style>\n",
       "<table border=\"1\" class=\"dataframe\">\n",
       "  <thead>\n",
       "    <tr style=\"text-align: right;\">\n",
       "      <th></th>\n",
       "      <th>Recommender</th>\n",
       "      <th>Full</th>\n",
       "      <th>Test</th>\n",
       "    </tr>\n",
       "  </thead>\n",
       "  <tbody>\n",
       "    <tr>\n",
       "      <th>0</th>\n",
       "      <td>iMF (full)</td>\n",
       "      <td>0.229490</td>\n",
       "      <td>0.511424</td>\n",
       "    </tr>\n",
       "    <tr>\n",
       "      <th>1</th>\n",
       "      <td>iMF (test)</td>\n",
       "      <td>0.101401</td>\n",
       "      <td>0.528172</td>\n",
       "    </tr>\n",
       "    <tr>\n",
       "      <th>2</th>\n",
       "      <td>kNN (full/test)</td>\n",
       "      <td>0.190464</td>\n",
       "      <td>0.510805</td>\n",
       "    </tr>\n",
       "    <tr>\n",
       "      <th>3</th>\n",
       "      <td>Normalized kNN (full)</td>\n",
       "      <td>0.116040</td>\n",
       "      <td>0.503576</td>\n",
       "    </tr>\n",
       "    <tr>\n",
       "      <th>4</th>\n",
       "      <td>Normalized kNN (test)</td>\n",
       "      <td>0.048652</td>\n",
       "      <td>0.518202</td>\n",
       "    </tr>\n",
       "  </tbody>\n",
       "</table>\n",
       "</div>"
      ],
      "text/plain": [
       "             Recommender      Full      Test\n",
       "0             iMF (full)  0.229490  0.511424\n",
       "1             iMF (test)  0.101401  0.528172\n",
       "2        kNN (full/test)  0.190464  0.510805\n",
       "3  Normalized kNN (full)  0.116040  0.503576\n",
       "4  Normalized kNN (test)  0.048652  0.518202"
      ]
     },
     "execution_count": 3,
     "metadata": {},
     "output_type": "execute_result"
    }
   ],
   "source": [
    "fig1 = pd.read_table(\n",
    "    r\"C:\\Projects\\RecSys2020\\results\\ShuffleSplit\\figure1.txt\", sep=\"\\t\", header=4\n",
    ")\n",
    "\n",
    "fig1.head()"
   ]
  },
  {
   "cell_type": "code",
   "execution_count": 4,
   "metadata": {},
   "outputs": [],
   "source": [
    "def fig111(data=None, legend=False, title=\"\", ax1=None, ax2=None):\n",
    "    f1 = np.array(data)\n",
    "\n",
    "    df1 = pd.DataFrame(data=f1.T[1:], columns=f1.T[0], index=[\"Full\", \"Test\"])\n",
    "    ax11 = df1.plot(\n",
    "        kind=\"bar\",\n",
    "        color=rec_colors,\n",
    "        legend=None,\n",
    "        ax=ax1,\n",
    "        ylabel=title,\n",
    "    )\n",
    "\n",
    "    linedata = np.array(\n",
    "        [data.Full.rank(ascending=False), data.Test.rank(ascending=False)]\n",
    "    ).T\n",
    "    artists = []\n",
    "    for row, color in zip(linedata, rec_colors):\n",
    "        artists.append(\n",
    "            plt.Line2D(xdata=[0, 1], ydata=row, lw=1, color=color, marker=\"o\")\n",
    "        )\n",
    "\n",
    "    for artist in artists:\n",
    "        a = ax2.add_artist(artist)\n",
    "\n",
    "    ax2.set_ybound([0.8, 8.2])\n",
    "    ax2.spines[\"top\"].set_visible(False)\n",
    "    ax2.spines[\"right\"].set_visible(False)\n",
    "    ax2.spines[\"bottom\"].set_visible(False)\n",
    "    ax2.spines[\"left\"].set_visible(False)\n",
    "    ax2.invert_yaxis()\n",
    "\n",
    "    plt.ylabel(\"System ranking\")\n",
    "    if legend:\n",
    "        plt.legend(\n",
    "            artists,\n",
    "            data.Recommender,\n",
    "            bbox_to_anchor=(1.05, 1),\n",
    "            loc=\"upper left\",\n",
    "            # title=\"Recommender\",\n",
    "            title_fontsize=\"xx-large\",\n",
    "        )\n",
    "\n",
    "\n",
    "fig, (ax1, ax2) = plt.subplots(1, 2, sharex=\"row\")\n",
    "\n",
    "fig111(data=fig1, legend=True, title=\"Precision@10\", ax1=ax1, ax2=ax2)\n",
    "fig.tight_layout()\n",
    "plt.show()"
   ]
  },
  {
   "cell_type": "code",
   "execution_count": 5,
   "metadata": {},
   "outputs": [
    {
     "name": "stdout",
     "output_type": "stream",
     "text": [
      "C:\\Projects\\RecSys2020\\results\\figure101.ml1m.txt\n"
     ]
    },
    {
     "ename": "ValueError",
     "evalue": "Empty data passed with indices specified.",
     "output_type": "error",
     "traceback": [
      "\u001b[0;31m---------------------------------------------------------------------------\u001b[0m\n\u001b[0;31mValueError\u001b[0m                                Traceback (most recent call last)",
      "In  \u001b[0;34m[5]\u001b[0m:\nLine \u001b[0;34m17\u001b[0m:    fig111(data=fig1, title=metric, ax1=axes[\u001b[34m1\u001b[39;49;00m, \u001b[34m0\u001b[39;49;00m], ax2=axes[\u001b[34m1\u001b[39;49;00m, \u001b[34m1\u001b[39;49;00m])\n",
      "In  \u001b[0;34m[4]\u001b[0m:\nLine \u001b[0;34m4\u001b[0m:     df1 = pd.DataFrame(data=f1.T[\u001b[34m1\u001b[39;49;00m:], columns=f1.T[\u001b[34m0\u001b[39;49;00m], index=[\u001b[33m\"\u001b[39;49;00m\u001b[33mFull\u001b[39;49;00m\u001b[33m\"\u001b[39;49;00m, \u001b[33m\"\u001b[39;49;00m\u001b[33mTest\u001b[39;49;00m\u001b[33m\"\u001b[39;49;00m])\n",
      "File \u001b[0;34mC:\\Users\\pavel\\.conda\\envs\\jupyterlab-debugger\\lib\\site-packages\\pandas\\core\\frame.py\u001b[0m, in \u001b[0;32m__init__\u001b[0m:\nLine \u001b[0;34m558\u001b[0m:   mgr = init_ndarray(data, index, columns, dtype=dtype, copy=copy)\n",
      "File \u001b[0;34mC:\\Users\\pavel\\.conda\\envs\\jupyterlab-debugger\\lib\\site-packages\\pandas\\core\\internals\\construction.py\u001b[0m, in \u001b[0;32minit_ndarray\u001b[0m:\nLine \u001b[0;34m238\u001b[0m:   \u001b[34mreturn\u001b[39;49;00m create_block_manager_from_blocks(block_values, [columns, index])\n",
      "File \u001b[0;34mC:\\Users\\pavel\\.conda\\envs\\jupyterlab-debugger\\lib\\site-packages\\pandas\\core\\internals\\managers.py\u001b[0m, in \u001b[0;32mcreate_block_manager_from_blocks\u001b[0m:\nLine \u001b[0;34m1687\u001b[0m:  \u001b[34mraise\u001b[39;49;00m construction_error(tot_items, blocks[\u001b[34m0\u001b[39;49;00m].shape[\u001b[34m1\u001b[39;49;00m:], axes, e)\n",
      "\u001b[0;31mValueError\u001b[0m: Empty data passed with indices specified.\n\u001b[0;31m---------------------------------------------------------------------------\u001b[0m"
     ]
    }
   ],
   "source": [
    "datasets = [\"ml1m\", \"ml100k\"]\n",
    "splits = [\"\", \"-male\", \"-female\"]\n",
    "for dataset, split in [(x, y) for x in datasets for y in splits]:\n",
    "    file = os.path.join(\n",
    "        r\"C:\\Projects\\RecSys2020\\results\", \"figure101.\" + dataset + split + \".txt\"\n",
    "    )\n",
    "    print(file)\n",
    "\n",
    "    fig, axes = plt.subplots(4, 2, sharex=\"row\")\n",
    "\n",
    "    metric = linecache.getline(file, 5)\n",
    "    fig1 = pd.read_table(file, sep=\"\\t\", header=4, nrows=8)\n",
    "    fig111(data=fig1, title=metric, ax1=axes[0, 0], ax2=axes[0, 1])\n",
    "\n",
    "    metric = linecache.getline(file, 16)\n",
    "    fig1 = pd.read_table(file, sep=\"\\t\", header=14, nrows=8)\n",
    "    fig111(data=fig1, title=metric, ax1=axes[1, 0], ax2=axes[1, 1])\n",
    "\n",
    "    metric = linecache.getline(file, 27)\n",
    "    fig1 = pd.read_table(file, sep=\"\\t\", header=24, nrows=8)\n",
    "    fig111(data=fig1, title=metric, ax1=axes[2, 0], ax2=axes[2, 1])\n",
    "\n",
    "    metric = linecache.getline(file, 38)\n",
    "    fig1 = pd.read_table(file, sep=\"\\t\", header=34, nrows=8)\n",
    "    fig111(data=fig1, title=metric, ax1=axes[3, 0], ax2=axes[3, 1])\n",
    "    plt.suptitle(dataset + split)\n",
    "    fig.set_size_inches(5, 12)\n",
    "    fig.tight_layout()\n",
    "\n",
    "plt.show()"
   ]
  },
  {
   "cell_type": "code",
   "execution_count": 11,
   "metadata": {},
   "outputs": [
    {
     "name": "stdout",
     "output_type": "stream",
     "text": [
      "C:\\Projects\\RecSys2020\\results\\figure101.ml1m.txt\n",
      "[(4, 'P@10\\n'), (16, 'Recall@10\\n'), (28, 'nDCG@10\\n'), (40, 'FScore@10\\n')]\n"
     ]
    },
    {
     "ename": "TypeError",
     "evalue": "pprint() takes 2 positional arguments but 4 were given",
     "output_type": "error",
     "traceback": [
      "\u001b[0;31m---------------------------------------------------------------------------\u001b[0m\n\u001b[0;31mTypeError\u001b[0m                                 Traceback (most recent call last)",
      "In  \u001b[0;34m[11]\u001b[0m:\nLine \u001b[0;34m27\u001b[0m:    pp.pprint(metric_name, metric_line, fig1)\n",
      "\u001b[0;31mTypeError\u001b[0m: pprint() takes 2 positional arguments but 4 were given\n\u001b[0;31m---------------------------------------------------------------------------\u001b[0m"
     ]
    }
   ],
   "source": [
    "datasets = [\"ml1m\", \"ml100k\"]\n",
    "splits = [\"\", \"-male\", \"-female\"]\n",
    "\n",
    "for dataset in datasets:\n",
    "    fig, axes = plt.subplots(4, 6, sharex=\"row\")\n",
    "    i = 0\n",
    "    for split in splits:\n",
    "\n",
    "        file = os.path.join(\n",
    "            r\"C:\\Projects\\RecSys2020\\results\", \"figure101.\" + dataset + split + \".txt\"\n",
    "        )\n",
    "        print(file)\n",
    "        lines_with_metrics = [\n",
    "            (i, linecache.getline(file, i + 1))\n",
    "            for i, line in enumerate(open(file))\n",
    "            if line.endswith(\"@10\\n\")\n",
    "        ]\n",
    "        print(lines_with_metrics)\n",
    "\n",
    "        params = dict(filepath_or_buffer=file, sep=\"\\t\", nrows=9)\n",
    "        axes[0, 0 + i].set_title(dataset + split)\n",
    "\n",
    "        for j, metric in enumerate(lines_with_metrics):\n",
    "            metric_name = metric[1]\n",
    "            metric_line = metric[0]\n",
    "            fig1 = pd.read_table(header=metric_line - j, **params)\n",
    "            pp.pprint(metric_name, metric_line, fig1)\n",
    "            fig111(data=fig1, title=metric_name, ax1=axes[j, 0 + i], ax2=axes[j, 1 + i])\n",
    "\n",
    "        # plt.suptitle(dataset + split)\n",
    "        fig.set_size_inches(22, 12)\n",
    "        fig.tight_layout()\n",
    "        i = i + 2\n",
    "plt.show()"
   ]
  },
  {
   "cell_type": "code",
   "execution_count": null,
   "metadata": {},
   "outputs": [],
   "source": []
  },
  {
   "cell_type": "code",
   "execution_count": null,
   "metadata": {},
   "outputs": [],
   "source": []
  }
 ],
 "metadata": {
  "kernelspec": {
   "display_name": "Python 3.9 (XPython)",
   "language": "python",
   "name": "xpython"
  },
  "language_info": {
   "file_extension": ".py",
   "mimetype": "text/x-python",
   "name": "python",
   "version": "3.9.1"
  }
 },
 "nbformat": 4,
 "nbformat_minor": 4
}
