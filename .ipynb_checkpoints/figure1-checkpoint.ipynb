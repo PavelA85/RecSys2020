{
 "cells": [
  {
   "cell_type": "code",
   "execution_count": 7,
   "metadata": {},
   "outputs": [
    {
     "name": "stdout",
     "output_type": "stream",
     "text": [
      "Using pandas 1.2.0 version\n",
      "Using seaborn 0.11.1 version\n",
      "Using scipy 1.6.0 version\n"
     ]
    }
   ],
   "source": [
    "import pandas as pd\n",
    "import seaborn as sns\n",
    "import scipy\n",
    "\n",
    "import numpy as np\n",
    "import matplotlib.pyplot as plt\n",
    "import scipy.stats as stats\n",
    "\n",
    "print(\"Using pandas %s version\" % pd.__version__)\n",
    "print(\"Using seaborn %s version\"% sns.__version__)\n",
    "print(\"Using scipy %s version\" % scipy.__version__)"
   ]
  },
  {
   "cell_type": "code",
   "execution_count": 8,
   "metadata": {},
   "outputs": [
    {
     "data": {
      "text/html": [
       "<div>\n",
       "<style scoped>\n",
       "    .dataframe tbody tr th:only-of-type {\n",
       "        vertical-align: middle;\n",
       "    }\n",
       "\n",
       "    .dataframe tbody tr th {\n",
       "        vertical-align: top;\n",
       "    }\n",
       "\n",
       "    .dataframe thead th {\n",
       "        text-align: right;\n",
       "    }\n",
       "</style>\n",
       "<table border=\"1\" class=\"dataframe\">\n",
       "  <thead>\n",
       "    <tr style=\"text-align: right;\">\n",
       "      <th></th>\n",
       "      <th>Recommender</th>\n",
       "      <th>Full</th>\n",
       "      <th>Test</th>\n",
       "    </tr>\n",
       "  </thead>\n",
       "  <tbody>\n",
       "    <tr>\n",
       "      <th>0</th>\n",
       "      <td>iMF (full)</td>\n",
       "      <td>0.000232</td>\n",
       "      <td>0.000576</td>\n",
       "    </tr>\n",
       "    <tr>\n",
       "      <th>1</th>\n",
       "      <td>iMF (test)</td>\n",
       "      <td>0.000241</td>\n",
       "      <td>0.000587</td>\n",
       "    </tr>\n",
       "    <tr>\n",
       "      <th>2</th>\n",
       "      <td>kNN (full/test)</td>\n",
       "      <td>0.000233</td>\n",
       "      <td>0.000637</td>\n",
       "    </tr>\n",
       "    <tr>\n",
       "      <th>3</th>\n",
       "      <td>Normalized kNN (full)</td>\n",
       "      <td>0.000129</td>\n",
       "      <td>0.000585</td>\n",
       "    </tr>\n",
       "    <tr>\n",
       "      <th>4</th>\n",
       "      <td>Normalized kNN (test)</td>\n",
       "      <td>0.000014</td>\n",
       "      <td>0.000656</td>\n",
       "    </tr>\n",
       "  </tbody>\n",
       "</table>\n",
       "</div>"
      ],
      "text/plain": [
       "             Recommender      Full      Test\n",
       "0             iMF (full)  0.000232  0.000576\n",
       "1             iMF (test)  0.000241  0.000587\n",
       "2        kNN (full/test)  0.000233  0.000637\n",
       "3  Normalized kNN (full)  0.000129  0.000585\n",
       "4  Normalized kNN (test)  0.000014  0.000656"
      ]
     },
     "execution_count": 8,
     "metadata": {},
     "output_type": "execute_result"
    }
   ],
   "source": [
    "fig1 = pd.read_table(r'C:\\Projects\\RecSys2020\\results\\figure1.txt',sep='\\t',header=4)\n",
    "\n",
    "fig1.head()"
   ]
  },
  {
   "cell_type": "code",
   "execution_count": 35,
   "metadata": {},
   "outputs": [],
   "source": [
    "f1 = np.array(fig1)\n",
    "df = pd.DataFrame(index=['Full', 'Test'])\n",
    "for i,r in enumerate(fig1.Recommender):\n",
    "    df[r] = f1[i][1:]\n",
    "    \n",
    "df.plot(kind='bar', color=('red','blue','green','magenta', 'black', 'purple', 'grey', 'orange'),legend=None)\n",
    "plt.ylabel('P@10')\n",
    "plt.gca().xaxis.set_tick_params(rotation=0)\n",
    "plt.legend(bbox_to_anchor=(1.05, 1), loc='upper left', title='Recommender', title_fontsize='xx-large')\n",
    "plt.gcf().tight_layout()\n",
    "plt.show()"
   ]
  },
  {
   "cell_type": "code",
   "execution_count": 42,
   "metadata": {},
   "outputs": [],
   "source": [
    "data = [list(a) for a in zip(fig1.Recommender, fig1.Full.rank(ascending=False),fig1.Test.rank(ascending=False))]\n",
    "\n",
    "artists = []\n",
    "for row, color in zip(data, ('red','blue','green','magenta', 'black', 'purple', 'grey', 'orange')):\n",
    "    artists.append(plt.Line2D(xdata=[1,2], ydata=[row[1:]], lw=1, color=color, marker='o'))\n",
    "\n",
    "fig, ax = plt.subplots()\n",
    "\n",
    "for artist in artists:\n",
    "    a = ax.add_artist(artist)\n",
    "    \n",
    "ax.set_ybound([0.8,8.2])\n",
    "ax.set_xbound([0.94,2.06])\n",
    "ax.spines['top'].set_visible(False)\n",
    "ax.spines['right'].set_visible(False)\n",
    "ax.spines['bottom'].set_visible(False)\n",
    "ax.spines['left'].set_visible(False)\n",
    "ax.invert_yaxis()\n",
    "ax.set_xticks([1,2])\n",
    "ax.set_xticklabels(['Full', 'Test'])\n",
    "\n",
    "plt.ylabel('System ranking')\n",
    "plt.legend(artists, fig1.Recommender, bbox_to_anchor=(1.05, 1), loc='upper left', title='Recommender', title_fontsize='xx-large')\n",
    "fig.tight_layout()\n",
    "plt.show()"
   ]
  },
  {
   "cell_type": "code",
   "execution_count": 22,
   "metadata": {},
   "outputs": [],
   "source": [
    "def energy_rank(data, marker_width=.5, color='blue'):\n",
    "    y_data = np.repeat(data, 2)\n",
    "    x_data = np.empty_like(y_data)\n",
    "    x_data[0::2] = np.arange(1, len(data)+1) - (marker_width/2)\n",
    "    x_data[1::2] = np.arange(1, len(data)+1) + (marker_width/2)\n",
    "    lines = []\n",
    "    lines.append(plt.Line2D(x_data, y_data, lw=1, linestyle='dashed', color=color))\n",
    "    for x in range(0,len(data)*2, 2):\n",
    "        lines.append(plt.Line2D(x_data[x:x+2], y_data[x:x+2], lw=2, linestyle='solid', color=color))\n",
    "    return lines\n",
    "\n",
    "data = [list(a) for a in zip(fig1.Full.rank(),fig1.Test.rank())]\n",
    "#np.random.rand(8,2) * 4 # 4 lines with 8 datapoints from 0 - 4\n",
    "\n",
    "artists = []\n",
    "for row, color in zip(data, ('red','blue','green','magenta', 'black', 'purple', 'grey', 'orange')):\n",
    "    artists.extend(energy_rank(row, color=color))\n",
    "    #artists.append(plt.Line2D([data[0][0]], [data[0][1]], lw=1, linestyle='dashed', color=color))\n",
    "\n",
    "fig, ax = plt.subplots()\n",
    "\n",
    "for artist in artists:\n",
    "    ax.add_artist(artist)\n",
    "ax.set_ybound([0.8,8.2])\n",
    "ax.set_xbound([1,2])\n",
    "\n",
    "plt.gca().invert_yaxis()\n",
    "plt.ylabel('System ranking')\n",
    "plt.legend(artists, fig1.Recommender, bbox_to_anchor=(1.05, 1), loc='upper left', title='Recommender', title_fontsize='xx-large')\n",
    "\n",
    "plt.xticks([1,2], ['Full', 'Test'])\n",
    "\n",
    "#plt.tick_params(\n",
    "#    axis='x',          # changes apply to the x-axis\n",
    "#    which='both',      # both major and minor ticks are affected\n",
    "#    bottom=False,      # ticks along the bottom edge are off\n",
    "#    top=False,         # ticks along the top edge are off\n",
    "#    labelbottom=False) # labels along the bottom edge are off\n",
    "fig.tight_layout()\n",
    "\n",
    "plt.show()"
   ]
  },
  {
   "cell_type": "code",
   "execution_count": 109,
   "metadata": {},
   "outputs": [],
   "source": [
    "fig, (ax1, ax2) = plt.subplots(1, 2, sharex='row')\n",
    "\n",
    "f1 = np.array(fig1)\n",
    "df = pd.DataFrame(index=['Full', 'Test'])\n",
    "for i,r in enumerate(fig1.Recommender):\n",
    "    df[r] = f1[i][1:]\n",
    "\n",
    "ax1.set_xticks([1,2])\n",
    "ax1.set_xticklabels(['Full', 'Test'])\n",
    "\n",
    "ax11 = df.plot(kind='bar', color=('red','blue','green','magenta', 'black', 'purple', 'grey', 'orange'),legend=None,\n",
    "              ylabel='P@10', ax=ax1)\n",
    "#axx.ylabel('P@10')\n",
    "\n",
    "####        plt.gca().xaxis.set_tick_params(rotation=0)\n",
    "\n",
    "#plt.legend(bbox_to_anchor=(1.05, 1), loc='upper left', title='Recommender', title_fontsize='xx-large')\n",
    "#plt.gcf().tight_layout()\n",
    "#plt.show()\n",
    "\n",
    "data = [list(a) for a in zip(fig1.Recommender, fig1.Full.rank(ascending=False),fig1.Test.rank(ascending=False))]\n",
    "\n",
    "artists = []\n",
    "for row, color in zip(data, ('red','blue','green','magenta', 'black', 'purple', 'grey', 'orange')):\n",
    "    artists.append(plt.Line2D(xdata=[1,2], ydata=[row[1:]], lw=1, color=color, marker='o'))\n",
    "\n",
    "#fig, ax = plt.subplots()\n",
    "ax = ax2\n",
    "for artist in artists:\n",
    "    a = ax.add_artist(artist)\n",
    "    \n",
    "ax.set_ybound([0.8,8.2])\n",
    "ax.set_xbound([0.94,2.06])\n",
    "ax.spines['top'].set_visible(False)\n",
    "ax.spines['right'].set_visible(False)\n",
    "ax.spines['bottom'].set_visible(False)\n",
    "ax.spines['left'].set_visible(False)\n",
    "ax.invert_yaxis()\n",
    "ax.set_xticks([1,2])\n",
    "ax.set_xticklabels(['Full', 'Test'])\n",
    "\n",
    "plt.ylabel('System ranking')\n",
    "plt.legend(artists, fig1.Recommender, bbox_to_anchor=(1.05, 1), loc='upper left', title='Recommender', title_fontsize='xx-large')\n",
    "fig.tight_layout()\n",
    "plt.show()"
   ]
  },
  {
   "cell_type": "code",
   "execution_count": 104,
   "metadata": {},
   "outputs": [
    {
     "data": {
      "text/plain": [
       "array([[0.00023187499437125184, 0.000240749439217306,\n",
       "        0.00023257794488660668, 0.00012905120401985232,\n",
       "        1.3778862943466158e-05, 1.94703825792089e-05,\n",
       "        0.00018129550043013927, 1.6174686615446826e-05],\n",
       "       [0.0005763531311618593, 0.0005871173709409659,\n",
       "        0.000637047331818016, 0.0005851434249849376,\n",
       "        0.0006556178421054435, 0.0006394431554899966,\n",
       "        0.0006039135199330237, 0.0004876793269028179]], dtype=object)"
      ]
     },
     "execution_count": 104,
     "metadata": {},
     "output_type": "execute_result"
    }
   ],
   "source": [
    "f1 = np.array(fig1)\n",
    "df = pd.DataFrame(index=['Full', 'Test'])\n",
    "for i,r in enumerate(fig1.Recommender):\n",
    "    df[r] = f1[i][1:]\n",
    "df.values\n",
    "df.keys\n"
   ]
  },
  {
   "cell_type": "code",
   "execution_count": 69,
   "metadata": {},
   "outputs": [
    {
     "ename": "KeyError",
     "evalue": "\"None of ['Full', 'Test'] are in the columns\"",
     "output_type": "error",
     "traceback": [
      "\u001b[0;31m---------------------------------------------------------------------------\u001b[0m\n\u001b[0;31mKeyError\u001b[0m                                  Traceback (most recent call last)",
      "In  \u001b[0;34m[69]\u001b[0m:\nLine \u001b[0;34m1\u001b[0m:     (fig1.T.set_index([\u001b[33m'\u001b[39;49;00m\u001b[33mFull\u001b[39;49;00m\u001b[33m'\u001b[39;49;00m, \u001b[33m'\u001b[39;49;00m\u001b[33mTest\u001b[39;49;00m\u001b[33m'\u001b[39;49;00m])).plot(kind=\u001b[33m'\u001b[39;49;00m\u001b[33mbar\u001b[39;49;00m\u001b[33m'\u001b[39;49;00m, color=(\u001b[33m'\u001b[39;49;00m\u001b[33mred\u001b[39;49;00m\u001b[33m'\u001b[39;49;00m,\u001b[33m'\u001b[39;49;00m\u001b[33mblue\u001b[39;49;00m\u001b[33m'\u001b[39;49;00m,\u001b[33m'\u001b[39;49;00m\u001b[33mgreen\u001b[39;49;00m\u001b[33m'\u001b[39;49;00m,\u001b[33m'\u001b[39;49;00m\u001b[33mmagenta\u001b[39;49;00m\u001b[33m'\u001b[39;49;00m, \u001b[33m'\u001b[39;49;00m\u001b[33mblack\u001b[39;49;00m\u001b[33m'\u001b[39;49;00m, \u001b[33m'\u001b[39;49;00m\u001b[33mpurple\u001b[39;49;00m\u001b[33m'\u001b[39;49;00m, \u001b[33m'\u001b[39;49;00m\u001b[33mgrey\u001b[39;49;00m\u001b[33m'\u001b[39;49;00m, \u001b[33m'\u001b[39;49;00m\u001b[33morange\u001b[39;49;00m\u001b[33m'\u001b[39;49;00m),legend=\u001b[34mNone\u001b[39;49;00m,\n",
      "File \u001b[0;34mC:\\Users\\pavel\\.conda\\envs\\jupyterlab-debugger\\lib\\site-packages\\pandas\\core\\frame.py\u001b[0m, in \u001b[0;32mset_index\u001b[0m:\nLine \u001b[0;34m4724\u001b[0m:  \u001b[34mraise\u001b[39;49;00m \u001b[36mKeyError\u001b[39;49;00m(\u001b[33mf\u001b[39;49;00m\u001b[33m\"\u001b[39;49;00m\u001b[33mNone of \u001b[39;49;00m\u001b[33m{\u001b[39;49;00mmissing\u001b[33m}\u001b[39;49;00m\u001b[33m are in the columns\u001b[39;49;00m\u001b[33m\"\u001b[39;49;00m)\n",
      "\u001b[0;31mKeyError\u001b[0m: \"None of ['Full', 'Test'] are in the columns\"\n\u001b[0;31m---------------------------------------------------------------------------\u001b[0m"
     ]
    }
   ],
   "source": [
    "(fig1.T.set_index(['Full', 'Test'])).plot(kind='bar', color=('red','blue','green','magenta', 'black', 'purple', 'grey', 'orange'),legend=None,\n",
    "              ylabel='P@10')\n",
    "plt.show()"
   ]
  },
  {
   "cell_type": "code",
   "execution_count": 96,
   "metadata": {},
   "outputs": [
    {
     "data": {
      "text/plain": [
       "array([0.0005763531311618593, 0.0005871173709409659, 0.000637047331818016,\n",
       "       0.0005851434249849376, 0.0006556178421054435,\n",
       "       0.0006394431554899966, 0.0006039135199330237,\n",
       "       0.0004876793269028179], dtype=object)"
      ]
     },
     "execution_count": 96,
     "metadata": {},
     "output_type": "execute_result"
    }
   ],
   "source": [
    "a = np.array(fig1.T)\n",
    "a[2]"
   ]
  }
 ],
 "metadata": {
  "kernelspec": {
   "display_name": "Python 3.9 (XPython)",
   "language": "python",
   "name": "xpython"
  },
  "language_info": {
   "file_extension": ".py",
   "mimetype": "text/x-python",
   "name": "python",
   "version": "3.9.1"
  }
 },
 "nbformat": 4,
 "nbformat_minor": 4
}
