{
 "cells": [
  {
   "cell_type": "code",
   "execution_count": null,
   "metadata": {
    "collapsed": true,
    "jupyter": {
     "outputs_hidden": true
    }
   },
   "outputs": [],
   "source": [
    "import pandas as pd\n",
    "import seaborn as sns\n",
    "import scipy\n",
    "\n",
    "import numpy as np\n",
    "import matplotlib.pyplot as plt\n",
    "import scipy.stats as stats\n",
    "\n",
    "import pprint\n",
    "pp = pprint.PrettyPrinter(indent=4)\n",
    "\n",
    "print(\"Using pandas %s version\" % pd.__version__)\n",
    "print(\"Using seaborn %s version\"% sns.__version__)\n",
    "print(\"Using scipy %s version\" % scipy.__version__)\n"
   ]
  },
  {
   "cell_type": "code",
   "execution_count": 2,
   "metadata": {
    "collapsed": true,
    "jupyter": {
     "outputs_hidden": true
    },
    "scrolled": true
   },
   "outputs": [
    {
     "data": {
      "text/html": [
       "<div>\n",
       "<style scoped>\n",
       "    .dataframe tbody tr th:only-of-type {\n",
       "        vertical-align: middle;\n",
       "    }\n",
       "\n",
       "    .dataframe tbody tr th {\n",
       "        vertical-align: top;\n",
       "    }\n",
       "\n",
       "    .dataframe thead th {\n",
       "        text-align: right;\n",
       "    }\n",
       "</style>\n",
       "<table border=\"1\" class=\"dataframe\">\n",
       "  <thead>\n",
       "    <tr style=\"text-align: right;\">\n",
       "      <th></th>\n",
       "      <th>Recommender</th>\n",
       "      <th>Full</th>\n",
       "      <th>Unbiased</th>\n",
       "      <th>Test</th>\n",
       "    </tr>\n",
       "  </thead>\n",
       "  <tbody>\n",
       "    <tr>\n",
       "      <th>0</th>\n",
       "      <td>iMF (full)</td>\n",
       "      <td>0.167798</td>\n",
       "      <td>0.024865</td>\n",
       "      <td>0.575750</td>\n",
       "    </tr>\n",
       "    <tr>\n",
       "      <th>1</th>\n",
       "      <td>iMF (test)</td>\n",
       "      <td>0.150733</td>\n",
       "      <td>0.024854</td>\n",
       "      <td>0.580891</td>\n",
       "    </tr>\n",
       "    <tr>\n",
       "      <th>2</th>\n",
       "      <td>kNN (full/test)</td>\n",
       "      <td>0.160433</td>\n",
       "      <td>0.024123</td>\n",
       "      <td>0.572223</td>\n",
       "    </tr>\n",
       "    <tr>\n",
       "      <th>3</th>\n",
       "      <td>Normalized kNN (full)</td>\n",
       "      <td>0.111315</td>\n",
       "      <td>0.018947</td>\n",
       "      <td>0.556579</td>\n",
       "    </tr>\n",
       "    <tr>\n",
       "      <th>4</th>\n",
       "      <td>Normalized kNN (test)</td>\n",
       "      <td>0.003826</td>\n",
       "      <td>0.005382</td>\n",
       "      <td>0.576203</td>\n",
       "    </tr>\n",
       "  </tbody>\n",
       "</table>\n",
       "</div>"
      ],
      "text/plain": [
       "             Recommender      Full  Unbiased      Test\n",
       "0             iMF (full)  0.167798  0.024865  0.575750\n",
       "1             iMF (test)  0.150733  0.024854  0.580891\n",
       "2        kNN (full/test)  0.160433  0.024123  0.572223\n",
       "3  Normalized kNN (full)  0.111315  0.018947  0.556579\n",
       "4  Normalized kNN (test)  0.003826  0.005382  0.576203"
      ]
     },
     "execution_count": 2,
     "metadata": {},
     "output_type": "execute_result"
    }
   ],
   "source": [
    "ndcg = pd.read_table(r'C:\\Projects\\RecSys2020\\results\\figure2.txt',sep='\\t',header=4,nrows=8)\n",
    "precision = pd.read_table(r'C:\\Projects\\RecSys2020\\results\\figure2.txt',sep='\\t',header=14,nrows=8)\n",
    "recall = pd.read_table(r'C:\\Projects\\RecSys2020\\results\\figure2.txt',sep='\\t',header=24,nrows=8)\n",
    "\n",
    "recall.head()\n",
    "precision.head()\n",
    "ndcg.head()"
   ]
  },
  {
   "cell_type": "code",
   "execution_count": 5,
   "metadata": {
    "collapsed": true,
    "jupyter": {
     "outputs_hidden": true
    }
   },
   "outputs": [],
   "source": [
    "def reshape_results(data):\n",
    "    result = [list(a) for a in zip(data.Recommender, \n",
    "                                   data.Full.rank(ascending=False),\n",
    "                                   data.Unbiased.rank(ascending=False),\n",
    "                                   data.Test.rank(ascending=False))]\n",
    "    return result"
   ]
  },
  {
   "cell_type": "code",
   "execution_count": 6,
   "metadata": {},
   "outputs": [],
   "source": [
    "r = reshape_results(recall)\n",
    "p = reshape_results(precision)\n",
    "n = reshape_results(ndcg)"
   ]
  },
  {
   "cell_type": "code",
   "execution_count": 10,
   "metadata": {
    "collapsed": true,
    "jupyter": {
     "outputs_hidden": true
    }
   },
   "outputs": [],
   "source": [
    "fig, (ax1, ax2, ax3) = plt.subplots(1, 3, sharex='row')\n",
    "\n",
    "def combine_figure(data, ax):\n",
    "    artists = []\n",
    "    for row, color in zip(data, ('red','blue','green','magenta', 'black', 'purple', 'grey', 'orange')):\n",
    "        artists.append(plt.Line2D(xdata=[1,2,3], ydata=[row[1:]], lw=1, color=color, marker='o'))\n",
    "\n",
    "    for artist in artists:\n",
    "        ax.add_artist(artist)\n",
    "\n",
    "    ax.set_ybound([0.8,8.2])\n",
    "    ax.set_xbound([0.90,3.1])\n",
    "    ax.spines['top'].set_visible(False)\n",
    "    ax.spines['right'].set_visible(False)\n",
    "    ax.spines['bottom'].set_visible(False)\n",
    "    ax.spines['left'].set_visible(False)\n",
    "    return artists\n",
    "    \n",
    "combine_figure(p, ax1)\n",
    "combine_figure(r, ax2)\n",
    "artists = combine_figure(n, ax3)\n",
    "\n",
    "plt.gca().invert_yaxis()\n",
    "\n",
    "plt.xticks([1,2,3], ['Full', 'Unbiased', 'Test'])\n",
    "    \n",
    "plt.legend(artists, recall.Recommender, bbox_to_anchor=(1.05, 1), loc='upper left', title='Recommender', title_fontsize='x-large')\n",
    "#plt.ylabel('System ranking')\n",
    "fig.tight_layout()\n",
    "\n",
    "#fig.plt.show()set_constrained_layout_pads(w_pad=2/72, h_pad=2/72, hspace=0.2, wspace=0.2)\n",
    "plt.show()"
   ]
  },
  {
   "cell_type": "code",
   "execution_count": null,
   "metadata": {
    "collapsed": true,
    "jupyter": {
     "outputs_hidden": true
    }
   },
   "outputs": [],
   "source": []
  },
  {
   "cell_type": "code",
   "execution_count": null,
   "metadata": {
    "collapsed": true,
    "jupyter": {
     "outputs_hidden": true
    }
   },
   "outputs": [],
   "source": []
  }
 ],
 "metadata": {
  "kernelspec": {
   "display_name": "Python 3.9 (XPython)",
   "language": "python",
   "name": "xpython"
  },
  "language_info": {
   "file_extension": ".py",
   "mimetype": "text/x-python",
   "name": "python",
   "version": "3.9.1"
  }
 },
 "nbformat": 4,
 "nbformat_minor": 4
}
