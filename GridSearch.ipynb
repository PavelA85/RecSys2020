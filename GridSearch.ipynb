{
 "cells": [
  {
   "cell_type": "code",
   "execution_count": 1,
   "metadata": {},
   "outputs": [
    {
     "name": "stdout",
     "output_type": "stream",
     "text": [
      "Using pandas 1.2.0 version\n",
      "Using seaborn 0.11.1 version\n",
      "Using scipy 1.6.0 version\n"
     ]
    }
   ],
   "source": [
    "import matplotlib.pyplot as plt\n",
    "import numpy as np\n",
    "import os\n",
    "import pandas as pd\n",
    "import pprint\n",
    "import scipy\n",
    "import scipy.stats as stats\n",
    "import seaborn as sns\n",
    "\n",
    "pp = pprint.PrettyPrinter(indent=4)\n",
    "\n",
    "print(\"Using pandas %s version\" % pd.__version__)\n",
    "print(\"Using seaborn %s version\" % sns.__version__)\n",
    "print(\"Using scipy %s version\" % scipy.__version__)"
   ]
  },
  {
   "cell_type": "code",
   "execution_count": 7,
   "metadata": {
    "collapsed": false,
    "jupyter": {
     "outputs_hidden": false
    },
    "pycharm": {
     "name": "#%%\n"
    }
   },
   "outputs": [
    {
     "name": "stdout",
     "output_type": "stream",
     "text": [
      "C:\\Projects\\RecSys2020\\results\\unbiased\\yahoo-allrecs-target-sampling.txt\n",
      "\ttest:\n",
      "\t\t[['Normalized kNN (k=1000, min=3)' 0.17004444444444444]]\n",
      "\t\t[['iMF (k=10, lambda=0.1, alpha=10.0)' 0.1707]]\n",
      "\t\t[['kNN (k=300)' 0.17005925925925924]]\n"
     ]
    }
   ],
   "source": [
    "# dir = r\"C:\\Projects\\RecSys2020\\results\\biased\\ml1m-female-allrecs-target-sampling.txt\"\n",
    "\n",
    "allrecs_dirs = [\n",
    "    # r\"C:\\Projects\\RecSys2020\\results\\biased\\ml100k-allrecs-target-sampling.txt\",\n",
    "    # r\"C:\\Projects\\RecSys2020\\results\\biased\\ml1m-allrecs-target-sampling.txt\",\n",
    "    # r\"C:\\Projects\\RecSys2020\\results\\biased\\ml10m-allrecs-target-sampling.txt\",\n",
    "    # r\"C:\\Projects\\RecSys2020\\results\\biased\\yahoo-allrecs-target-sampling.txt\",\n",
    "    r\"C:\\Projects\\RecSys2020\\results\\unbiased\\yahoo-allrecs-target-sampling.txt\",\n",
    "]\n",
    "\n",
    "\n",
    "def rank_full_test(dir):\n",
    "    print(dir)\n",
    "    allrecs = pd.read_csv(\n",
    "        dir,\n",
    "        \"\\t\",\n",
    "        engine=\"python\",\n",
    "    )\n",
    "    full_size = allrecs[\"target size\"].max()\n",
    "    test = allrecs.where(allrecs[\"target size\"] == 0).groupby([\"recommender system\"])\n",
    "    full = allrecs.where(allrecs[\"target size\"] == full_size).groupby([\"recommender system\"])\n",
    "\n",
    "    def rank_recs(data):\n",
    "        data = np.array(data, dtype=object)\n",
    "\n",
    "        # f = data[1, 1]\n",
    "        # g = f[\"P@10\"]\n",
    "\n",
    "        average_p = []\n",
    "        for i in data:\n",
    "            average_p.append((i[0], np.average(i[1][\"P@10\"].values)))\n",
    "\n",
    "        r = pd.DataFrame(average_p, columns=[\"rec\", \"avg\"])\n",
    "\n",
    "        r[[\"rrec\", \"config\"]] = r.rec.str.split(\"(\", expand=True)\n",
    "        r.head()\n",
    "\n",
    "        r.sort_values(\"avg\", ascending=False).head(50)\n",
    "\n",
    "        group_by_recommender = r.groupby(\"rrec\")\n",
    "        groups = np.array(group_by_recommender, dtype=object)\n",
    "\n",
    "        for recommender_group in groups:\n",
    "            if recommender_group[1].shape[0] > 1:\n",
    "                print(\n",
    "                    \"\\t\\t\"\n",
    "                    + str(\n",
    "                        recommender_group[1]\n",
    "                            .sort_values(\"avg\", ascending=False)[[\"rec\", \"avg\"]]\n",
    "                            .head(1)\n",
    "                            .values\n",
    "                    )\n",
    "                )\n",
    "                recommender_group[1].sort_values(\"avg\", ascending=False)[[\"rec\", \"avg\"]]\n",
    "        return groups\n",
    "\n",
    "    print(\"\\ttest:\")\n",
    "    rank_recs(test)\n",
    "\n",
    "    # print(\"\\tfull:\" + str(full_size))\n",
    "    # rank_recs(full)\n",
    "\n",
    "\n",
    "for allrecs in allrecs_dirs:\n",
    "    rank_full_test(allrecs)"
   ]
  },
  {
   "cell_type": "code",
   "execution_count": 4,
   "metadata": {},
   "outputs": [],
   "source": [
    "# list(awww)"
   ]
  },
  {
   "cell_type": "code",
   "execution_count": 10,
   "metadata": {
    "collapsed": false,
    "jupyter": {
     "outputs_hidden": false
    },
    "pycharm": {
     "name": "#%%\n"
    }
   },
   "outputs": [
    {
     "data": {
      "text/plain": [
       "['C:\\\\Projects\\\\RecSys2020\\\\results\\\\biased\\\\\\\\ml1m-allrecs-target-sampling.txt',\n",
       " 'C:\\\\Projects\\\\RecSys2020\\\\results\\\\biased\\\\\\\\ml1m-male-allrecs-target-sampling.txt',\n",
       " 'C:\\\\Projects\\\\RecSys2020\\\\results\\\\biased\\\\\\\\ml1m-female-allrecs-target-sampling.txt',\n",
       " 'C:\\\\Projects\\\\RecSys2020\\\\results\\\\biased\\\\\\\\ml1m-young-allrecs-target-sampling.txt',\n",
       " 'C:\\\\Projects\\\\RecSys2020\\\\results\\\\biased\\\\\\\\ml1m-old-allrecs-target-sampling.txt',\n",
       " 'C:\\\\Projects\\\\RecSys2020\\\\results\\\\biased\\\\\\\\ml100k-allrecs-target-sampling.txt',\n",
       " 'C:\\\\Projects\\\\RecSys2020\\\\results\\\\biased\\\\\\\\ml100k-male-allrecs-target-sampling.txt',\n",
       " 'C:\\\\Projects\\\\RecSys2020\\\\results\\\\biased\\\\\\\\ml100k-female-allrecs-target-sampling.txt',\n",
       " 'C:\\\\Projects\\\\RecSys2020\\\\results\\\\biased\\\\\\\\ml100k-young-allrecs-target-sampling.txt',\n",
       " 'C:\\\\Projects\\\\RecSys2020\\\\results\\\\biased\\\\\\\\ml100k-old-allrecs-target-sampling.txt']"
      ]
     },
     "execution_count": 10,
     "metadata": {},
     "output_type": "execute_result"
    }
   ],
   "source": [
    "datasets = [\"ml1m\", \"ml100k\"]\n",
    "splits = [\"\", \"-male\", \"-female\", '-young', '-old']\n",
    "\n",
    "names = []\n",
    "paths = []\n",
    "for dataset in datasets:\n",
    "    for split in splits:\n",
    "        name = dataset + split\n",
    "        names.append(name)\n",
    "        paths.append(r\"C:\\Projects\\RecSys2020\\results\\biased\\\\\" + name + \"-allrecs-target-sampling.txt\")\n",
    "\n",
    "paths"
   ]
  },
  {
   "cell_type": "code",
   "execution_count": 38,
   "metadata": {
    "collapsed": false,
    "jupyter": {
     "outputs_hidden": false
    },
    "pycharm": {
     "name": "#%%\n"
    }
   },
   "outputs": [
    {
     "name": "stdout",
     "output_type": "stream",
     "text": [
      "C:\\Projects\\RecSys2020\\results\\biased\\\\ml1m-allrecs-target-sampling.txt\n",
      "\ttest:\n",
      "\t\t[['Normalized kNN (k=300, min=3)' 0.6733675496688742]]\n"
     ]
    },
    {
     "ename": "TypeError",
     "evalue": "'DataFrame' objects are mutable, thus they cannot be hashed",
     "output_type": "error",
     "traceback": [
      "\u001B[1;31m---------------------------------------------------------------------------\u001B[0m",
      "\u001B[1;31mTypeError\u001B[0m                                 Traceback (most recent call last)",
      "\u001B[1;32m<ipython-input-38-ff840fdbb6de>\u001B[0m in \u001B[0;36m<module>\u001B[1;34m\u001B[0m\n\u001B[1;32m----> 1\u001B[1;33m \u001B[0mlist\u001B[0m\u001B[1;33m(\u001B[0m\u001B[0mrank_full_test\u001B[0m\u001B[1;33m(\u001B[0m\u001B[0mpaths\u001B[0m\u001B[1;33m[\u001B[0m\u001B[1;36m0\u001B[0m\u001B[1;33m]\u001B[0m\u001B[1;33m)\u001B[0m\u001B[1;33m)\u001B[0m\u001B[1;33m\u001B[0m\u001B[1;33m\u001B[0m\u001B[0m\n\u001B[0m",
      "\u001B[1;32m<ipython-input-25-fc152cdb7acc>\u001B[0m in \u001B[0;36mrank_full_test\u001B[1;34m(dir)\u001B[0m\n\u001B[0;32m     57\u001B[0m \u001B[1;33m\u001B[0m\u001B[0m\n\u001B[0;32m     58\u001B[0m     \u001B[0mprint\u001B[0m\u001B[1;33m(\u001B[0m\u001B[1;34m\"\\ttest:\"\u001B[0m\u001B[1;33m)\u001B[0m\u001B[1;33m\u001B[0m\u001B[1;33m\u001B[0m\u001B[0m\n\u001B[1;32m---> 59\u001B[1;33m     \u001B[1;32myield\u001B[0m \u001B[1;33m{\u001B[0m\u001B[0mdir\u001B[0m\u001B[1;33m,\u001B[0m\u001B[1;34m'test'\u001B[0m\u001B[1;33m,\u001B[0m \u001B[0mrank_recs\u001B[0m\u001B[1;33m(\u001B[0m\u001B[0mtest\u001B[0m\u001B[1;33m)\u001B[0m\u001B[1;33m}\u001B[0m\u001B[1;33m\u001B[0m\u001B[1;33m\u001B[0m\u001B[0m\n\u001B[0m\u001B[0;32m     60\u001B[0m \u001B[1;33m\u001B[0m\u001B[0m\n\u001B[0;32m     61\u001B[0m     \u001B[0mprint\u001B[0m\u001B[1;33m(\u001B[0m\u001B[1;34m\"\\tfull:\"\u001B[0m \u001B[1;33m+\u001B[0m \u001B[0mstr\u001B[0m\u001B[1;33m(\u001B[0m\u001B[0mfull_size\u001B[0m\u001B[1;33m)\u001B[0m\u001B[1;33m)\u001B[0m\u001B[1;33m\u001B[0m\u001B[1;33m\u001B[0m\u001B[0m\n",
      "\u001B[1;32m~\\.conda\\envs\\jupyterlab-debugger\\lib\\site-packages\\pandas\\core\\generic.py\u001B[0m in \u001B[0;36m__hash__\u001B[1;34m(self)\u001B[0m\n\u001B[0;32m   1780\u001B[0m \u001B[1;33m\u001B[0m\u001B[0m\n\u001B[0;32m   1781\u001B[0m     \u001B[1;32mdef\u001B[0m \u001B[0m__hash__\u001B[0m\u001B[1;33m(\u001B[0m\u001B[0mself\u001B[0m\u001B[1;33m)\u001B[0m \u001B[1;33m->\u001B[0m \u001B[0mint\u001B[0m\u001B[1;33m:\u001B[0m\u001B[1;33m\u001B[0m\u001B[1;33m\u001B[0m\u001B[0m\n\u001B[1;32m-> 1782\u001B[1;33m         raise TypeError(\n\u001B[0m\u001B[0;32m   1783\u001B[0m             \u001B[1;34mf\"{repr(type(self).__name__)} objects are mutable, \"\u001B[0m\u001B[1;33m\u001B[0m\u001B[1;33m\u001B[0m\u001B[0m\n\u001B[0;32m   1784\u001B[0m             \u001B[1;34mf\"thus they cannot be hashed\"\u001B[0m\u001B[1;33m\u001B[0m\u001B[1;33m\u001B[0m\u001B[0m\n",
      "\u001B[1;31mTypeError\u001B[0m: 'DataFrame' objects are mutable, thus they cannot be hashed"
     ]
    }
   ],
   "source": [
    "list(rank_full_test(paths[0]))"
   ]
  },
  {
   "cell_type": "code",
   "execution_count": 11,
   "metadata": {
    "collapsed": false,
    "jupyter": {
     "outputs_hidden": false
    },
    "pycharm": {
     "name": "#%%\n"
    }
   },
   "outputs": [
    {
     "name": "stdout",
     "output_type": "stream",
     "text": [
      "C:\\Projects\\RecSys2020\\results\\biased\\\\ml1m-allrecs-target-sampling.txt\n",
      "\ttest:\n",
      "\t\t[['Normalized kNN (k=300, min=3)' 0.6733675496688742]]\n",
      "\t\t[['iMF (k=10, lambda=1.0, alpha=100.0)' 0.6848741721854305]]\n",
      "\t\t[['kNN (k=90)' 0.659271523178808]]\n",
      "\tfull:3706\n",
      "\t\t[['Normalized kNN (k=10, min=3)' 0.14577152317880793]]\n",
      "\t\t[['iMF (k=50, lambda=10.0, alpha=1.0)' 0.29263245033112584]]\n",
      "\t\t[['kNN (k=60)' 0.2556092715231788]]\n",
      "C:\\Projects\\RecSys2020\\results\\biased\\\\ml1m-male-allrecs-target-sampling.txt\n",
      "\ttest:\n",
      "\t\t[['Normalized kNN (k=300, min=3)' 0.6840914338489956]]\n",
      "\t\t[['iMF (k=10, lambda=10.0, alpha=100.0)' 0.6940152389748325]]\n",
      "\t\t[['kNN (k=100)' 0.6697806511198336]]\n",
      "\tfull:3671\n",
      "\t\t[['Normalized kNN (k=10, min=3)' 0.15377049180327867]]\n",
      "\t\t[['iMF (k=50, lambda=10.0, alpha=1.0)' 0.30363888247517895]]\n",
      "\t\t[['kNN (k=40)' 0.26690371738628493]]\n",
      "C:\\Projects\\RecSys2020\\results\\biased\\\\ml1m-female-allrecs-target-sampling.txt\n",
      "\ttest:\n",
      "\t\t[['Normalized kNN (k=200, min=3)' 0.6439789350497367]]\n",
      "\t\t[['iMF (k=5, lambda=10.0, alpha=100.0)' 0.6497483908718549]]\n",
      "\t\t[['kNN (k=60)' 0.6330602691632533]]\n",
      "\tfull:3481\n",
      "\t\t[['Normalized kNN (k=10, min=3)' 0.10532475131655934]]\n",
      "\t\t[['iMF (k=50, lambda=10.0, alpha=1.0)' 0.2268812170860152]]\n",
      "\t\t[['kNN (k=40)' 0.20232884727911055]]\n",
      "C:\\Projects\\RecSys2020\\results\\biased\\\\ml1m-young-allrecs-target-sampling.txt\n",
      "\ttest:\n",
      "\t\t[['Normalized kNN (k=80, min=3)' 0.6144144144144144]]\n",
      "\t\t[['iMF (k=5, lambda=10.0, alpha=100.0)' 0.6138738738738738]]\n",
      "\t\t[['kNN (k=30)' 0.6077477477477478]]\n",
      "\tfull:2650\n",
      "\t\t[['Normalized kNN (k=10, min=3)' 0.09297297297297294]]\n",
      "\t\t[['iMF (k=10, lambda=10.0, alpha=1.0)' 0.2015315315315315]]\n",
      "\t\t[['kNN (k=30)' 0.1807207207207207]]\n",
      "C:\\Projects\\RecSys2020\\results\\biased\\\\ml1m-old-allrecs-target-sampling.txt\n",
      "\ttest:\n",
      "\t\t[['Normalized kNN (k=200, min=3)' 0.6255263157894737]]\n",
      "\t\t[['iMF (k=5, lambda=1.0, alpha=100.0)' 0.6205789473684209]]\n",
      "\t\t[['kNN (k=200)' 0.6227368421052631]]\n",
      "\tfull:2913\n",
      "\t\t[['Normalized kNN (k=10, min=3)' 0.08984210526315785]]\n",
      "\t\t[['iMF (k=10, lambda=0.1, alpha=1.0)' 0.16889473684210524]]\n",
      "\t\t[['kNN (k=30)' 0.15705263157894736]]\n",
      "C:\\Projects\\RecSys2020\\results\\biased\\\\ml100k-allrecs-target-sampling.txt\n",
      "\ttest:\n",
      "\t\t[['Normalized kNN (k=100, min=3)' 0.5738494167550371]]\n",
      "\t\t[['iMF (k=5, lambda=1.0, alpha=100.0)' 0.5798727465535525]]\n",
      "\t\t[['kNN (k=30)' 0.5658324496288442]]\n",
      "\tfull:1682\n",
      "\t\t[['Normalized kNN (k=10, min=3)' 0.14413573700954396]]\n",
      "\t\t[['iMF (k=10, lambda=10.0, alpha=1.0)' 0.2614422057264051]]\n",
      "\t\t[['kNN (k=50)' 0.2340190880169671]]\n",
      "C:\\Projects\\RecSys2020\\results\\biased\\\\ml100k-male-allrecs-target-sampling.txt\n",
      "\ttest:\n",
      "\t\t[['Normalized kNN (k=90, min=3)' 0.5916417910447761]]\n",
      "\t\t[['iMF (k=5, lambda=10.0, alpha=100.0)' 0.5934029850746269]]\n",
      "\t\t[['kNN (k=30)' 0.5814328358208956]]\n",
      "\tfull:1605\n",
      "\t\t[['Normalized kNN (k=10, min=3)' 0.15188059701492534]]\n",
      "\t\t[['iMF (k=10, lambda=0.1, alpha=1.0)' 0.26817910447761195]]\n",
      "\t\t[['kNN (k=60)' 0.2457611940298507]]\n",
      "C:\\Projects\\RecSys2020\\results\\biased\\\\ml100k-female-allrecs-target-sampling.txt\n",
      "\ttest:\n",
      "\t\t[['Normalized kNN (k=50, min=3)' 0.5283516483516484]]\n",
      "\t\t[['iMF (k=5, lambda=1.0, alpha=10.0)' 0.531062271062271]]\n",
      "\t\t[['kNN (k=20)' 0.5255677655677655]]\n",
      "\tfull:1534\n",
      "\t\t[['Normalized kNN (k=10, min=3)' 0.10336996336996333]]\n",
      "\t\t[['iMF (k=10, lambda=10.0, alpha=1.0)' 0.2013186813186813]]\n",
      "\t\t[['kNN (k=50)' 0.18190476190476185]]\n",
      "C:\\Projects\\RecSys2020\\results\\biased\\\\ml100k-young-allrecs-target-sampling.txt\n",
      "\ttest:\n",
      "\t\t[['Normalized kNN (k=30, min=3)' 0.5018518518518518]]\n",
      "\t\t[['iMF (k=5, lambda=10.0, alpha=10.0)' 0.5107407407407407]]\n",
      "\t\t[['kNN (k=20)' 0.5140740740740741]]\n",
      "\tfull:1012\n",
      "\t\t[['Normalized kNN (k=10, min=3)' 0.10259259259259254]]\n",
      "\t\t[['iMF (k=50, lambda=10.0, alpha=1.0)' 0.16962962962962957]]\n",
      "\t\t[['kNN (k=20)' 0.15666666666666665]]\n",
      "C:\\Projects\\RecSys2020\\results\\biased\\\\ml100k-old-allrecs-target-sampling.txt\n",
      "\ttest:\n",
      "\t\t[['Normalized kNN (k=60, min=3)' 0.5269230769230768]]\n",
      "\t\t[['iMF (k=5, lambda=1.0, alpha=1.0)' 0.533076923076923]]\n",
      "\t\t[['kNN (k=50)' 0.5384615384615384]]\n",
      "\tfull:1042\n",
      "\t\t[['Normalized kNN (k=10, min=3)' 0.1196153846153846]]\n",
      "\t\t[['iMF (k=50, lambda=10.0, alpha=1.0)' 0.16846153846153844]]\n",
      "\t\t[['kNN (k=20)' 0.16846153846153844]]\n"
     ]
    }
   ],
   "source": [
    "for path in paths:\n",
    "    rank_full_test(path)"
   ]
  }
 ],
 "metadata": {
  "kernelspec": {
   "display_name": "Python 3.9 (XPython)",
   "language": "python",
   "name": "xpython"
  },
  "language_info": {
   "file_extension": ".py",
   "mimetype": "text/x-python",
   "name": "python",
   "version": "3.9.1"
  }
 },
 "nbformat": 4,
 "nbformat_minor": 4
}