{
 "cells": [
  {
   "cell_type": "code",
   "execution_count": 1,
   "metadata": {},
   "outputs": [
    {
     "name": "stdout",
     "output_type": "stream",
     "text": [
      "Using pandas 1.2.0 version\n",
      "Using seaborn 0.11.1 version\n",
      "Using scipy 1.6.0 version\n"
     ]
    }
   ],
   "source": [
    "import itertools\n",
    "import linecache\n",
    "import os\n",
    "import pprint\n",
    "\n",
    "import matplotlib.patches as mpatches\n",
    "import matplotlib.pyplot as plt\n",
    "import numpy as np\n",
    "import pandas as pd\n",
    "import scipy\n",
    "import scipy.stats as stats\n",
    "import seaborn as sns\n",
    "\n",
    "pp = pprint.PrettyPrinter(indent=4)\n",
    "\n",
    "print(\"Using pandas %s version\" % pd.__version__)\n",
    "print(\"Using seaborn %s version\" % sns.__version__)\n",
    "print(\"Using scipy %s version\" % scipy.__version__)"
   ]
  },
  {
   "cell_type": "code",
   "execution_count": 2,
   "metadata": {
    "collapsed": false,
    "jupyter": {
     "outputs_hidden": false
    },
    "pycharm": {
     "name": "#%%\n"
    }
   },
   "outputs": [
    {
     "name": "stdout",
     "output_type": "stream",
     "text": [
      "[   'ml1m',\n",
      "    'ml1m-male',\n",
      "    'ml1m-female',\n",
      "    'ml1m-young',\n",
      "    'ml1m-old',\n",
      "    'ml100k',\n",
      "    'ml100k-male',\n",
      "    'ml100k-female',\n",
      "    'ml100k-young',\n",
      "    'ml100k-old']\n"
     ]
    }
   ],
   "source": [
    "imfFull = \"#548235\"\n",
    "imfTest = \"#99C979\"\n",
    "\n",
    "knnFull = \"#C55A11\"\n",
    "knnTest = \"#ff5811\"\n",
    "normalizedKnnFull = \"#4A76C6\"\n",
    "normalizedKnnTest = \"#19C3FF\"\n",
    "\n",
    "average = \"#FFC000\"\n",
    "popularity = \"#F18F8F\"\n",
    "random = \"#BFBFBF\"\n",
    "\n",
    "CorrelationWithUnbiasedEvaluation = \"#C00000\"\n",
    "ExpectedIntersectionRatioInTopN = \"#FFC000\"\n",
    "RatioOfTies = \"#3333FF\"\n",
    "RatioOfTiesAtZero = \"#006600\"\n",
    "\n",
    "rec_colors_dict = {\n",
    "    \"iMF (full)\": \"#548235\",\n",
    "    \"iMF (test)\": \"#99C979\",\n",
    "    \"kNN (full/test)\": \"#C55A11\",\n",
    "    \"kNN (full)\": \"#C55A11\",\n",
    "    \"kNN (test)\": \"#ff5811\",\n",
    "    \"Normalized kNN (full)\": \"#4A76C6\",\n",
    "    \"Normalized kNN (test)\": \"#19C3FF\",\n",
    "    \"Average Rating\": \"#FFC000\",\n",
    "    \"Popularity\": \"#F18F8F\",\n",
    "    \"Random\": \"#BFBFBF\",\n",
    "    \"Correlation with unbiased evaluation\": CorrelationWithUnbiasedEvaluation,\n",
    "    \"Expected intersection ratio in top n\": ExpectedIntersectionRatioInTopN,\n",
    "    \"Ratio of ties\": RatioOfTies,\n",
    "    \"Ratio of ties at zero\": RatioOfTiesAtZero,\n",
    "    \"Sum of p-values\": \"black\",\n",
    "}\n",
    "# colors = ('red','blue','green','magenta', 'black', 'purple', 'grey', 'orange')\n",
    "# rec_colors = (\n",
    "#     imfFull,\n",
    "#     imfTest,\n",
    "#     knnFull,\n",
    "#     knnTest,\n",
    "#     normalizedKnnFull,\n",
    "#     normalizedKnnTest,\n",
    "#     average,\n",
    "#     popularity,\n",
    "#     random,\n",
    "# )\n",
    "\n",
    "datasets = [\"ml1m\", \"ml100k\"]\n",
    "class_splits = [\"\", \"-male\", \"-female\", \"-young\", \"-old\"]\n",
    "splits = []\n",
    "for d in datasets:\n",
    "    for c in class_splits:\n",
    "        splits.append(d + c)\n",
    "\n",
    "pp.pprint(splits)\n",
    "\n",
    "\n",
    "data_dir = r\"C:\\Projects\\RecSys2020\\results\\_mbd\\\\\""
   ]
  },
  {
   "cell_type": "code",
   "execution_count": 4,
   "metadata": {
    "collapsed": false,
    "jupyter": {
     "outputs_hidden": false
    },
    "pycharm": {
     "name": "#%%\n"
    }
   },
   "outputs": [
    {
     "name": "stdout",
     "output_type": "stream",
     "text": [
      "def plot_figure4(...\n",
      "\n"
     ]
    }
   ],
   "source": [
    "print(\"def plot_figure4(...\\n\")\n",
    "\n",
    "\n",
    "def plot_metrics(data, ax, ylabel=\"System ranking\", twinx=None, title=None):\n",
    "    artists = []\n",
    "    for rec in data.columns[1:]:\n",
    "        x = list(range(len(data[rec])))\n",
    "        artist = plt.Line2D(\n",
    "            xdata=x, ydata=[data[rec]], lw=1, color=rec_colors_dict[rec], marker=\"o\"\n",
    "        )\n",
    "        artists.append((rec, artist))\n",
    "        ax.add_artist(artist)\n",
    "\n",
    "    max_value = data.iloc[:, 1:].max().max()\n",
    "    ax.set_ybound([0, max_value * 1.1])\n",
    "    # ax.set_xbound([-0.1, len(data['Target size']) + 0.06])\n",
    "\n",
    "    hide_spines(ax)\n",
    "\n",
    "    ax.set_xticks(list(range(len(data[\"Target size\"]))))\n",
    "    ax.set_xticklabels(data[\"Target size\"])\n",
    "    ax.set_xticklabels(list(itertools.chain(data[\"Target size\"].values[:-1], [\"Full\"])))\n",
    "    ax.set_ylabel(ylabel)\n",
    "\n",
    "    for tick in ax.get_xticklabels():\n",
    "        tick.set_rotation(90)\n",
    "\n",
    "    if twinx is not None and twinx.max() > 0:\n",
    "        # print(\"twinx\", twinx)\n",
    "        label = \"Sum of p-values\"\n",
    "        ax2 = ax.twinx()\n",
    "        (e,) = ax2.plot(\n",
    "            list(range(len(twinx))),\n",
    "            twinx,\n",
    "            label=label,\n",
    "            lw=1,\n",
    "            color=\"black\",\n",
    "            fillstyle=\"none\",\n",
    "            markeredgecolor=\"black\",\n",
    "            marker=\"s\",\n",
    "        )\n",
    "        ax2.set_ylabel(label)\n",
    "        max = twinx.max()\n",
    "        ax2.set_ylim(0, max + 0.1 * max + 0.01)\n",
    "\n",
    "        hide_spines(ax2)\n",
    "        # ax2.legend(loc=1)\n",
    "        # artists.append(ax2)\n",
    "        artists.append((label, e))\n",
    "\n",
    "    if title is not None:\n",
    "        ax.set_title(title)\n",
    "\n",
    "    return np.array(artists)\n",
    "\n",
    "\n",
    "def hide_spines(ax):\n",
    "    ax.spines[\"top\"].set_visible(False)\n",
    "    ax.spines[\"right\"].set_visible(False)\n",
    "    ax.spines[\"bottom\"].set_visible(False)\n",
    "    ax.spines[\"left\"].set_visible(False)\n",
    "\n",
    "\n",
    "def get_figure_data(file_name):\n",
    "    file = os.path.join(r\"C:\\Projects\\RecSys2020\\results\", file_name)\n",
    "    print(file)\n",
    "    lines_with_metrics = [\n",
    "        (i, linecache.getline(file, i + 1).strip())\n",
    "        for i, line in enumerate(open(file))\n",
    "        if line.endswith(\"@10\\n\")\n",
    "    ]\n",
    "    if len(lines_with_metrics) == 1:\n",
    "        lines_with_numbers = [\n",
    "            (i, linecache.getline(file, i + 1).strip())\n",
    "            for i, line in enumerate(open(file))\n",
    "            if line[0].isdigit()\n",
    "        ]\n",
    "        rows = len(lines_with_numbers)\n",
    "    else:\n",
    "        rows = lines_with_metrics[2][0] - lines_with_metrics[1][0] - 3\n",
    "\n",
    "    params = dict(filepath_or_buffer=file, sep=\"\\t\", nrows=rows)\n",
    "    data = dict()\n",
    "    for j, metric in enumerate(lines_with_metrics):\n",
    "        metric_name = metric[1]\n",
    "        metric_line = metric[0]\n",
    "        data[metric_name] = pd.read_table(header=metric_line - j, **params)\n",
    "\n",
    "    if \"P@10\" in data:\n",
    "        data[\"Precision@10\"] = data[\"P@10\"]\n",
    "    return data\n",
    "\n",
    "\n",
    "def plot_figure4(dataset, ax1, ax2, ax3, ax4, legend=True, yahoo=None, title=True):\n",
    "    data = get_figure_data(\"figure4.txt.\" + dataset + \".txt\")\n",
    "\n",
    "    rows = [\"Precision@10\", \"Recall@10\", \"nDCG@10\", \"FScore@10\"]\n",
    "\n",
    "    twinx = \"Sum of p-values\"\n",
    "    for ax, row in zip([ax1, ax2, ax3, ax4], rows):\n",
    "        ax.set_ylabel(row, rotation=90, size=\"large\")\n",
    "        artists = plot_metrics(\n",
    "            data[row].iloc[:, :-1],\n",
    "            ax,\n",
    "            ylabel=row,\n",
    "            twinx=data[row][twinx],\n",
    "        )\n",
    "    [x.invert_xaxis() for x in [ax1, ax2, ax3, ax4]]\n",
    "\n",
    "    if yahoo is not None:\n",
    "        print(\"yahoo\")\n",
    "        ax1, ax2, ax3, ax4 = yahoo\n",
    "        data = get_figure_data(\"figure4.txt.yahoo.txt\")\n",
    "        [x.invert_xaxis() for x in [ax1, ax2, ax3, ax4]]\n",
    "        for ax, row in zip([ax1, ax2, ax3, ax4], rows):\n",
    "            plot_metrics(\n",
    "                data[row].iloc[:, :-1],\n",
    "                ax,\n",
    "                ylabel=row,\n",
    "                twinx=data[row][twinx],\n",
    "            )\n",
    "\n",
    "    legened_items = [*{*itertools.chain.from_iterable([data[i].keys() for i in data])}]\n",
    "    legened_items.remove(\"Target size\")\n",
    "\n",
    "    if title:\n",
    "       fig.suptitle(dataset)\n",
    "\n",
    "    if legend:\n",
    "        # plt.legend(artists[:,1], artists[:,0], bbox_to_anchor=(1.05, 1), loc=\"best\")\n",
    "        plt.legend(\n",
    "            artists[:, 1],\n",
    "            artists[:, 0],\n",
    "            # loc=\"lower center\",\n",
    "            # bbox_to_anchor=(0.5, -0.05),\n",
    "                loc=\"upper left\", #lower center\n",
    "    bbox_to_anchor=(1.05, 1),\n",
    "            # ncol=5,\n",
    "        )\n",
    "\n",
    "    return artists"
   ]
  },
  {
   "cell_type": "code",
   "execution_count": 69,
   "outputs": [
    {
     "name": "stdout",
     "output_type": "stream",
     "text": [
      "figure4.full\n",
      "\n",
      "C:\\Projects\\RecSys2020\\results\\figure4.txt.ml1m.txt\n",
      "yahoo\n",
      "C:\\Projects\\RecSys2020\\results\\figure4.txt.yahoo.txt\n"
     ]
    }
   ],
   "source": [
    "print(\"figure4.full\\n\")\n",
    "fig, axes = plt.subplots(nrows=4, ncols=2, figsize=(14, 8))\n",
    "\n",
    "artists = plot_figure4(\n",
    "    \"ml1m\",\n",
    "    axes[0, 0],\n",
    "    axes[1, 0],\n",
    "    axes[2, 0],\n",
    "    axes[3, 0],\n",
    "    legend=False,\n",
    "    title=False,\n",
    "    yahoo=(axes[0, 1], axes[1, 1], axes[2, 1], axes[3, 1]),\n",
    ")\n",
    "\n",
    "axes[0][0].set_title(\"MovieLens 1M\")\n",
    "axes[0][1].set_title(\"Yahoo R3\")\n",
    "\n",
    "\n",
    "fig.legend(\n",
    "    artists[:, 1],\n",
    "    artists[:, 0],\n",
    "    loc=\"lower center\" ,\n",
    "    ncol=5,\n",
    ")\n",
    "fig.set_size_inches(10, 12)\n",
    "fig.tight_layout()\n",
    "fig.subplots_adjust(bottom=0.08)\n",
    "\n",
    "png = os.path.join(data_dir, \"figure4.full.png\")\n",
    "fig.savefig(png, format=\"png\", dpi=300, transparent=False)\n",
    "plt.show()"
   ],
   "metadata": {
    "collapsed": false,
    "pycharm": {
     "name": "#%%\n"
    }
   }
  },
  {
   "cell_type": "code",
   "execution_count": 65,
   "outputs": [
    {
     "name": "stdout",
     "output_type": "stream",
     "text": [
      "figure4\n",
      "\n",
      "ml1m\n",
      "C:\\Projects\\RecSys2020\\results\\figure4.txt.ml1m.txt\n",
      "ml1m-male\n",
      "C:\\Projects\\RecSys2020\\results\\figure4.txt.ml1m-male.txt\n",
      "ml1m-female\n",
      "C:\\Projects\\RecSys2020\\results\\figure4.txt.ml1m-female.txt\n",
      "ml1m-young\n",
      "C:\\Projects\\RecSys2020\\results\\figure4.txt.ml1m-young.txt\n",
      "ml1m-old\n",
      "C:\\Projects\\RecSys2020\\results\\figure4.txt.ml1m-old.txt\n",
      "ml100k\n",
      "C:\\Projects\\RecSys2020\\results\\figure4.txt.ml100k.txt\n",
      "ml100k-male\n",
      "C:\\Projects\\RecSys2020\\results\\figure4.txt.ml100k-male.txt\n",
      "ml100k-female\n",
      "C:\\Projects\\RecSys2020\\results\\figure4.txt.ml100k-female.txt\n",
      "ml100k-young\n",
      "C:\\Projects\\RecSys2020\\results\\figure4.txt.ml100k-young.txt\n",
      "ml100k-old\n",
      "C:\\Projects\\RecSys2020\\results\\figure4.txt.ml100k-old.txt\n"
     ]
    }
   ],
   "source": [
    "print(\"figure4\\n\")\n",
    "\n",
    "for split in splits:\n",
    "    print(split)\n",
    "\n",
    "    fig, axes = plt.subplots(nrows=4, ncols=1, figsize=(14, 8))\n",
    "    artists = plot_figure4(split, axes[0], axes[1], axes[2], axes[3], legend=False)\n",
    "    png = os.path.join(data_dir, \"figure4.\" + split + \".png\")\n",
    "    fig.legend(\n",
    "        artists[:, 1],\n",
    "        artists[:, 0],\n",
    "        loc=\"lower center\" ,\n",
    "        ncol=1,\n",
    "    )\n",
    "\n",
    "    fig.set_size_inches(4, 10)\n",
    "    fig.tight_layout()\n",
    "    fig.subplots_adjust(bottom=0.15)\n",
    "    fig.savefig(png, format=\"png\", dpi=300, transparent=False)\n",
    "plt.show()"
   ],
   "metadata": {
    "collapsed": false,
    "pycharm": {
     "name": "#%%\n"
    }
   }
  },
  {
   "cell_type": "code",
   "execution_count": 46,
   "outputs": [
    {
     "name": "stdout",
     "output_type": "stream",
     "text": [
      "figure4.grouped\n",
      "\n",
      "ml1m ['', '-male', '-female']\n",
      "C:\\Projects\\RecSys2020\\results\\figure4.txt.ml1m.txt\n",
      "C:\\Projects\\RecSys2020\\results\\figure4.txt.ml1m-male.txt\n",
      "C:\\Projects\\RecSys2020\\results\\figure4.txt.ml1m-female.txt\n",
      "ml1m ['', '-young', '-old']\n",
      "C:\\Projects\\RecSys2020\\results\\figure4.txt.ml1m.txt\n",
      "C:\\Projects\\RecSys2020\\results\\figure4.txt.ml1m-young.txt\n",
      "C:\\Projects\\RecSys2020\\results\\figure4.txt.ml1m-old.txt\n",
      "ml100k ['', '-male', '-female']\n",
      "C:\\Projects\\RecSys2020\\results\\figure4.txt.ml100k.txt\n",
      "C:\\Projects\\RecSys2020\\results\\figure4.txt.ml100k-male.txt\n",
      "C:\\Projects\\RecSys2020\\results\\figure4.txt.ml100k-female.txt\n",
      "ml100k ['', '-young', '-old']\n",
      "C:\\Projects\\RecSys2020\\results\\figure4.txt.ml100k.txt\n",
      "C:\\Projects\\RecSys2020\\results\\figure4.txt.ml100k-young.txt\n",
      "C:\\Projects\\RecSys2020\\results\\figure4.txt.ml100k-old.txt\n"
     ]
    }
   ],
   "source": [
    "print(\"figure4.grouped\\n\")\n",
    "\n",
    "grouped_splits = [\n",
    "    [\"\", \"-male\", \"-female\"],\n",
    "    [\"\", \"-young\", \"-old\"]\n",
    "]\n",
    "xlabel=r\"$|N_{u}|$\"\n",
    "\n",
    "for dataset in datasets:\n",
    "    for split in grouped_splits:\n",
    "        print(dataset, split)\n",
    "\n",
    "        fig, axes = plt.subplots(nrows=4, ncols=len(split), figsize=(14, 16))\n",
    "        for i, s in enumerate(split):\n",
    "            artists = plot_figure4(dataset+s,\n",
    "                                   axes[0, i], axes[1, i], axes[2, i], axes[3, i],\n",
    "                                   legend=False, title=False)\n",
    "            axes[0, i].set_title(dataset+s)\n",
    "        [ a.set_xlabel(xlabel) for a in axes[3,:]]\n",
    "        fig.legend(\n",
    "            artists[:, 1],\n",
    "            artists[:, 0],\n",
    "            loc=\"lower center\" ,\n",
    "            ncol=5,\n",
    "        )\n",
    "        png = os.path.join(data_dir, \"figure4.grouped.\" + \"\".join(split) + \".png\")\n",
    "        fig.set_size_inches(10, 10)\n",
    "        fig.tight_layout()\n",
    "        fig.subplots_adjust(bottom=0.1)\n",
    "        fig.savefig(png, format=\"png\", dpi=300, transparent=False)\n",
    "plt.show()"
   ],
   "metadata": {
    "collapsed": false,
    "pycharm": {
     "name": "#%%\n"
    }
   }
  },
  {
   "cell_type": "code",
   "execution_count": 47,
   "outputs": [
    {
     "name": "stdout",
     "output_type": "stream",
     "text": [
      "figure5.gender+age.png\n",
      "\n",
      "ml1m \n",
      "C:\\Projects\\RecSys2020\\results\\figure505.ml1m-nofill.txt\n",
      "ml1m -male\n",
      "C:\\Projects\\RecSys2020\\results\\figure505.ml1m-male-nofill.txt\n",
      "ml1m -female\n",
      "C:\\Projects\\RecSys2020\\results\\figure505.ml1m-female-nofill.txt\n",
      "ml1m -young\n",
      "C:\\Projects\\RecSys2020\\results\\figure505.ml1m-young-nofill.txt\n",
      "ml1m -old\n",
      "C:\\Projects\\RecSys2020\\results\\figure505.ml1m-old-nofill.txt\n",
      "ml100k \n",
      "C:\\Projects\\RecSys2020\\results\\figure505.ml100k-nofill.txt\n",
      "ml100k -male\n",
      "C:\\Projects\\RecSys2020\\results\\figure505.ml100k-male-nofill.txt\n",
      "ml100k -female\n",
      "C:\\Projects\\RecSys2020\\results\\figure505.ml100k-female-nofill.txt\n",
      "ml100k -young\n",
      "C:\\Projects\\RecSys2020\\results\\figure505.ml100k-young-nofill.txt\n",
      "ml100k -old\n",
      "C:\\Projects\\RecSys2020\\results\\figure505.ml100k-old-nofill.txt\n"
     ]
    }
   ],
   "source": [
    "print(\"figure5.gender+age.png\\n\")\n",
    "\n",
    "\n",
    "def plot_figure505(dataset, ax, title):\n",
    "    data = get_figure_data(\"figure505.\" + dataset + \"-nofill.txt\")\n",
    "    coverage = data[\"Coverage@10\"]\n",
    "    artists = plot_metrics(coverage, ax, ylabel=\"Coverage@10\", title=title)\n",
    "    # legened_items = [*{*itertools.chain.from_iterable([data[i].keys() for i in data])}]\n",
    "    # legened_items.remove('Target size')\n",
    "    return artists  # , legened_items\n",
    "\n",
    "\n",
    "fig, axes = plt.subplots(nrows=5, ncols=2, figsize=(8, 15))\n",
    "\n",
    "for i, dataset in enumerate(datasets):\n",
    "    for j, split in enumerate(class_splits):\n",
    "        print(dataset, split)\n",
    "        artists = plot_figure505(dataset + split, axes[j, i], dataset + split)\n",
    "        axes[j, i].invert_xaxis()\n",
    "\n",
    "# plt.legend(handles=[ mpatches.Patch(color=rec_colors_dict[name], label=name, lw=1) for name in rec_colors_dict],\n",
    "#            bbox_to_anchor=(1.05, 1),\n",
    "#     loc=\"upper left\",\n",
    "#     title_fontsize=\"xx-large\",)\n",
    "plt.legend(\n",
    "    artists[:, 1],\n",
    "    artists[:, 0],\n",
    "    loc=\"upper left\", #lower center\n",
    "    bbox_to_anchor=(1.05, 1),\n",
    "    # bbox_to_anchor=(0.5, -0.05),\n",
    "    # ncol=5,\n",
    ")\n",
    "fig.tight_layout()\n",
    "png = os.path.join(data_dir, \"figure5.full.png\")\n",
    "fig.savefig(png, format=\"png\", dpi=300)\n",
    "plt.show()"
   ],
   "metadata": {
    "collapsed": false,
    "pycharm": {
     "name": "#%%\n"
    }
   }
  },
  {
   "cell_type": "code",
   "execution_count": 5,
   "metadata": {
    "collapsed": false,
    "jupyter": {
     "outputs_hidden": false
    },
    "pycharm": {
     "name": "#%%\n"
    }
   },
   "outputs": [
    {
     "name": "stdout",
     "output_type": "stream",
     "text": [
      "figure5.full2.png\n",
      "\n"
     ]
    }
   ],
   "source": [
    "print(\"figure5.full2.png\\n\")\n",
    "# fig, (ax1, ax2) = plt.subplots(1, 2)\n",
    "# split = \"ShuffleSplit\"\n",
    "#\n",
    "# coverage = pd.read_table(\n",
    "#     r\"C:\\Projects\\RecSys2020\\results\\\\\" + split + r\"\\figure5.txt\",\n",
    "#     sep=\"\\t\",\n",
    "#     header=4,\n",
    "#     nrows=13,\n",
    "# )\n",
    "# plot_metrics(coverage, ax1, ylabel=\"Coverage@10\", title=\"MovieLens1M\")\n",
    "#\n",
    "# coverage = pd.read_table(\n",
    "#     r\"C:\\Projects\\RecSys2020\\results\\KFold\\figure5.txt\",\n",
    "#     sep=\"\\t\",\n",
    "#     header=4,\n",
    "#     nrows=11,\n",
    "# )\n",
    "# artists = plot_metrics(coverage, ax2, ylabel=\"Coverage@10\", title=\"Yahoo!\")\n",
    "#\n",
    "# [x.invert_xaxis() for x in [ax1, ax2]]\n",
    "#\n",
    "# plt.legend(\n",
    "#     artists,\n",
    "#     coverage.keys()[1:],\n",
    "#     bbox_to_anchor=(1.05, 1),\n",
    "#     loc=\"upper left\",\n",
    "#     # title=\"Recommender\",\n",
    "#     title_fontsize=\"xx-large\",\n",
    "# )\n",
    "# fig.set_size_inches(8, 3)\n",
    "# fig.tight_layout()\n",
    "# png = os.path.join(data_dir, \"figure5.full2.png\")\n",
    "# fig.savefig(png, format=\"png\", dpi=300)\n",
    "# plt.show()\n",
    "# plt.close(\"all\")"
   ]
  },
  {
   "cell_type": "code",
   "execution_count": 6,
   "metadata": {
    "collapsed": false,
    "jupyter": {
     "outputs_hidden": false
    },
    "pycharm": {
     "name": "#%%\n"
    }
   },
   "outputs": [
    {
     "name": "stdout",
     "output_type": "stream",
     "text": [
      "empty.png\n",
      "\n"
     ]
    }
   ],
   "source": [
    "print(\"empty.png\\n\")"
   ]
  }
 ],
 "metadata": {
  "kernelspec": {
   "name": "xpython",
   "language": "python",
   "display_name": "Python 3.9 (XPython)"
  },
  "language_info": {
   "file_extension": ".py",
   "mimetype": "text/x-python",
   "name": "python",
   "version": "3.9.1"
  }
 },
 "nbformat": 4,
 "nbformat_minor": 4
}