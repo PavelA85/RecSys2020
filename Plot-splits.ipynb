{
 "cells": [
  {
   "cell_type": "code",
   "execution_count": 4,
   "metadata": {
    "collapsed": true,
    "jupyter": {
     "outputs_hidden": true
    }
   },
   "outputs": [
    {
     "name": "stdout",
     "output_type": "stream",
     "text": [
      "Using pandas 1.2.0 version\n",
      "Using seaborn 0.11.1 version\n",
      "Using scipy 1.6.0 version\n"
     ]
    }
   ],
   "source": [
    "import pandas as pd\n",
    "import seaborn as sns\n",
    "import scipy\n",
    "import itertools\n",
    "\n",
    "import numpy as np\n",
    "import matplotlib.pyplot as plt\n",
    "import scipy.stats as stats\n",
    "import os\n",
    "import pprint\n",
    "pp = pprint.PrettyPrinter(indent=4)\n",
    "\n",
    "print(\"Using pandas %s version\" % pd.__version__)\n",
    "print(\"Using seaborn %s version\"% sns.__version__)\n",
    "print(\"Using scipy %s version\" % scipy.__version__)\n"
   ]
  },
  {
   "cell_type": "code",
   "execution_count": 5,
   "metadata": {
    "collapsed": true,
    "jupyter": {
     "outputs_hidden": true
    }
   },
   "outputs": [],
   "source": [
    "splits = [#'GroupShuffleSplit',\n",
    "'ShuffleSplit',\n",
    "'StratifiedShuffleSplit',\n",
    "'StratifiedKFold',\n",
    "'KFold',\n",
    "'TimeSeriesSplit']\n",
    "\n",
    "data_dir = r'C:\\Projects\\RecSys2020\\results\\\\'\n"
   ]
  },
  {
   "cell_type": "code",
   "execution_count": 6,
   "metadata": {
    "collapsed": true,
    "jupyter": {
     "outputs_hidden": true
    }
   },
   "outputs": [
    {
     "name": "stdout",
     "output_type": "stream",
     "text": [
      "ShuffleSplit\n"
     ]
    },
    {
     "name": "stderr",
     "output_type": "stream",
     "text": [
      "No handles with labels found to put in legend.\n"
     ]
    },
    {
     "name": "stdout",
     "output_type": "stream",
     "text": [
      "StratifiedShuffleSplit\n"
     ]
    },
    {
     "name": "stderr",
     "output_type": "stream",
     "text": [
      "No handles with labels found to put in legend.\n"
     ]
    },
    {
     "name": "stdout",
     "output_type": "stream",
     "text": [
      "StratifiedKFold\n"
     ]
    },
    {
     "name": "stderr",
     "output_type": "stream",
     "text": [
      "No handles with labels found to put in legend.\n"
     ]
    },
    {
     "name": "stdout",
     "output_type": "stream",
     "text": [
      "KFold\n"
     ]
    },
    {
     "name": "stderr",
     "output_type": "stream",
     "text": [
      "No handles with labels found to put in legend.\n"
     ]
    },
    {
     "name": "stdout",
     "output_type": "stream",
     "text": [
      "TimeSeriesSplit\n"
     ]
    },
    {
     "name": "stderr",
     "output_type": "stream",
     "text": [
      "No handles with labels found to put in legend.\n"
     ]
    }
   ],
   "source": [
    "fig, ax = plt.subplots(len(splits), 2)\n",
    "    \n",
    "colors = ('red','blue','green','magenta', 'black', 'purple', 'grey', 'orange')\n",
    "for i,split in enumerate(splits):\n",
    "    print(split)\n",
    "    ax1 = ax[i,0]\n",
    "    ax2 = ax[i,1]\n",
    "    ax1.set_title(split)\n",
    "    ax2.set_title(split)\n",
    "\n",
    "    fig1 = pd.read_table(r'C:\\Projects\\RecSys2020\\results\\\\' +split+ r'\\figure1.txt',sep='\\t',header=4)\n",
    "    f1 = np.array(fig1)\n",
    "    df = pd.DataFrame(index=['Full', 'Test'])\n",
    "    for i,r in enumerate(fig1.Recommender):\n",
    "        df[r] = f1[i][1:]\n",
    "\n",
    "    ax00 = df.plot(kind='bar', color=colors,legend=None, ax = ax1)\n",
    "\n",
    "    ax00.set_ylabel('P@10')\n",
    "    plt.gca().xaxis.set_tick_params(rotation=0)\n",
    "    plt.legend(bbox_to_anchor=(1.05, 1), loc='upper left', title='Recommender', title_fontsize='xx-large')\n",
    "    \n",
    "    data = [list(a) for a in zip(fig1.Recommender, fig1.Full.rank(ascending=False),fig1.Test.rank(ascending=False))]\n",
    "\n",
    "    artists = []\n",
    "    for row, color in zip(data, colors):\n",
    "        artists.append(plt.Line2D(xdata=[1,2], \n",
    "                                  ydata=[row[1:]], lw=1, color=color, marker='o'))\n",
    "\n",
    "\n",
    "    for artist in artists:\n",
    "        a = ax2.add_artist(artist)\n",
    "\n",
    "    ax2.set_ybound([0.8,8.2])\n",
    "    ax2.set_xbound([0.94,2.06])\n",
    "    ax2.spines['top'].set_visible(False)\n",
    "    ax2.spines['right'].set_visible(False)\n",
    "    ax2.spines['bottom'].set_visible(False)\n",
    "    ax2.spines['left'].set_visible(False)\n",
    "    ax2.invert_yaxis()\n",
    "    ax2.set_xticks([1,2])\n",
    "    ax2.set_xticklabels(['Full', 'Test'])\n",
    "\n",
    "    ax2.set_ylabel('System ranking')\n",
    "    plt.legend(artists, fig1.Recommender, bbox_to_anchor=(1.05, 1), loc='upper left', title='Recommender', title_fontsize='xx-large')\n",
    "    fig.set_size_inches(7, 6)\n",
    "    fig.tight_layout()\n",
    "    plt.gcf().tight_layout()\n",
    "\n",
    "\n",
    "    \n",
    "fig.set_size_inches(10,12)\n",
    "plt.gcf().tight_layout()\n",
    "\n",
    "png = os.path.join(data_dir, 'figure1.cross-validation.png')\n",
    "fig.savefig(png, format='png', dpi=300)\n",
    "    \n",
    "#plt.show()"
   ]
  },
  {
   "cell_type": "code",
   "execution_count": 36,
   "metadata": {},
   "outputs": [],
   "source": [
    "#fig3\n",
    "\n",
    "def rank(data):\n",
    "    artists = []\n",
    "    colors = ('red','blue','green','magenta', 'black', 'purple', 'grey', 'orange')\n",
    "    data.set_index('Target size') \n",
    "    for i,j in data.groupby(['Target size'], axis=0):\n",
    "        del j['Target size']\n",
    "        rank = j.rank(axis=1,ascending=False)\n",
    "        artist = np.array(rank)[0]\n",
    "        artists.append(artist)\n",
    "\n",
    "    rank = []\n",
    "    for i,t in enumerate(data.keys()[1:]):\n",
    "        rank.append([t] + np.array(artists)[:,i].tolist())\n",
    "    return rank\n",
    "\n",
    "def plot_system_rankings(data, ax, xlabel='|N_u|', ylabel=''):\n",
    "    for row, color in zip(data, ('red','blue','green','magenta', 'black', 'purple', 'grey', 'orange')):\n",
    "        x = list(range(len(data[0])-1))\n",
    "        artist = plt.Line2D(xdata=x, ydata=[row[1:]], lw=1, color=color, marker='o')\n",
    "        ax.add_artist(artist)\n",
    "\n",
    "    ax.set_ybound([0.8,9])\n",
    "    ax.set_xbound([-0.2,13.06])\n",
    "\n",
    "    ax.spines['top'].set_visible(False)\n",
    "    ax.spines['right'].set_visible(False)\n",
    "    ax.spines['bottom'].set_visible(False)\n",
    "    ax.spines['left'].set_visible(False)\n",
    "    ax.set_xticks(list(range(len(data[0])-1)))\n",
    "    ax.set_xticklabels(list(itertools.chain(precision['Target size'].array[:-1] , ['Full'])))\n",
    "    #plt.xticks(list(range(len(ndcg_rank[0])-1)), ndcg['Target size'].array)\n",
    "    ax.set_yticks(list(range(1,9)))\n",
    "    ax.invert_yaxis()\n",
    "    ax.invert_xaxis()\n",
    "    \n",
    "    ax.set_xlabel(xlabel)\n",
    "    ax.set_ylabel(ylabel)\n",
    "\n",
    "    return artists"
   ]
  },
  {
   "cell_type": "code",
   "execution_count": 103,
   "metadata": {},
   "outputs": [],
   "source": [
    "def plot_metrics(data, ax, xlabel='|N_u|', ylabel='System ranking', twinx=None):\n",
    "    #if twinx != '':\n",
    "    #    print(twinx)\n",
    "    #    del data[twinx]\n",
    "    #    #ax222 = ax.twinx()\n",
    "    #    #ax222.add_artist(artist)\n",
    "    \n",
    "    for column_title, color in zip(data.columns[1:], ('red','blue','green','magenta', 'black', 'purple', 'grey', 'orange')):\n",
    "        x = list(range(len(data[column_title])))\n",
    "        artist = plt.Line2D(xdata=x, ydata=[data[column_title]], lw=1, color=color, marker='o')\n",
    "        ax.add_artist(artist)\n",
    "        \n",
    "    #ax2 = ax.twinx()  # instantiate a second axes that shares the same x-axis\n",
    "    #color = 'tab:blue'\n",
    "    #ax2.set_ylabel('sin', color=color)  # we already handled the x-label with ax1\n",
    "    #ax2.plot(t, data2, color=color)\n",
    "    #ax2.tick_params(axis='y', labelcolor=color)\n",
    "\n",
    "    max = np.array((data.max()[1:])).max()\n",
    "    ax.set_ybound([0, max + max*0.1+.00001])\n",
    "    ax.set_xbound([-0.1,13.06])\n",
    "\n",
    "    ax.spines['top'].set_visible(False)\n",
    "    ax.spines['right'].set_visible(False)\n",
    "    ax.spines['bottom'].set_visible(False)\n",
    "    ax.spines['left'].set_visible(False)\n",
    "    ax.set_xticks(list(range(len(data['Target size']))))\n",
    "    ax.set_xticklabels(list(itertools.chain(data['Target size'].array[:-1] , ['Full'])))\n",
    "    ax.invert_xaxis()\n",
    "    \n",
    "    ax.set_xlabel(xlabel)\n",
    "    ax.set_ylabel(ylabel)\n",
    "    \n",
    "    if twinx is not None and twinx.max() > 0:\n",
    "        label='Sum of p-values'\n",
    "        ax2 = ax.twinx()\n",
    "        ax2.plot(list(range(len(twinx))),\n",
    "            twinx,\n",
    "            label=label,\n",
    "            lw=1,\n",
    "            color='magenta',\n",
    "            fillstyle='none',\n",
    "            markeredgecolor='black',\n",
    "            marker='s')\n",
    "        ax2.set_ylabel(label)\n",
    "        max = twinx.max()\n",
    "        ax2.set_ylim(0, max+0.1*max+0.01)\n",
    "\n",
    "        ax2.spines['top'].set_visible(False)\n",
    "        ax2.spines['right'].set_visible(False)\n",
    "        ax2.spines['bottom'].set_visible(False)\n",
    "        ax2.spines['left'].set_visible(False)\n",
    "        ax2.legend(loc=0)\n",
    "    \n",
    "    return artists"
   ]
  },
  {
   "cell_type": "code",
   "execution_count": 7,
   "metadata": {
    "collapsed": true,
    "jupyter": {
     "outputs_hidden": true
    }
   },
   "outputs": [],
   "source": []
  },
  {
   "cell_type": "code",
   "execution_count": 9,
   "metadata": {
    "collapsed": true,
    "jupyter": {
     "outputs_hidden": true,
     "source_hidden": true
    }
   },
   "outputs": [
    {
     "name": "stdout",
     "output_type": "stream",
     "text": [
      "ShuffleSplit\n",
      "StratifiedShuffleSplit\n",
      "StratifiedKFold\n",
      "KFold\n",
      "TimeSeriesSplit\n"
     ]
    }
   ],
   "source": [
    "for split in splits:\n",
    "    print(split)\n",
    "    ndcg = pd.read_table(r'C:\\Projects\\RecSys2020\\results\\\\' +split+ r'\\figure3.txt',sep='\\t',header=4,nrows=13)\n",
    "    precision = pd.read_table(r'C:\\Projects\\RecSys2020\\results\\\\' +split+ r'\\figure3.txt',sep='\\t',header=19,nrows=13)\n",
    "    recall = pd.read_table(r'C:\\Projects\\RecSys2020\\results\\\\' +split+ r'\\figure3.txt',sep='\\t',header=34,nrows=13)\n",
    "\n",
    "    ndcg_rank = rank(ndcg)\n",
    "    precision_rank = rank(precision)\n",
    "    recall_rank = rank(recall)\n",
    "\n",
    "    cols = ['Column {}'.format(col) for col in range(1, 2)]\n",
    "    rows = ['Row {}'.format(row) for row in ['Precision@10', 'Recall@10', 'nDCG@10']]\n",
    "\n",
    "    fig, axes = plt.subplots(nrows=3, ncols=2, figsize=(14, 8))\n",
    "\n",
    "    #for ax, col in zip(axes[0], cols):\n",
    "    #    ax.set_title(col)\n",
    "    #    #ax.set_xlabel('|Nu|')\n",
    "\n",
    "    for ax, row in zip(axes[:,0], rows):\n",
    "        ax.set_ylabel(row, rotation=90, size='large')\n",
    "\n",
    "    plot_metrics(precision, axes[0][0], ylabel='Precision@10')\n",
    "    plot_metrics(recall, axes[1][0], ylabel='Recall@10')\n",
    "    artists = plot_metrics(ndcg, axes[2][0], ylabel='nDCG@10')\n",
    "\n",
    "    plot_system_rankings(precision_rank, axes[0][1])\n",
    "    plot_system_rankings(recall_rank, axes[1][1])\n",
    "    artists = plot_system_rankings(ndcg_rank, axes[2][1]) \n",
    "\n",
    "    plt.legend(artists, ndcg.columns[1:], bbox_to_anchor=(1.05, 1), loc='upper left', title='Recommender', title_fontsize='x-large')\n",
    "    fig.suptitle(split)\n",
    "    fig.tight_layout()\n",
    "    png = os.path.join(data_dir, 'figure3.' + split +'.png')\n",
    "    fig.savefig(png, format='png', dpi=300)\n",
    "    #dpi=1200\n",
    "    plt.gcf().tight_layout()\n",
    "#plt.show()"
   ]
  },
  {
   "cell_type": "code",
   "execution_count": 35,
   "metadata": {},
   "outputs": [
    {
     "data": {
      "text/plain": [
       "0     0\n",
       "1     0\n",
       "2     0\n",
       "3     0\n",
       "4     0\n",
       "5     0\n",
       "6     0\n",
       "7     0\n",
       "8     0\n",
       "9     0\n",
       "10    0\n",
       "11    0\n",
       "12    0\n",
       "Name: Sum of p-values, dtype: int64"
      ]
     },
     "execution_count": 35,
     "metadata": {},
     "output_type": "execute_result"
    }
   ],
   "source": [
    "precision['Sum of p-values']"
   ]
  },
  {
   "cell_type": "code",
   "execution_count": 104,
   "metadata": {},
   "outputs": [
    {
     "name": "stdout",
     "output_type": "stream",
     "text": [
      "ShuffleSplit\n",
      "StratifiedShuffleSplit\n",
      "StratifiedKFold\n",
      "KFold\n",
      "TimeSeriesSplit\n"
     ]
    }
   ],
   "source": [
    "for split in splits:\n",
    "    print(split)\n",
    "    ndcg = pd.read_table(r'C:\\Projects\\RecSys2020\\results\\\\' +split+ r'\\figure4.txt.ml1m.txt',sep='\\t',header=4,nrows=13)\n",
    "    precision = pd.read_table(r'C:\\Projects\\RecSys2020\\results\\\\' +split+ r'\\figure4.txt.ml1m.txt',sep='\\t',header=19,nrows=13)\n",
    "    recall = pd.read_table(r'C:\\Projects\\RecSys2020\\results\\\\' +split+ r'\\figure4.txt.ml1m.txt',sep='\\t',header=34,nrows=13)\n",
    "\n",
    "    cols = ['Column {}'.format(col) for col in range(1, 2)]\n",
    "    rows = ['Row {}'.format(row) for row in ['Precision@10', 'Recall@10', 'nDCG@10']]\n",
    "\n",
    "    fig, axes = plt.subplots(nrows=3, ncols=1, figsize=(14, 8))\n",
    "\n",
    "    #for ax, col in zip(axes[0], cols):\n",
    "    #    ax.set_title(col)\n",
    "    #    #ax.set_xlabel('|Nu|')\n",
    "\n",
    "    for ax, row in zip(axes, rows):\n",
    "        ax.set_ylabel(row, rotation=90, size='large')\n",
    "\n",
    "    twinx='Sum of p-values'\n",
    "    plot_metrics(precision.iloc[:,:-1], axes[0], ylabel='Precision@10', twinx=precision[twinx])\n",
    "    \n",
    "    plot_metrics(recall.iloc[:,:-1], axes[1], ylabel='Recall@10', twinx=recall[twinx])\n",
    "    artists = plot_metrics(ndcg.iloc[:,:-1], axes[2], ylabel='nDCG@10', twinx=ndcg[twinx])\n",
    "\n",
    "   \n",
    "    plt.legend(artists, ndcg.columns[1:], bbox_to_anchor=(1.05, 1), loc='upper left', title='Recommender', title_fontsize='x-large')\n",
    "    fig.suptitle(split)\n",
    "    fig.tight_layout()\n",
    "    png = os.path.join(data_dir, 'figure4.txt.ml1m.' + split +'.png')\n",
    "    plt.gcf().tight_layout()\n",
    "    fig.savefig(png, format='png', dpi=300)\n",
    "    #dpi=1200\n",
    "#plt.show()\n",
    "plt.close('all')"
   ]
  },
  {
   "cell_type": "code",
   "execution_count": 79,
   "metadata": {},
   "outputs": [
    {
     "data": {
      "text/plain": [
       "89.54485863610144"
      ]
     },
     "execution_count": 79,
     "metadata": {},
     "output_type": "execute_result"
    }
   ],
   "source": [
    "twinx='Sum of p-values'\n",
    "#max = np.array((precision[twinx].max()[1:])).max()\n",
    "precision[twinx].max()"
   ]
  },
  {
   "cell_type": "code",
   "execution_count": 75,
   "metadata": {},
   "outputs": [
    {
     "data": {
      "text/html": [
       "<div>\n",
       "<style scoped>\n",
       "    .dataframe tbody tr th:only-of-type {\n",
       "        vertical-align: middle;\n",
       "    }\n",
       "\n",
       "    .dataframe tbody tr th {\n",
       "        vertical-align: top;\n",
       "    }\n",
       "\n",
       "    .dataframe thead th {\n",
       "        text-align: right;\n",
       "    }\n",
       "</style>\n",
       "<table border=\"1\" class=\"dataframe\">\n",
       "  <thead>\n",
       "    <tr style=\"text-align: right;\">\n",
       "      <th></th>\n",
       "      <th>Target size</th>\n",
       "      <th>Expected intersection ratio in top n</th>\n",
       "      <th>Ratio of ties</th>\n",
       "      <th>Ratio of ties at zero</th>\n",
       "    </tr>\n",
       "  </thead>\n",
       "  <tbody>\n",
       "    <tr>\n",
       "      <th>0</th>\n",
       "      <td>0</td>\n",
       "      <td>0.755365</td>\n",
       "      <td>0.711731</td>\n",
       "      <td>0.047174</td>\n",
       "    </tr>\n",
       "    <tr>\n",
       "      <th>1</th>\n",
       "      <td>1</td>\n",
       "      <td>0.740828</td>\n",
       "      <td>0.689903</td>\n",
       "      <td>0.047187</td>\n",
       "    </tr>\n",
       "    <tr>\n",
       "      <th>2</th>\n",
       "      <td>2</td>\n",
       "      <td>0.724712</td>\n",
       "      <td>0.666934</td>\n",
       "      <td>0.047196</td>\n",
       "    </tr>\n",
       "    <tr>\n",
       "      <th>3</th>\n",
       "      <td>5</td>\n",
       "      <td>0.665961</td>\n",
       "      <td>0.596682</td>\n",
       "      <td>0.047294</td>\n",
       "    </tr>\n",
       "    <tr>\n",
       "      <th>4</th>\n",
       "      <td>10</td>\n",
       "      <td>0.518498</td>\n",
       "      <td>0.480311</td>\n",
       "      <td>0.047739</td>\n",
       "    </tr>\n",
       "    <tr>\n",
       "      <th>5</th>\n",
       "      <td>20</td>\n",
       "      <td>0.328134</td>\n",
       "      <td>0.383908</td>\n",
       "      <td>0.051421</td>\n",
       "    </tr>\n",
       "    <tr>\n",
       "      <th>6</th>\n",
       "      <td>50</td>\n",
       "      <td>0.162692</td>\n",
       "      <td>0.312036</td>\n",
       "      <td>0.065829</td>\n",
       "    </tr>\n",
       "    <tr>\n",
       "      <th>7</th>\n",
       "      <td>100</td>\n",
       "      <td>0.090152</td>\n",
       "      <td>0.288077</td>\n",
       "      <td>0.085564</td>\n",
       "    </tr>\n",
       "    <tr>\n",
       "      <th>8</th>\n",
       "      <td>200</td>\n",
       "      <td>0.048100</td>\n",
       "      <td>0.285885</td>\n",
       "      <td>0.113931</td>\n",
       "    </tr>\n",
       "    <tr>\n",
       "      <th>9</th>\n",
       "      <td>500</td>\n",
       "      <td>0.020156</td>\n",
       "      <td>0.310430</td>\n",
       "      <td>0.170257</td>\n",
       "    </tr>\n",
       "    <tr>\n",
       "      <th>10</th>\n",
       "      <td>1000</td>\n",
       "      <td>0.010258</td>\n",
       "      <td>0.354980</td>\n",
       "      <td>0.231897</td>\n",
       "    </tr>\n",
       "    <tr>\n",
       "      <th>11</th>\n",
       "      <td>2000</td>\n",
       "      <td>0.005177</td>\n",
       "      <td>0.419791</td>\n",
       "      <td>0.319978</td>\n",
       "    </tr>\n",
       "    <tr>\n",
       "      <th>12</th>\n",
       "      <td>3706</td>\n",
       "      <td>0.002819</td>\n",
       "      <td>0.493414</td>\n",
       "      <td>0.419547</td>\n",
       "    </tr>\n",
       "  </tbody>\n",
       "</table>\n",
       "</div>"
      ],
      "text/plain": [
       "    Target size  Expected intersection ratio in top n  Ratio of ties  Ratio of ties at zero\n",
       "0             0                              0.755365       0.711731               0.047174\n",
       "1             1                              0.740828       0.689903               0.047187\n",
       "2             2                              0.724712       0.666934               0.047196\n",
       "3             5                              0.665961       0.596682               0.047294\n",
       "4            10                              0.518498       0.480311               0.047739\n",
       "5            20                              0.328134       0.383908               0.051421\n",
       "6            50                              0.162692       0.312036               0.065829\n",
       "7           100                              0.090152       0.288077               0.085564\n",
       "8           200                              0.048100       0.285885               0.113931\n",
       "9           500                              0.020156       0.310430               0.170257\n",
       "10         1000                              0.010258       0.354980               0.231897\n",
       "11         2000                              0.005177       0.419791               0.319978\n",
       "12         3706                              0.002819       0.493414               0.419547"
      ]
     },
     "execution_count": 75,
     "metadata": {},
     "output_type": "execute_result"
    }
   ],
   "source": [
    "precision.iloc[:,:-1]"
   ]
  },
  {
   "cell_type": "code",
   "execution_count": 88,
   "metadata": {},
   "outputs": [],
   "source": [
    "plt.close('all')"
   ]
  }
 ],
 "metadata": {
  "kernelspec": {
   "display_name": "Python 3.9 (XPython)",
   "language": "python",
   "name": "xpython"
  },
  "language_info": {
   "file_extension": ".py",
   "mimetype": "text/x-python",
   "name": "python",
   "version": "3.9.1"
  }
 },
 "nbformat": 4,
 "nbformat_minor": 4
}
