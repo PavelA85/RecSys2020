{
 "cells": [
  {
   "cell_type": "code",
   "execution_count": 3,
   "metadata": {},
   "outputs": [],
   "source": [
    "f=open('figure1.txt', 'r')\n",
    "contents =f.read()"
   ]
  },
  {
   "cell_type": "code",
   "execution_count": 4,
   "metadata": {},
   "outputs": [
    {
     "name": "stdout",
     "output_type": "stream",
     "text": [
      "====================\n",
      "Dataset: ml1m\n",
      "====================\n",
      "\n",
      "P@10\n",
      "Recommender\tFull\tTest\n",
      "Average Rating\t0.04320860927152318\t0.665407284768212\n",
      "Normalized kNN (full)\t0.20793046357615896\t0.642069536423841\n",
      "Normalized kNN (test)\t0.08679801324503313\t0.6711324503311259\n",
      "Popularity\t0.193635761589404\t0.6241721854304634\n",
      "Random\t0.010278145695364237\t0.5490794701986755\n",
      "iMF (full)\t0.3548278145695364\t0.6592880794701987\n",
      "iMF (test)\t0.17808278145695366\t0.6843675496688741\n",
      "kNN (full/test)\t0.3089205298013245\t0.659066225165563\n",
      "\n"
     ]
    }
   ],
   "source": [
    "print(contents)"
   ]
  },
  {
   "cell_type": "code",
   "execution_count": 12,
   "metadata": {},
   "outputs": [
    {
     "name": "stdout",
     "output_type": "stream",
     "text": [
      "====================\n",
      "\n",
      "Dataset: ml1m\n",
      "\n",
      "====================\n",
      "\n",
      "\n",
      "\n",
      "P@10\n",
      "\n",
      "Recommender\tFull\tTest\n",
      "\n",
      "['Recommender', 'Full', 'Test\\n']\n",
      "Average Rating\t0.04320860927152318\t0.665407284768212\n",
      "\n",
      "['Average Rating', '0.04320860927152318', '0.665407284768212\\n']\n",
      "Normalized kNN (full)\t0.20793046357615896\t0.642069536423841\n",
      "\n",
      "['Normalized kNN (full)', '0.20793046357615896', '0.642069536423841\\n']\n",
      "Normalized kNN (test)\t0.08679801324503313\t0.6711324503311259\n",
      "\n",
      "['Normalized kNN (test)', '0.08679801324503313', '0.6711324503311259\\n']\n",
      "Popularity\t0.193635761589404\t0.6241721854304634\n",
      "\n",
      "['Popularity', '0.193635761589404', '0.6241721854304634\\n']\n",
      "Random\t0.010278145695364237\t0.5490794701986755\n",
      "\n",
      "['Random', '0.010278145695364237', '0.5490794701986755\\n']\n",
      "iMF (full)\t0.3548278145695364\t0.6592880794701987\n",
      "\n",
      "['iMF (full)', '0.3548278145695364', '0.6592880794701987\\n']\n",
      "iMF (test)\t0.17808278145695366\t0.6843675496688741\n",
      "\n",
      "['iMF (test)', '0.17808278145695366', '0.6843675496688741\\n']\n",
      "kNN (full/test)\t0.3089205298013245\t0.659066225165563\n",
      "\n",
      "['kNN (full/test)', '0.3089205298013245', '0.659066225165563\\n']\n"
     ]
    }
   ],
   "source": [
    "import re\n",
    "import numpy\n",
    "\n",
    "f=open('figure1.txt', 'r')\n",
    "res = [][]\n",
    "for i in f.readlines():\n",
    "    print(i)\n",
    "    items = re.split(r'\\t+', i)\n",
    "    if (len(items)==3):\n",
    "        print(items[:])\n",
    "        res."
   ]
  }
 ],
 "metadata": {
  "kernelspec": {
   "display_name": "Python 3.7 - default",
   "language": "python",
   "name": "py37_default"
  },
  "language_info": {
   "codemirror_mode": {
    "name": "ipython",
    "version": 3
   },
   "file_extension": ".py",
   "mimetype": "text/x-python",
   "name": "python",
   "nbconvert_exporter": "python",
   "pygments_lexer": "ipython3",
   "version": "3.7.9"
  }
 },
 "nbformat": 4,
 "nbformat_minor": 4
}
