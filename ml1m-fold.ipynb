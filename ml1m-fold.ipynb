{
 "cells": [
  {
   "cell_type": "code",
   "execution_count": 1,
   "metadata": {},
   "outputs": [
    {
     "name": "stdout",
     "output_type": "stream",
     "text": [
      "Using pandas 1.2.0 version\n",
      "Using seaborn 0.11.1 version\n",
      "Using scipy 1.6.0 version\n"
     ]
    }
   ],
   "source": [
    "import matplotlib.pyplot as plt\n",
    "import numpy as np\n",
    "import os\n",
    "import pandas as pd\n",
    "import pprint\n",
    "import scipy\n",
    "import seaborn as sns\n",
    "import string\n",
    "from matplotlib.patches import Patch\n",
    "from sklearn.model_selection import (\n",
    "    GroupKFold,\n",
    "    GroupShuffleSplit,\n",
    "    KFold,\n",
    "    ShuffleSplit,\n",
    "    StratifiedKFold,\n",
    "    StratifiedShuffleSplit,\n",
    "    TimeSeriesSplit,\n",
    ")\n",
    "\n",
    "pp = pprint.PrettyPrinter(indent=4)\n",
    "\n",
    "print(\"Using pandas %s version\" % pd.__version__)\n",
    "print(\"Using seaborn %s version\" % sns.__version__)\n",
    "print(\"Using scipy %s version\" % scipy.__version__)"
   ]
  },
  {
   "cell_type": "code",
   "execution_count": 2,
   "metadata": {},
   "outputs": [],
   "source": [
    "movies_names = [\"MovieID\", \"Title\", \"Genres\"]\n",
    "\n",
    "movies = pd.read_table(\n",
    "    r\"C:\\Projects\\RecSys2020\\datasets\\ml1m\\movies.dat\",\n",
    "    sep=\"::\",\n",
    "    header=None,\n",
    "    names=movies_names,\n",
    "    encoding=\"latin-1\",\n",
    "    engine=\"python\",\n",
    ")\n",
    "\n",
    "movies.head()\n",
    "\n",
    "ratings_names = [\"UserID\", \"MovieID\", \"Rating\", \"Timestamp\"]\n",
    "\n",
    "ratings = pd.read_table(\n",
    "    r\"C:\\Projects\\RecSys2020\\datasets\\ml1m\\ratings.dat\",\n",
    "    sep=\"::\",\n",
    "    header=None,\n",
    "    engine=\"python\",\n",
    "    names=ratings_names,\n",
    ")\n",
    "\n",
    "ratings.head()\n",
    "\n",
    "users_names = [\"UserID\", \"Gender\", \"Age\", \"Occupation\", \"Zip-code\"]\n",
    "\n",
    "users = pd.read_table(\n",
    "    r\"C:\\Projects\\RecSys2020\\datasets\\ml1m\\users.dat\",\n",
    "    sep=\"::\",\n",
    "    engine=\"python\",\n",
    "    header=None,\n",
    "    names=users_names,\n",
    ")"
   ]
  },
  {
   "cell_type": "code",
   "execution_count": 3,
   "metadata": {},
   "outputs": [],
   "source": [
    "# create one merged DataFrame\n",
    "movie_ratings = pd.merge(movies, ratings)\n",
    "lens = pd.merge(movie_ratings, users)"
   ]
  },
  {
   "cell_type": "code",
   "execution_count": 10,
   "metadata": {},
   "outputs": [
    {
     "data": {
      "text/plain": "   MovieID                                      Title  \\\n0        1                           Toy Story (1995)   \n1       48                          Pocahontas (1995)   \n2      150                           Apollo 13 (1995)   \n3      260  Star Wars: Episode IV - A New Hope (1977)   \n4      527                    Schindler's List (1993)   \n\n                                 Genres  UserID  Rating  Timestamp Gender  \\\n0           Animation|Children's|Comedy       1       5  978824268      F   \n1  Animation|Children's|Musical|Romance       1       5  978824351      F   \n2                                 Drama       1       5  978301777      F   \n3       Action|Adventure|Fantasy|Sci-Fi       1       4  978300760      F   \n4                             Drama|War       1       5  978824195      F   \n\n   Age  Occupation Zip-code  \n0    1          10    48067  \n1    1          10    48067  \n2    1          10    48067  \n3    1          10    48067  \n4    1          10    48067  ",
      "text/html": "<div>\n<style scoped>\n    .dataframe tbody tr th:only-of-type {\n        vertical-align: middle;\n    }\n\n    .dataframe tbody tr th {\n        vertical-align: top;\n    }\n\n    .dataframe thead th {\n        text-align: right;\n    }\n</style>\n<table border=\"1\" class=\"dataframe\">\n  <thead>\n    <tr style=\"text-align: right;\">\n      <th></th>\n      <th>MovieID</th>\n      <th>Title</th>\n      <th>Genres</th>\n      <th>UserID</th>\n      <th>Rating</th>\n      <th>Timestamp</th>\n      <th>Gender</th>\n      <th>Age</th>\n      <th>Occupation</th>\n      <th>Zip-code</th>\n    </tr>\n  </thead>\n  <tbody>\n    <tr>\n      <th>0</th>\n      <td>1</td>\n      <td>Toy Story (1995)</td>\n      <td>Animation|Children's|Comedy</td>\n      <td>1</td>\n      <td>5</td>\n      <td>978824268</td>\n      <td>F</td>\n      <td>1</td>\n      <td>10</td>\n      <td>48067</td>\n    </tr>\n    <tr>\n      <th>1</th>\n      <td>48</td>\n      <td>Pocahontas (1995)</td>\n      <td>Animation|Children's|Musical|Romance</td>\n      <td>1</td>\n      <td>5</td>\n      <td>978824351</td>\n      <td>F</td>\n      <td>1</td>\n      <td>10</td>\n      <td>48067</td>\n    </tr>\n    <tr>\n      <th>2</th>\n      <td>150</td>\n      <td>Apollo 13 (1995)</td>\n      <td>Drama</td>\n      <td>1</td>\n      <td>5</td>\n      <td>978301777</td>\n      <td>F</td>\n      <td>1</td>\n      <td>10</td>\n      <td>48067</td>\n    </tr>\n    <tr>\n      <th>3</th>\n      <td>260</td>\n      <td>Star Wars: Episode IV - A New Hope (1977)</td>\n      <td>Action|Adventure|Fantasy|Sci-Fi</td>\n      <td>1</td>\n      <td>4</td>\n      <td>978300760</td>\n      <td>F</td>\n      <td>1</td>\n      <td>10</td>\n      <td>48067</td>\n    </tr>\n    <tr>\n      <th>4</th>\n      <td>527</td>\n      <td>Schindler's List (1993)</td>\n      <td>Drama|War</td>\n      <td>1</td>\n      <td>5</td>\n      <td>978824195</td>\n      <td>F</td>\n      <td>1</td>\n      <td>10</td>\n      <td>48067</td>\n    </tr>\n  </tbody>\n</table>\n</div>"
     },
     "execution_count": 10,
     "metadata": {},
     "output_type": "execute_result"
    }
   ],
   "source": [
    "lens.head()\n",
    "\n",
    "# lens.describe()"
   ]
  },
  {
   "cell_type": "code",
   "execution_count": 17,
   "outputs": [
    {
     "data": {
      "text/plain": "         MovieID                                      Title  \\\n0              1                           Toy Story (1995)   \n1             48                          Pocahontas (1995)   \n2            150                           Apollo 13 (1995)   \n3            260  Star Wars: Episode IV - A New Hope (1977)   \n4            527                    Schindler's List (1993)   \n...          ...                                        ...   \n1000204     3513                 Rules of Engagement (2000)   \n1000205     3535                     American Psycho (2000)   \n1000206     3536                   Keeping the Faith (2000)   \n1000207     3555                               U-571 (2000)   \n1000208     3578                           Gladiator (2000)   \n\n                                       Genres  UserID  Rating  Timestamp  \\\n0                 Animation|Children's|Comedy       1       5  978824268   \n1        Animation|Children's|Musical|Romance       1       5  978824351   \n2                                       Drama       1       5  978301777   \n3             Action|Adventure|Fantasy|Sci-Fi       1       4  978300760   \n4                                   Drama|War       1       5  978824195   \n...                                       ...     ...     ...        ...   \n1000204                        Drama|Thriller    5727       4  958489970   \n1000205                Comedy|Horror|Thriller    5727       2  958489970   \n1000206                        Comedy|Romance    5727       5  958489902   \n1000207                       Action|Thriller    5727       3  958490699   \n1000208                          Action|Drama    5727       5  958490171   \n\n        Gender  Age  Occupation Zip-code  PositiveRating  PR  \n0            F    1          10    48067            True   1  \n1            F    1          10    48067            True   1  \n2            F    1          10    48067            True   1  \n3            F    1          10    48067            True   1  \n4            F    1          10    48067            True   1  \n...        ...  ...         ...      ...             ...  ..  \n1000204      M   25           4    92843            True   1  \n1000205      M   25           4    92843           False   0  \n1000206      M   25           4    92843            True   1  \n1000207      M   25           4    92843           False   0  \n1000208      M   25           4    92843            True   1  \n\n[1000209 rows x 12 columns]",
      "text/html": "<div>\n<style scoped>\n    .dataframe tbody tr th:only-of-type {\n        vertical-align: middle;\n    }\n\n    .dataframe tbody tr th {\n        vertical-align: top;\n    }\n\n    .dataframe thead th {\n        text-align: right;\n    }\n</style>\n<table border=\"1\" class=\"dataframe\">\n  <thead>\n    <tr style=\"text-align: right;\">\n      <th></th>\n      <th>MovieID</th>\n      <th>Title</th>\n      <th>Genres</th>\n      <th>UserID</th>\n      <th>Rating</th>\n      <th>Timestamp</th>\n      <th>Gender</th>\n      <th>Age</th>\n      <th>Occupation</th>\n      <th>Zip-code</th>\n      <th>PositiveRating</th>\n      <th>PR</th>\n    </tr>\n  </thead>\n  <tbody>\n    <tr>\n      <th>0</th>\n      <td>1</td>\n      <td>Toy Story (1995)</td>\n      <td>Animation|Children's|Comedy</td>\n      <td>1</td>\n      <td>5</td>\n      <td>978824268</td>\n      <td>F</td>\n      <td>1</td>\n      <td>10</td>\n      <td>48067</td>\n      <td>True</td>\n      <td>1</td>\n    </tr>\n    <tr>\n      <th>1</th>\n      <td>48</td>\n      <td>Pocahontas (1995)</td>\n      <td>Animation|Children's|Musical|Romance</td>\n      <td>1</td>\n      <td>5</td>\n      <td>978824351</td>\n      <td>F</td>\n      <td>1</td>\n      <td>10</td>\n      <td>48067</td>\n      <td>True</td>\n      <td>1</td>\n    </tr>\n    <tr>\n      <th>2</th>\n      <td>150</td>\n      <td>Apollo 13 (1995)</td>\n      <td>Drama</td>\n      <td>1</td>\n      <td>5</td>\n      <td>978301777</td>\n      <td>F</td>\n      <td>1</td>\n      <td>10</td>\n      <td>48067</td>\n      <td>True</td>\n      <td>1</td>\n    </tr>\n    <tr>\n      <th>3</th>\n      <td>260</td>\n      <td>Star Wars: Episode IV - A New Hope (1977)</td>\n      <td>Action|Adventure|Fantasy|Sci-Fi</td>\n      <td>1</td>\n      <td>4</td>\n      <td>978300760</td>\n      <td>F</td>\n      <td>1</td>\n      <td>10</td>\n      <td>48067</td>\n      <td>True</td>\n      <td>1</td>\n    </tr>\n    <tr>\n      <th>4</th>\n      <td>527</td>\n      <td>Schindler's List (1993)</td>\n      <td>Drama|War</td>\n      <td>1</td>\n      <td>5</td>\n      <td>978824195</td>\n      <td>F</td>\n      <td>1</td>\n      <td>10</td>\n      <td>48067</td>\n      <td>True</td>\n      <td>1</td>\n    </tr>\n    <tr>\n      <th>...</th>\n      <td>...</td>\n      <td>...</td>\n      <td>...</td>\n      <td>...</td>\n      <td>...</td>\n      <td>...</td>\n      <td>...</td>\n      <td>...</td>\n      <td>...</td>\n      <td>...</td>\n      <td>...</td>\n      <td>...</td>\n    </tr>\n    <tr>\n      <th>1000204</th>\n      <td>3513</td>\n      <td>Rules of Engagement (2000)</td>\n      <td>Drama|Thriller</td>\n      <td>5727</td>\n      <td>4</td>\n      <td>958489970</td>\n      <td>M</td>\n      <td>25</td>\n      <td>4</td>\n      <td>92843</td>\n      <td>True</td>\n      <td>1</td>\n    </tr>\n    <tr>\n      <th>1000205</th>\n      <td>3535</td>\n      <td>American Psycho (2000)</td>\n      <td>Comedy|Horror|Thriller</td>\n      <td>5727</td>\n      <td>2</td>\n      <td>958489970</td>\n      <td>M</td>\n      <td>25</td>\n      <td>4</td>\n      <td>92843</td>\n      <td>False</td>\n      <td>0</td>\n    </tr>\n    <tr>\n      <th>1000206</th>\n      <td>3536</td>\n      <td>Keeping the Faith (2000)</td>\n      <td>Comedy|Romance</td>\n      <td>5727</td>\n      <td>5</td>\n      <td>958489902</td>\n      <td>M</td>\n      <td>25</td>\n      <td>4</td>\n      <td>92843</td>\n      <td>True</td>\n      <td>1</td>\n    </tr>\n    <tr>\n      <th>1000207</th>\n      <td>3555</td>\n      <td>U-571 (2000)</td>\n      <td>Action|Thriller</td>\n      <td>5727</td>\n      <td>3</td>\n      <td>958490699</td>\n      <td>M</td>\n      <td>25</td>\n      <td>4</td>\n      <td>92843</td>\n      <td>False</td>\n      <td>0</td>\n    </tr>\n    <tr>\n      <th>1000208</th>\n      <td>3578</td>\n      <td>Gladiator (2000)</td>\n      <td>Action|Drama</td>\n      <td>5727</td>\n      <td>5</td>\n      <td>958490171</td>\n      <td>M</td>\n      <td>25</td>\n      <td>4</td>\n      <td>92843</td>\n      <td>True</td>\n      <td>1</td>\n    </tr>\n  </tbody>\n</table>\n<p>1000209 rows × 12 columns</p>\n</div>"
     },
     "execution_count": 17,
     "metadata": {},
     "output_type": "execute_result"
    }
   ],
   "source": [
    "lens['PositiveRating'] = np.where(lens['Rating'] >= 4, True, False)\n",
    "lens['PR'] = np.where(lens['Rating'] >= 4, 1, 0)\n",
    "lens"
   ],
   "metadata": {
    "collapsed": false,
    "pycharm": {
     "name": "#%%\n"
    }
   }
  },
  {
   "cell_type": "code",
   "execution_count": 9,
   "outputs": [
    {
     "data": {
      "text/plain": "      MovieID  count\n2651     2858   3428\n253       260   2991\n1106     1196   2990\n1120     1210   2883\n466       480   2672",
      "text/html": "<div>\n<style scoped>\n    .dataframe tbody tr th:only-of-type {\n        vertical-align: middle;\n    }\n\n    .dataframe tbody tr th {\n        vertical-align: top;\n    }\n\n    .dataframe thead th {\n        text-align: right;\n    }\n</style>\n<table border=\"1\" class=\"dataframe\">\n  <thead>\n    <tr style=\"text-align: right;\">\n      <th></th>\n      <th>MovieID</th>\n      <th>count</th>\n    </tr>\n  </thead>\n  <tbody>\n    <tr>\n      <th>2651</th>\n      <td>2858</td>\n      <td>3428</td>\n    </tr>\n    <tr>\n      <th>253</th>\n      <td>260</td>\n      <td>2991</td>\n    </tr>\n    <tr>\n      <th>1106</th>\n      <td>1196</td>\n      <td>2990</td>\n    </tr>\n    <tr>\n      <th>1120</th>\n      <td>1210</td>\n      <td>2883</td>\n    </tr>\n    <tr>\n      <th>466</th>\n      <td>480</td>\n      <td>2672</td>\n    </tr>\n  </tbody>\n</table>\n</div>"
     },
     "execution_count": 9,
     "metadata": {},
     "output_type": "execute_result"
    }
   ],
   "source": [
    "# lens.groupby(\"MovieID\")[\"Title\"] #.agg({\"Rating\": pd.Series.count})\n",
    "lens.groupby([\"MovieID\"])[\"Title\"] \\\n",
    "    .count() \\\n",
    "    .reset_index(name='count') \\\n",
    "    .sort_values(['count'], ascending=False) \\\n",
    "    .head(5)"
   ],
   "metadata": {
    "collapsed": false,
    "pycharm": {
     "name": "#%%\n"
    }
   }
  },
  {
   "cell_type": "code",
   "execution_count": 7,
   "outputs": [
    {
     "data": {
      "text/plain": "   MovieID  top5\n0     2858  3428\n1      260  2991\n2     1196  2990\n3     1210  2883\n4      480  2672",
      "text/html": "<div>\n<style scoped>\n    .dataframe tbody tr th:only-of-type {\n        vertical-align: middle;\n    }\n\n    .dataframe tbody tr th {\n        vertical-align: top;\n    }\n\n    .dataframe thead th {\n        text-align: right;\n    }\n</style>\n<table border=\"1\" class=\"dataframe\">\n  <thead>\n    <tr style=\"text-align: right;\">\n      <th></th>\n      <th>MovieID</th>\n      <th>top5</th>\n    </tr>\n  </thead>\n  <tbody>\n    <tr>\n      <th>0</th>\n      <td>2858</td>\n      <td>3428</td>\n    </tr>\n    <tr>\n      <th>1</th>\n      <td>260</td>\n      <td>2991</td>\n    </tr>\n    <tr>\n      <th>2</th>\n      <td>1196</td>\n      <td>2990</td>\n    </tr>\n    <tr>\n      <th>3</th>\n      <td>1210</td>\n      <td>2883</td>\n    </tr>\n    <tr>\n      <th>4</th>\n      <td>480</td>\n      <td>2672</td>\n    </tr>\n  </tbody>\n</table>\n</div>"
     },
     "execution_count": 7,
     "metadata": {},
     "output_type": "execute_result"
    }
   ],
   "source": [
    "lens22 = lens[['MovieID','Title']] \\\n",
    "                             .groupby(['MovieID'])['Title'] \\\n",
    "                             .size() \\\n",
    "                             .nlargest(5) \\\n",
    "                             .reset_index(name='top5')\n",
    "\n",
    "lens22"
   ],
   "metadata": {
    "collapsed": false,
    "pycharm": {
     "name": "#%%\n"
    }
   }
  },
  {
   "cell_type": "code",
   "execution_count": 8,
   "outputs": [
    {
     "data": {
      "text/plain": "   MovieID  top5\n0     2858  3428\n1      260  2991\n2     1196  2990\n3     1210  2883\n4      480  2672",
      "text/html": "<div>\n<style scoped>\n    .dataframe tbody tr th:only-of-type {\n        vertical-align: middle;\n    }\n\n    .dataframe tbody tr th {\n        vertical-align: top;\n    }\n\n    .dataframe thead th {\n        text-align: right;\n    }\n</style>\n<table border=\"1\" class=\"dataframe\">\n  <thead>\n    <tr style=\"text-align: right;\">\n      <th></th>\n      <th>MovieID</th>\n      <th>top5</th>\n    </tr>\n  </thead>\n  <tbody>\n    <tr>\n      <th>0</th>\n      <td>2858</td>\n      <td>3428</td>\n    </tr>\n    <tr>\n      <th>1</th>\n      <td>260</td>\n      <td>2991</td>\n    </tr>\n    <tr>\n      <th>2</th>\n      <td>1196</td>\n      <td>2990</td>\n    </tr>\n    <tr>\n      <th>3</th>\n      <td>1210</td>\n      <td>2883</td>\n    </tr>\n    <tr>\n      <th>4</th>\n      <td>480</td>\n      <td>2672</td>\n    </tr>\n  </tbody>\n</table>\n</div>"
     },
     "execution_count": 8,
     "metadata": {},
     "output_type": "execute_result"
    }
   ],
   "source": [],
   "metadata": {
    "collapsed": false,
    "pycharm": {
     "name": "#%%\n"
    }
   }
  },
  {
   "cell_type": "code",
   "execution_count": 19,
   "outputs": [
    {
     "data": {
      "text/plain": "                                     Rating\nTitle                                      \n$1,000,000 Duck (1971)             3.027027\n'Night Mother (1986)               3.371429\n'Til There Was You (1997)          2.692308\n'burbs, The (1989)                 2.910891\n...And Justice for All (1979)      3.713568\n1-900 (1994)                       2.500000\n10 Things I Hate About You (1999)  3.422857\n101 Dalmatians (1961)              3.596460\n101 Dalmatians (1996)              3.046703\n12 Angry Men (1957)                4.295455",
      "text/html": "<div>\n<style scoped>\n    .dataframe tbody tr th:only-of-type {\n        vertical-align: middle;\n    }\n\n    .dataframe tbody tr th {\n        vertical-align: top;\n    }\n\n    .dataframe thead th {\n        text-align: right;\n    }\n</style>\n<table border=\"1\" class=\"dataframe\">\n  <thead>\n    <tr style=\"text-align: right;\">\n      <th></th>\n      <th>Rating</th>\n    </tr>\n    <tr>\n      <th>Title</th>\n      <th></th>\n    </tr>\n  </thead>\n  <tbody>\n    <tr>\n      <th>$1,000,000 Duck (1971)</th>\n      <td>3.027027</td>\n    </tr>\n    <tr>\n      <th>'Night Mother (1986)</th>\n      <td>3.371429</td>\n    </tr>\n    <tr>\n      <th>'Til There Was You (1997)</th>\n      <td>2.692308</td>\n    </tr>\n    <tr>\n      <th>'burbs, The (1989)</th>\n      <td>2.910891</td>\n    </tr>\n    <tr>\n      <th>...And Justice for All (1979)</th>\n      <td>3.713568</td>\n    </tr>\n    <tr>\n      <th>1-900 (1994)</th>\n      <td>2.500000</td>\n    </tr>\n    <tr>\n      <th>10 Things I Hate About You (1999)</th>\n      <td>3.422857</td>\n    </tr>\n    <tr>\n      <th>101 Dalmatians (1961)</th>\n      <td>3.596460</td>\n    </tr>\n    <tr>\n      <th>101 Dalmatians (1996)</th>\n      <td>3.046703</td>\n    </tr>\n    <tr>\n      <th>12 Angry Men (1957)</th>\n      <td>4.295455</td>\n    </tr>\n  </tbody>\n</table>\n</div>"
     },
     "execution_count": 19,
     "metadata": {},
     "output_type": "execute_result"
    }
   ],
   "source": [
    "# https://analyticsindiamag.com/how-to-build-your-first-recommender-system-using-python-movielens-dataset/\n",
    "Average_ratings = pd.DataFrame(lens.groupby('Title')['Rating'].mean())\n",
    "Average_ratings.head(10)"
   ],
   "metadata": {
    "collapsed": false,
    "pycharm": {
     "name": "#%%\n"
    }
   }
  },
  {
   "cell_type": "code",
   "execution_count": 23,
   "outputs": [
    {
     "data": {
      "text/plain": "                                   Title  Rating  Total Ratings  \\\n0     Gate of Heavenly Peace, The (1995)     5.0              3   \n1                   Smashing Time (1967)     5.0              2   \n2                       Baby, The (1973)     5.0              1   \n3               Bittersweet Motel (2000)     5.0              1   \n4                Follow the Bitch (1998)     5.0              1   \n...                                  ...     ...            ...   \n3701                   Underworld (1997)     1.0              1   \n3702          Uninvited Guest, An (2000)     1.0              1   \n3703          Waltzes from Vienna (1933)     1.0              1   \n3704                   White Boys (1999)     1.0              1   \n3705                      Windows (1980)     1.0              1   \n\n      Total Positive Ratings  \n0                          3  \n1                          2  \n2                          1  \n3                          1  \n4                          1  \n...                      ...  \n3701                       0  \n3702                       0  \n3703                       0  \n3704                       0  \n3705                       0  \n\n[3706 rows x 4 columns]",
      "text/html": "<div>\n<style scoped>\n    .dataframe tbody tr th:only-of-type {\n        vertical-align: middle;\n    }\n\n    .dataframe tbody tr th {\n        vertical-align: top;\n    }\n\n    .dataframe thead th {\n        text-align: right;\n    }\n</style>\n<table border=\"1\" class=\"dataframe\">\n  <thead>\n    <tr style=\"text-align: right;\">\n      <th></th>\n      <th>Title</th>\n      <th>Rating</th>\n      <th>Total Ratings</th>\n      <th>Total Positive Ratings</th>\n    </tr>\n  </thead>\n  <tbody>\n    <tr>\n      <th>0</th>\n      <td>Gate of Heavenly Peace, The (1995)</td>\n      <td>5.0</td>\n      <td>3</td>\n      <td>3</td>\n    </tr>\n    <tr>\n      <th>1</th>\n      <td>Smashing Time (1967)</td>\n      <td>5.0</td>\n      <td>2</td>\n      <td>2</td>\n    </tr>\n    <tr>\n      <th>2</th>\n      <td>Baby, The (1973)</td>\n      <td>5.0</td>\n      <td>1</td>\n      <td>1</td>\n    </tr>\n    <tr>\n      <th>3</th>\n      <td>Bittersweet Motel (2000)</td>\n      <td>5.0</td>\n      <td>1</td>\n      <td>1</td>\n    </tr>\n    <tr>\n      <th>4</th>\n      <td>Follow the Bitch (1998)</td>\n      <td>5.0</td>\n      <td>1</td>\n      <td>1</td>\n    </tr>\n    <tr>\n      <th>...</th>\n      <td>...</td>\n      <td>...</td>\n      <td>...</td>\n      <td>...</td>\n    </tr>\n    <tr>\n      <th>3701</th>\n      <td>Underworld (1997)</td>\n      <td>1.0</td>\n      <td>1</td>\n      <td>0</td>\n    </tr>\n    <tr>\n      <th>3702</th>\n      <td>Uninvited Guest, An (2000)</td>\n      <td>1.0</td>\n      <td>1</td>\n      <td>0</td>\n    </tr>\n    <tr>\n      <th>3703</th>\n      <td>Waltzes from Vienna (1933)</td>\n      <td>1.0</td>\n      <td>1</td>\n      <td>0</td>\n    </tr>\n    <tr>\n      <th>3704</th>\n      <td>White Boys (1999)</td>\n      <td>1.0</td>\n      <td>1</td>\n      <td>0</td>\n    </tr>\n    <tr>\n      <th>3705</th>\n      <td>Windows (1980)</td>\n      <td>1.0</td>\n      <td>1</td>\n      <td>0</td>\n    </tr>\n  </tbody>\n</table>\n<p>3706 rows × 4 columns</p>\n</div>"
     },
     "execution_count": 23,
     "metadata": {},
     "output_type": "execute_result"
    }
   ],
   "source": [
    "Average_ratings['Total Ratings'] = pd.DataFrame(lens.groupby('Title')['Rating'].count())\n",
    "Average_ratings['Total Positive Ratings'] = pd.DataFrame(lens.groupby('Title')['PR'].sum())\n",
    "# Average_ratings.sort_values('Total Ratings',ascending=False).reset_index()\n",
    "Average_ratings.sort_values(['Rating', 'Total Ratings'],ascending=[False, False]).reset_index()\n",
    "# sort_values(['a', 'b'], ascending=[True, False])\n",
    "# Average_ratings.head(10)"
   ],
   "metadata": {
    "collapsed": false,
    "pycharm": {
     "name": "#%%\n"
    }
   }
  },
  {
   "cell_type": "code",
   "execution_count": 25,
   "outputs": [
    {
     "data": {
      "text/plain": "                                                Title    Rating  \\\n0                              American Beauty (1999)  4.317386   \n1           Star Wars: Episode IV - A New Hope (1977)  4.453694   \n2   Star Wars: Episode V - The Empire Strikes Back...  4.292977   \n3                          Saving Private Ryan (1998)  4.337354   \n4                      Raiders of the Lost Ark (1981)  4.477725   \n5                    Silence of the Lambs, The (1991)  4.351823   \n6                                  Matrix, The (1999)  4.315830   \n7                             Sixth Sense, The (1999)  4.406263   \n8   Star Wars: Episode VI - Return of the Jedi (1983)  4.022893   \n9                                        Fargo (1996)  4.254676   \n10                            Schindler's List (1993)  4.510417   \n11                   Shawshank Redemption, The (1994)  4.554558   \n12                  Terminator 2: Judgment Day (1991)  4.058513   \n13                              Godfather, The (1972)  4.524966   \n14                                  Braveheart (1995)  4.234957   \n15                         Princess Bride, The (1987)  4.303710   \n16                          Back to the Future (1985)  3.990321   \n17                         Shakespeare in Love (1998)  4.127480   \n18                           L.A. Confidential (1997)  4.219406   \n19                                Pulp Fiction (1994)  4.278213   \n20                        Being John Malkovich (1999)  4.125390   \n21                               Jurassic Park (1993)  3.763847   \n22                             Terminator, The (1984)  4.152050   \n23                                Forrest Gump (1994)  4.087967   \n24                               Groundhog Day (1993)  3.953029   \n25                                   Toy Story (1995)  4.146846   \n26                                Men in Black (1997)  3.739953   \n27                  E.T. the Extra-Terrestrial (1982)  3.965183   \n28                                       Alien (1979)  4.159585   \n29                               Fugitive, The (1993)  4.103258   \n30                         Usual Suspects, The (1995)  4.517106   \n31                                Ghostbusters (1984)  3.905548   \n32             One Flew Over the Cuckoo's Nest (1975)  4.390725   \n33                                   Gladiator (2000)  4.106029   \n34                                Blade Runner (1982)  4.273333   \n35                     Godfather: Part II, The (1974)  4.357565   \n36                                  Casablanca (1942)  4.412822   \n37                                      Aliens (1986)  4.125824   \n38                                 Stand by Me (1986)  4.096919   \n39                           Wizard of Oz, The (1939)  4.247963   \n40                                  GoodFellas (1990)  4.275196   \n41             Monty Python and the Holy Grail (1974)  4.335210   \n42                                    Die Hard (1988)  4.121849   \n43                                 Toy Story 2 (1999)  4.218927   \n44          Indiana Jones and the Last Crusade (1989)  4.133292   \n45                   Hunt for Red October, The (1990)  4.052058   \n46                                   Airplane! (1980)  3.971115   \n47                       2001: A Space Odyssey (1968)  4.068765   \n48                                        Jaws (1975)  4.089570   \n49                           Good Will Hunting (1997)  4.176357   \n\n    Total Ratings  Total Positive Ratings  \n0            3428                    2853  \n1            2991                    2622  \n2            2990                    2510  \n3            2653                    2260  \n4            2514                    2260  \n5            2578                    2252  \n6            2590                    2171  \n7            2459                    2163  \n8            2883                    2127  \n9            2513                    2074  \n10           2304                    2071  \n11           2227                    2046  \n12           2649                    2044  \n13           2223                    1989  \n14           2443                    1977  \n15           2318                    1924  \n16           2583                    1910  \n17           2369                    1877  \n18           2288                    1876  \n19           2171                    1770  \n20           2241                    1759  \n21           2672                    1730  \n22           2098                    1683  \n23           2194                    1668  \n24           2278                    1661  \n25           2077                    1655  \n26           2538                    1644  \n27           2269                    1643  \n28           2024                    1623  \n29           1995                    1615  \n30           1783                    1608  \n31           2181                    1548  \n32           1725                    1519  \n33           1924                    1508  \n34           1800                    1485  \n35           1692                    1444  \n36           1669                    1434  \n37           1820                    1421  \n38           1785                    1420  \n39           1718                    1385  \n40           1657                    1370  \n41           1599                    1364  \n42           1666                    1332  \n43           1585                    1302  \n44           1628                    1297  \n45           1652                    1297  \n46           1731                    1284  \n47           1716                    1270  \n48           1697                    1266  \n49           1548                    1256  ",
      "text/html": "<div>\n<style scoped>\n    .dataframe tbody tr th:only-of-type {\n        vertical-align: middle;\n    }\n\n    .dataframe tbody tr th {\n        vertical-align: top;\n    }\n\n    .dataframe thead th {\n        text-align: right;\n    }\n</style>\n<table border=\"1\" class=\"dataframe\">\n  <thead>\n    <tr style=\"text-align: right;\">\n      <th></th>\n      <th>Title</th>\n      <th>Rating</th>\n      <th>Total Ratings</th>\n      <th>Total Positive Ratings</th>\n    </tr>\n  </thead>\n  <tbody>\n    <tr>\n      <th>0</th>\n      <td>American Beauty (1999)</td>\n      <td>4.317386</td>\n      <td>3428</td>\n      <td>2853</td>\n    </tr>\n    <tr>\n      <th>1</th>\n      <td>Star Wars: Episode IV - A New Hope (1977)</td>\n      <td>4.453694</td>\n      <td>2991</td>\n      <td>2622</td>\n    </tr>\n    <tr>\n      <th>2</th>\n      <td>Star Wars: Episode V - The Empire Strikes Back...</td>\n      <td>4.292977</td>\n      <td>2990</td>\n      <td>2510</td>\n    </tr>\n    <tr>\n      <th>3</th>\n      <td>Saving Private Ryan (1998)</td>\n      <td>4.337354</td>\n      <td>2653</td>\n      <td>2260</td>\n    </tr>\n    <tr>\n      <th>4</th>\n      <td>Raiders of the Lost Ark (1981)</td>\n      <td>4.477725</td>\n      <td>2514</td>\n      <td>2260</td>\n    </tr>\n    <tr>\n      <th>5</th>\n      <td>Silence of the Lambs, The (1991)</td>\n      <td>4.351823</td>\n      <td>2578</td>\n      <td>2252</td>\n    </tr>\n    <tr>\n      <th>6</th>\n      <td>Matrix, The (1999)</td>\n      <td>4.315830</td>\n      <td>2590</td>\n      <td>2171</td>\n    </tr>\n    <tr>\n      <th>7</th>\n      <td>Sixth Sense, The (1999)</td>\n      <td>4.406263</td>\n      <td>2459</td>\n      <td>2163</td>\n    </tr>\n    <tr>\n      <th>8</th>\n      <td>Star Wars: Episode VI - Return of the Jedi (1983)</td>\n      <td>4.022893</td>\n      <td>2883</td>\n      <td>2127</td>\n    </tr>\n    <tr>\n      <th>9</th>\n      <td>Fargo (1996)</td>\n      <td>4.254676</td>\n      <td>2513</td>\n      <td>2074</td>\n    </tr>\n    <tr>\n      <th>10</th>\n      <td>Schindler's List (1993)</td>\n      <td>4.510417</td>\n      <td>2304</td>\n      <td>2071</td>\n    </tr>\n    <tr>\n      <th>11</th>\n      <td>Shawshank Redemption, The (1994)</td>\n      <td>4.554558</td>\n      <td>2227</td>\n      <td>2046</td>\n    </tr>\n    <tr>\n      <th>12</th>\n      <td>Terminator 2: Judgment Day (1991)</td>\n      <td>4.058513</td>\n      <td>2649</td>\n      <td>2044</td>\n    </tr>\n    <tr>\n      <th>13</th>\n      <td>Godfather, The (1972)</td>\n      <td>4.524966</td>\n      <td>2223</td>\n      <td>1989</td>\n    </tr>\n    <tr>\n      <th>14</th>\n      <td>Braveheart (1995)</td>\n      <td>4.234957</td>\n      <td>2443</td>\n      <td>1977</td>\n    </tr>\n    <tr>\n      <th>15</th>\n      <td>Princess Bride, The (1987)</td>\n      <td>4.303710</td>\n      <td>2318</td>\n      <td>1924</td>\n    </tr>\n    <tr>\n      <th>16</th>\n      <td>Back to the Future (1985)</td>\n      <td>3.990321</td>\n      <td>2583</td>\n      <td>1910</td>\n    </tr>\n    <tr>\n      <th>17</th>\n      <td>Shakespeare in Love (1998)</td>\n      <td>4.127480</td>\n      <td>2369</td>\n      <td>1877</td>\n    </tr>\n    <tr>\n      <th>18</th>\n      <td>L.A. Confidential (1997)</td>\n      <td>4.219406</td>\n      <td>2288</td>\n      <td>1876</td>\n    </tr>\n    <tr>\n      <th>19</th>\n      <td>Pulp Fiction (1994)</td>\n      <td>4.278213</td>\n      <td>2171</td>\n      <td>1770</td>\n    </tr>\n    <tr>\n      <th>20</th>\n      <td>Being John Malkovich (1999)</td>\n      <td>4.125390</td>\n      <td>2241</td>\n      <td>1759</td>\n    </tr>\n    <tr>\n      <th>21</th>\n      <td>Jurassic Park (1993)</td>\n      <td>3.763847</td>\n      <td>2672</td>\n      <td>1730</td>\n    </tr>\n    <tr>\n      <th>22</th>\n      <td>Terminator, The (1984)</td>\n      <td>4.152050</td>\n      <td>2098</td>\n      <td>1683</td>\n    </tr>\n    <tr>\n      <th>23</th>\n      <td>Forrest Gump (1994)</td>\n      <td>4.087967</td>\n      <td>2194</td>\n      <td>1668</td>\n    </tr>\n    <tr>\n      <th>24</th>\n      <td>Groundhog Day (1993)</td>\n      <td>3.953029</td>\n      <td>2278</td>\n      <td>1661</td>\n    </tr>\n    <tr>\n      <th>25</th>\n      <td>Toy Story (1995)</td>\n      <td>4.146846</td>\n      <td>2077</td>\n      <td>1655</td>\n    </tr>\n    <tr>\n      <th>26</th>\n      <td>Men in Black (1997)</td>\n      <td>3.739953</td>\n      <td>2538</td>\n      <td>1644</td>\n    </tr>\n    <tr>\n      <th>27</th>\n      <td>E.T. the Extra-Terrestrial (1982)</td>\n      <td>3.965183</td>\n      <td>2269</td>\n      <td>1643</td>\n    </tr>\n    <tr>\n      <th>28</th>\n      <td>Alien (1979)</td>\n      <td>4.159585</td>\n      <td>2024</td>\n      <td>1623</td>\n    </tr>\n    <tr>\n      <th>29</th>\n      <td>Fugitive, The (1993)</td>\n      <td>4.103258</td>\n      <td>1995</td>\n      <td>1615</td>\n    </tr>\n    <tr>\n      <th>30</th>\n      <td>Usual Suspects, The (1995)</td>\n      <td>4.517106</td>\n      <td>1783</td>\n      <td>1608</td>\n    </tr>\n    <tr>\n      <th>31</th>\n      <td>Ghostbusters (1984)</td>\n      <td>3.905548</td>\n      <td>2181</td>\n      <td>1548</td>\n    </tr>\n    <tr>\n      <th>32</th>\n      <td>One Flew Over the Cuckoo's Nest (1975)</td>\n      <td>4.390725</td>\n      <td>1725</td>\n      <td>1519</td>\n    </tr>\n    <tr>\n      <th>33</th>\n      <td>Gladiator (2000)</td>\n      <td>4.106029</td>\n      <td>1924</td>\n      <td>1508</td>\n    </tr>\n    <tr>\n      <th>34</th>\n      <td>Blade Runner (1982)</td>\n      <td>4.273333</td>\n      <td>1800</td>\n      <td>1485</td>\n    </tr>\n    <tr>\n      <th>35</th>\n      <td>Godfather: Part II, The (1974)</td>\n      <td>4.357565</td>\n      <td>1692</td>\n      <td>1444</td>\n    </tr>\n    <tr>\n      <th>36</th>\n      <td>Casablanca (1942)</td>\n      <td>4.412822</td>\n      <td>1669</td>\n      <td>1434</td>\n    </tr>\n    <tr>\n      <th>37</th>\n      <td>Aliens (1986)</td>\n      <td>4.125824</td>\n      <td>1820</td>\n      <td>1421</td>\n    </tr>\n    <tr>\n      <th>38</th>\n      <td>Stand by Me (1986)</td>\n      <td>4.096919</td>\n      <td>1785</td>\n      <td>1420</td>\n    </tr>\n    <tr>\n      <th>39</th>\n      <td>Wizard of Oz, The (1939)</td>\n      <td>4.247963</td>\n      <td>1718</td>\n      <td>1385</td>\n    </tr>\n    <tr>\n      <th>40</th>\n      <td>GoodFellas (1990)</td>\n      <td>4.275196</td>\n      <td>1657</td>\n      <td>1370</td>\n    </tr>\n    <tr>\n      <th>41</th>\n      <td>Monty Python and the Holy Grail (1974)</td>\n      <td>4.335210</td>\n      <td>1599</td>\n      <td>1364</td>\n    </tr>\n    <tr>\n      <th>42</th>\n      <td>Die Hard (1988)</td>\n      <td>4.121849</td>\n      <td>1666</td>\n      <td>1332</td>\n    </tr>\n    <tr>\n      <th>43</th>\n      <td>Toy Story 2 (1999)</td>\n      <td>4.218927</td>\n      <td>1585</td>\n      <td>1302</td>\n    </tr>\n    <tr>\n      <th>44</th>\n      <td>Indiana Jones and the Last Crusade (1989)</td>\n      <td>4.133292</td>\n      <td>1628</td>\n      <td>1297</td>\n    </tr>\n    <tr>\n      <th>45</th>\n      <td>Hunt for Red October, The (1990)</td>\n      <td>4.052058</td>\n      <td>1652</td>\n      <td>1297</td>\n    </tr>\n    <tr>\n      <th>46</th>\n      <td>Airplane! (1980)</td>\n      <td>3.971115</td>\n      <td>1731</td>\n      <td>1284</td>\n    </tr>\n    <tr>\n      <th>47</th>\n      <td>2001: A Space Odyssey (1968)</td>\n      <td>4.068765</td>\n      <td>1716</td>\n      <td>1270</td>\n    </tr>\n    <tr>\n      <th>48</th>\n      <td>Jaws (1975)</td>\n      <td>4.089570</td>\n      <td>1697</td>\n      <td>1266</td>\n    </tr>\n    <tr>\n      <th>49</th>\n      <td>Good Will Hunting (1997)</td>\n      <td>4.176357</td>\n      <td>1548</td>\n      <td>1256</td>\n    </tr>\n  </tbody>\n</table>\n</div>"
     },
     "execution_count": 25,
     "metadata": {},
     "output_type": "execute_result"
    }
   ],
   "source": [
    "Average_ratings.sort_values('Total Positive Ratings',ascending=False).reset_index().head(50)"
   ],
   "metadata": {
    "collapsed": false,
    "pycharm": {
     "name": "#%%\n"
    }
   }
  },
  {
   "cell_type": "code",
   "execution_count": null,
   "outputs": [],
   "source": [
    "# Age\n",
    "rating_by_age = lens.groupby(\"Age\").size()\n",
    "users_by_age = lens.groupby(\"Age\").agg({\"UserID\": pd.Series.nunique})\n",
    "\n",
    "\n",
    "# pp.pprint({'number of ratings by age':rating_by, 'unique users by age':users_by})\n",
    "\n",
    "\n",
    "def groupby(by):\n",
    "    r = lens.groupby(by).size()\n",
    "    u = lens.groupby(by).agg({\"UserID\": pd.Series.nunique})\n",
    "    pp.pprint({\"number of ratings by \" + by: r, \"unique users by \" + by: u})\n",
    "\n",
    "\n",
    "for i in [\"Gender\", \"Age\", \"Occupation\"]:\n",
    "    groupby(i)"
   ],
   "metadata": {
    "collapsed": false,
    "pycharm": {
     "name": "#%%\n"
    }
   }
  },
  {
   "cell_type": "code",
   "execution_count": 63,
   "metadata": {
    "collapsed": false,
    "jupyter": {
     "outputs_hidden": false
    },
    "pycharm": {
     "name": "#%%\n"
    }
   },
   "outputs": [
    {
     "data": {
      "text/plain": [
       "Age\n",
       "1      27211\n",
       "18    183536\n",
       "25    395556\n",
       "35    199003\n",
       "45     83633\n",
       "50     72490\n",
       "56     38780\n",
       "dtype: int64"
      ]
     },
     "execution_count": 63,
     "metadata": {},
     "output_type": "execute_result"
    }
   ],
   "source": [
    "rating_by_age"
   ]
  },
  {
   "cell_type": "code",
   "execution_count": 5,
   "metadata": {
    "collapsed": false,
    "jupyter": {
     "outputs_hidden": false
    },
    "pycharm": {
     "name": "#%%\n"
    }
   },
   "outputs": [
    {
     "data": {
      "text/html": [
       "<div>\n",
       "<style scoped>\n",
       "    .dataframe tbody tr th:only-of-type {\n",
       "        vertical-align: middle;\n",
       "    }\n",
       "\n",
       "    .dataframe tbody tr th {\n",
       "        vertical-align: top;\n",
       "    }\n",
       "\n",
       "    .dataframe thead th {\n",
       "        text-align: right;\n",
       "    }\n",
       "</style>\n",
       "<table border=\"1\" class=\"dataframe\">\n",
       "  <thead>\n",
       "    <tr style=\"text-align: right;\">\n",
       "      <th></th>\n",
       "      <th>Under 18</th>\n",
       "      <th>18-24</th>\n",
       "      <th>25-34</th>\n",
       "      <th>35-44</th>\n",
       "      <th>45-49</th>\n",
       "      <th>50-55</th>\n",
       "      <th>56+</th>\n",
       "    </tr>\n",
       "  </thead>\n",
       "  <tbody>\n",
       "    <tr>\n",
       "      <th>ratings</th>\n",
       "      <td>27211</td>\n",
       "      <td>183536</td>\n",
       "      <td>395556</td>\n",
       "      <td>199003</td>\n",
       "      <td>83633</td>\n",
       "      <td>72490</td>\n",
       "      <td>38780</td>\n",
       "    </tr>\n",
       "    <tr>\n",
       "      <th>users</th>\n",
       "      <td>[222]</td>\n",
       "      <td>[1103]</td>\n",
       "      <td>[2096]</td>\n",
       "      <td>[1193]</td>\n",
       "      <td>[550]</td>\n",
       "      <td>[496]</td>\n",
       "      <td>[380]</td>\n",
       "    </tr>\n",
       "  </tbody>\n",
       "</table>\n",
       "</div>"
      ],
      "text/plain": [
       "        Under 18   18-24   25-34   35-44  45-49  50-55    56+\n",
       "ratings    27211  183536  395556  199003  83633  72490  38780\n",
       "users      [222]  [1103]  [2096]  [1193]  [550]  [496]  [380]"
      ]
     },
     "execution_count": 5,
     "metadata": {},
     "output_type": "execute_result"
    }
   ],
   "source": [
    "age = {\n",
    "    1: \"Under 18\",\n",
    "    18: \"18-24\",\n",
    "    25: \"25-34\",\n",
    "    35: \"35-44\",\n",
    "    45: \"45-49\",\n",
    "    50: \"50-55\",\n",
    "    56: \"56+\",\n",
    "}\n",
    "\n",
    "pd.DataFrame(\n",
    "    data=[rating_by_age.tolist(), np.array(users_by_age)],\n",
    "    index=[\"ratings\", \"users\"],\n",
    "    columns=age.values(),\n",
    ")"
   ]
  },
  {
   "cell_type": "code",
   "execution_count": 6,
   "metadata": {
    "collapsed": false,
    "jupyter": {
     "outputs_hidden": false
    },
    "pycharm": {
     "name": "#%%\n"
    }
   },
   "outputs": [],
   "source": [
    "gender = {\"F\": \"Female\", \"M\": \"Male\"}\n",
    "age = {\n",
    "    1: \"Under 18\",\n",
    "    18: \"18-24\",\n",
    "    25: \"25-34\",\n",
    "    35: \"35-44\",\n",
    "    45: \"45-49\",\n",
    "    50: \"50-55\",\n",
    "    56: \"56+\",\n",
    "}\n",
    "occupation = {\n",
    "    0: \"other or not specified\",\n",
    "    1: \"academic/educator\",\n",
    "    2: \"artist\",\n",
    "    3: \"clerical/admin\",\n",
    "    4: \"college/grad student\",\n",
    "    5: \"customer service\",\n",
    "    6: \"doctor/health care\",\n",
    "    7: \"executive/managerial\",\n",
    "    8: \"farmer\",\n",
    "    9: \"homemaker\",\n",
    "    10: \"K-12 student\",\n",
    "    11: \"lawyer\",\n",
    "    12: \"programmer\",\n",
    "    13: \"retired\",\n",
    "    14: \"sales/marketing\",\n",
    "    15: \"scientist\",\n",
    "    16: \"self-employed\",\n",
    "    17: \"technician/engineer\",\n",
    "    18: \"tradesman/craftsman\",\n",
    "    19: \"unemployed\",\n",
    "    20: \"writer\",\n",
    "}\n",
    "names = {\"Gender\": gender, \"Age\": age, \"Occupation\": occupation}\n",
    "\n",
    "\n",
    "def getNames(by: string):\n",
    "    return names[by]\n",
    "\n",
    "\n",
    "def groupby2(by):\n",
    "    r = lens.groupby(by).size()\n",
    "    u = lens.groupby(by).agg({\"UserID\": pd.Series.nunique})\n",
    "    # pp.pprint({'number of ratings by '+ by:r, 'unique users by '+by:u})\n",
    "    ppp = pd.DataFrame(\n",
    "        data=[r.tolist(), np.array(u)],\n",
    "        index=[\"ratings\", \"users\"],\n",
    "        columns=getNames(by).values(),\n",
    "    )\n",
    "    return ppp\n",
    "\n",
    "\n",
    "e = []\n",
    "for i in [\"Gender\", \"Age\", \"Occupation\"]:\n",
    "    e.append(groupby2(i))"
   ]
  },
  {
   "cell_type": "code",
   "execution_count": 7,
   "metadata": {
    "collapsed": false,
    "jupyter": {
     "outputs_hidden": false
    },
    "pycharm": {
     "name": "#%%\n"
    }
   },
   "outputs": [
    {
     "data": {
      "text/html": [
       "<div>\n",
       "<style scoped>\n",
       "    .dataframe tbody tr th:only-of-type {\n",
       "        vertical-align: middle;\n",
       "    }\n",
       "\n",
       "    .dataframe tbody tr th {\n",
       "        vertical-align: top;\n",
       "    }\n",
       "\n",
       "    .dataframe thead th {\n",
       "        text-align: right;\n",
       "    }\n",
       "</style>\n",
       "<table border=\"1\" class=\"dataframe\">\n",
       "  <thead>\n",
       "    <tr style=\"text-align: right;\">\n",
       "      <th></th>\n",
       "      <th>ratings</th>\n",
       "      <th>users</th>\n",
       "    </tr>\n",
       "  </thead>\n",
       "  <tbody>\n",
       "    <tr>\n",
       "      <th>Female</th>\n",
       "      <td>246440</td>\n",
       "      <td>[1709]</td>\n",
       "    </tr>\n",
       "    <tr>\n",
       "      <th>Male</th>\n",
       "      <td>753769</td>\n",
       "      <td>[4331]</td>\n",
       "    </tr>\n",
       "  </tbody>\n",
       "</table>\n",
       "</div>"
      ],
      "text/plain": [
       "       ratings   users\n",
       "Female  246440  [1709]\n",
       "Male    753769  [4331]"
      ]
     },
     "execution_count": 7,
     "metadata": {},
     "output_type": "execute_result"
    }
   ],
   "source": [
    "e[0].T"
   ]
  },
  {
   "cell_type": "code",
   "execution_count": null,
   "metadata": {
    "collapsed": false,
    "jupyter": {
     "outputs_hidden": false
    },
    "pycharm": {
     "name": "#%%\n"
    }
   },
   "outputs": [],
   "source": [
    "# gender = {'M': 'Male', 'F': 'Female'}\n",
    "# age = {\n",
    "#     1:\"Under 18\",\n",
    "#    18:\"18-24\",\n",
    "#    25:\"25-34\",\n",
    "#    35:\"35-44\",\n",
    "#    45:\"45-49\",\n",
    "#    50:\"50-55\",\n",
    "#    56:\"56+\"}\n",
    "# occupation = {0:\"other or not specified\",\n",
    "#     1:\"academic/educator\",\n",
    "#     2:\"artist\",\n",
    "#     3:\"clerical/admin\",\n",
    "#     4:\"college/grad student\",\n",
    "#     5:\"customer service\",\n",
    "#     6:\"doctor/health care\",\n",
    "#     7:\"executive/managerial\",\n",
    "#     8:\"farmer\",\n",
    "#     9:\"homemaker\",\n",
    "#    10:\"K-12 student\",\n",
    "#    11:\"lawyer\",\n",
    "#    12:\"programmer\",\n",
    "#    13:\"retired\",\n",
    "#    14:\"sales/marketing\",\n",
    "#    15:\"scientist\",\n",
    "#    16:\"self-employed\",\n",
    "#    17:\"technician/engineer\",\n",
    "#    18:\"tradesman/craftsman\",\n",
    "#    19:\"unemployed\",\n",
    "#    20:\"writer\"}\n",
    "# names = {\"Gender\":gender, \"Age\":age, \"Occupation\":occupation}\n",
    "# def getNames(by: string):\n",
    "#    return names[by]\n",
    "\n",
    "# def groupby2(by):\n",
    "#    r = lens.groupby(by).size()\n",
    "#    u = lens.groupby(by).agg({\"UserID\": pd.Series.nunique})\n",
    "#    u = u.replace({by:getNames(by)})\n",
    "#    pp.pprint({'number of ratings by '+ by:r, 'unique users by '+by:u})\n",
    "\n",
    "# for i in [\"Gender\", \"Age\", \"Occupation\"]:\n",
    "#    groupby2(i)\n",
    "\n",
    "\n",
    "# print(rating_by_age.axes)\n",
    "# print(rating_by_age)\n",
    "# print(rating_by_age.replace({'Age':age}))\n",
    "\n",
    "# rating_by_age.reindex([\"Under 18\",\n",
    "# \"18-24\",\n",
    "# \"25-34\",\n",
    "# \"35-44\",\n",
    "# \"45-49\",\n",
    "# \"50-55\",\n",
    "# \"56+\"])#"
   ]
  },
  {
   "cell_type": "code",
   "execution_count": 37,
   "metadata": {},
   "outputs": [],
   "source": [
    "data_dirM = r\"C:\\Projects\\RecSys2020\\datasets\\ml1m\\male\\\\\"\n",
    "data_dirF = r\"C:\\Projects\\RecSys2020\\datasets\\ml1m\\female\\\\\"\n",
    "\n",
    "fr = lens[lens[\"Gender\"] == \"F\"].sort_values(by=\"UserID\")\n",
    "mr = lens[lens[\"Gender\"] == \"M\"].sort_values(by=\"UserID\")\n",
    "\n",
    "rating_columns = [\"UserID\", \"MovieID\", \"Rating\", \"Timestamp\"]\n",
    "fname = \"data.txt\"\n",
    "params = dict(index=False, header=False, columns=rating_columns, sep=\"\\t\")\n",
    "fr.to_csv(os.path.join(data_dirF, fname), **params)\n",
    "mr.to_csv(os.path.join(data_dirM, fname), **params)"
   ]
  },
  {
   "cell_type": "code",
   "execution_count": 8,
   "outputs": [
    {
     "name": "stdout",
     "output_type": "stream",
     "text": [
      "Successfully created the directory C:\\Projects\\RecSys2020\\datasets\\ml1m\\\\young \n",
      "Successfully created the directory C:\\Projects\\RecSys2020\\datasets\\ml1m\\\\old \n"
     ]
    }
   ],
   "source": [
    "def save_csv(data):\n",
    "    values = data[\"lens\"].sort_values(by=\"UserID\")\n",
    "\n",
    "    try:\n",
    "        os.mkdir(data[\"path\"])\n",
    "    except OSError:\n",
    "        print(\"Creation of the directory %s failed\" % data[\"path\"])\n",
    "    else:\n",
    "        print(\"Successfully created the directory %s \" % data[\"path\"])\n",
    "\n",
    "    csv_path = os.path.join(data[\"path\"], \"data.txt\")\n",
    "    values.to_csv(\n",
    "        csv_path,\n",
    "        index=False,\n",
    "        header=False,\n",
    "        columns=[\"UserID\", \"MovieID\", \"Rating\", \"Timestamp\"],\n",
    "        sep=\"\\t\",\n",
    "    )\n",
    "\n",
    "\n",
    "young = lens[lens[\"Age\"] == 1]\n",
    "path = os.path.join(r\"C:\\Projects\\RecSys2020\\datasets\\ml1m\\\\\", \"young\")\n",
    "save_csv({\"lens\": young, \"path\": path})\n",
    "\n",
    "old = lens[lens[\"Age\"] == 56]\n",
    "path = os.path.join(r\"C:\\Projects\\RecSys2020\\datasets\\ml1m\\\\\", \"old\")\n",
    "save_csv({\"lens\": old, \"path\": path})\n"
   ],
   "metadata": {
    "collapsed": false,
    "pycharm": {
     "name": "#%%\n"
    }
   }
  },
  {
   "cell_type": "code",
   "execution_count": 16,
   "outputs": [
    {
     "data": {
      "text/plain": "2650"
     },
     "execution_count": 16,
     "metadata": {},
     "output_type": "execute_result"
    }
   ],
   "source": [
    "young.describe()\n",
    "young['MovieID'].unique().size\n"
   ],
   "metadata": {
    "collapsed": false,
    "pycharm": {
     "name": "#%%\n"
    }
   }
  },
  {
   "cell_type": "code",
   "execution_count": 17,
   "outputs": [
    {
     "data": {
      "text/plain": "2913"
     },
     "execution_count": 17,
     "metadata": {},
     "output_type": "execute_result"
    }
   ],
   "source": [
    "old.describe()\n",
    "old['MovieID'].unique().size"
   ],
   "metadata": {
    "collapsed": false,
    "pycharm": {
     "name": "#%%\n"
    }
   }
  },
  {
   "cell_type": "code",
   "execution_count": 5,
   "metadata": {},
   "outputs": [],
   "source": [
    "# Generate the class/group data\n",
    "n_points = len(lens)\n",
    "lens[\"sexcode\"] = pd.factorize(lens[\"Gender\"])[0] + 1\n",
    "ageGroups = pd.factorize(lens[\"Age\"])[0] + 1\n",
    "occupationGroups = pd.factorize(lens[\"Occupation\"])[0] + 1\n",
    "timestampGroups = pd.factorize(lens[\"Timestamp\"])[0] + 1\n",
    "\n",
    "X = np.array(lens[\"Rating\"])  # np.random.randn(100, 10)\n",
    "y = np.array(lens[\"sexcode\"]).T\n",
    "\n",
    "n_splits = 5\n",
    "\n",
    "np.random.seed(1338)\n",
    "cmap_data = plt.cm.Paired\n",
    "cmap_cv = plt.cm.coolwarm"
   ]
  },
  {
   "cell_type": "code",
   "execution_count": 17,
   "metadata": {},
   "outputs": [
    {
     "name": "stdout",
     "output_type": "stream",
     "text": [
      "<class 'sklearn.model_selection._split.KFold'> 0\n",
      "<class 'sklearn.model_selection._split.GroupKFold'> 1\n",
      "<class 'sklearn.model_selection._split.ShuffleSplit'> 2\n",
      "<class 'sklearn.model_selection._split.StratifiedKFold'> 0\n",
      "<class 'sklearn.model_selection._split.StratifiedShuffleSplit'> 1\n",
      "<class 'sklearn.model_selection._split.TimeSeriesSplit'> 2\n"
     ]
    }
   ],
   "source": [
    "def plot_cv_indices(cv, X, y, group, group2, ax, n_splits, lw=10):\n",
    "    \"\"\"Create a sample plot for indices of a cross-validation object.\"\"\"\n",
    "\n",
    "    # Generate the training/testing visualizations for each CV split\n",
    "    for ii, (tr, tt) in enumerate(cv.split(X=X, y=y, groups=group)):\n",
    "        # Fill in indices with the training/test groups\n",
    "        indices = np.array([np.nan] * len(X))\n",
    "        indices[tt] = 1\n",
    "        indices[tr] = 0\n",
    "\n",
    "        # Visualize the results\n",
    "        ax.scatter(\n",
    "            range(len(indices)),\n",
    "            [ii + 0.5] * len(indices),\n",
    "            c=indices,\n",
    "            marker=\"_\",\n",
    "            lw=lw,\n",
    "            cmap=cmap_cv,\n",
    "            vmin=-0.2,\n",
    "            vmax=1.2,\n",
    "        )\n",
    "\n",
    "    # Plot the data classes and groups at the end\n",
    "    ax.scatter(\n",
    "        range(len(X)), [ii + 1.5] * len(X), c=y, marker=\"_\", lw=lw, cmap=cmap_data\n",
    "    )\n",
    "\n",
    "    ax.scatter(\n",
    "        range(len(X)), [ii + 2.5] * len(X), c=group, marker=\"_\", lw=lw, cmap=cmap_data\n",
    "    )\n",
    "\n",
    "    ax.scatter(\n",
    "        range(len(X)), [ii + 3.5] * len(X), c=group2, marker=\"_\", lw=lw, cmap=cmap_data\n",
    "    )\n",
    "\n",
    "    # Formatting\n",
    "    labels = [\"Lytis\", \"Amžius\", \"Užsiėmimas\"]\n",
    "    yticklabels = list(range(n_splits)) + labels\n",
    "    ax.set(\n",
    "        yticks=np.arange(n_splits + 3) + 0.5,\n",
    "        yticklabels=yticklabels,\n",
    "        xlabel=\"Imties indeksas\",\n",
    "        ylabel=\"Kryžminės patikros padalijimas\",\n",
    "        ylim=[n_splits + len(labels) + 0.2, -0.2],\n",
    "        xlim=[0, n_points],\n",
    "    )\n",
    "    ax.set_title(type(cv).__name__, fontsize=12)\n",
    "    return ax\n",
    "\n",
    "\n",
    "# cvs = [KFold]\n",
    "# ,GroupKFold, ShuffleSplit, StratifiedKFold,\n",
    "# GroupShuffleSplit, StratifiedShuffleSplit, TimeSeriesSplit]\n",
    "\n",
    "\n",
    "cvs1 = [KFold, GroupKFold, ShuffleSplit]\n",
    "cvs2 = [\n",
    "    StratifiedKFold,\n",
    "    ##GroupShuffleSplit,\n",
    "    StratifiedShuffleSplit,\n",
    "    TimeSeriesSplit,\n",
    "]\n",
    "\n",
    "fig, axs = plt.subplots(2, 3)\n",
    "\n",
    "for i, cv in enumerate(cvs1):\n",
    "    print(cv, i)\n",
    "    this_cv = cv(n_splits=n_splits)\n",
    "    ax = axs[0, i]\n",
    "    plot_cv_indices(this_cv, X, y, ageGroups, occupationGroups, ax, n_splits)\n",
    "\n",
    "for i, cv in enumerate(cvs2):\n",
    "    print(cv, i)\n",
    "    this_cv = cv(n_splits=n_splits)\n",
    "    ax = axs[1, i]\n",
    "    plot_cv_indices(this_cv, X, y, ageGroups, occupationGroups, ax, n_splits)\n",
    "\n",
    "ax.legend(\n",
    "    [Patch(color=cmap_cv(0.8)), Patch(color=cmap_cv(0.02))],\n",
    "    [\"Testavimo aibė\", \"Mokymo aibė\"],\n",
    "    loc=(1.02, 0.8),\n",
    ")\n",
    "# Make the legend fit\n",
    "fig.set_size_inches(12, 6)\n",
    "\n",
    "plt.tight_layout()\n",
    "png = os.path.join(r\"C:\\Projects\\RecSys2020\\results\\figure0.cross-validations.png\")\n",
    "fig.savefig(png, format=\"png\", dpi=300)\n",
    "\n",
    "png = os.path.join(\n",
    "    r\"E:\\OneDrive\\MSThesis\\_2019\\master_thesis_template_vu_mif_cs1-master\\master_thesis_template_vu_mif_cs1-master\\_third_part\\img\\figure0.cross-validations.png\"\n",
    ")\n",
    "fig.savefig(png, format=\"png\", dpi=300)\n",
    "\n",
    "# fig.subplots_adjust(right=0.7)\n",
    "# plt.show()"
   ]
  },
  {
   "cell_type": "code",
   "execution_count": 7,
   "metadata": {},
   "outputs": [
    {
     "name": "stdout",
     "output_type": "stream",
     "text": [
      "166701\n",
      "166704\n",
      "333405\n",
      "500106\n",
      "666807\n",
      "833508\n"
     ]
    }
   ],
   "source": [
    "cv = TimeSeriesSplit(n_splits)\n",
    "splits = []\n",
    "for ii, (tr, tt) in enumerate(cv.split(X=lens, y=y, groups=timestampGroups)):\n",
    "    splits.append((tr, tt))\n",
    "\n",
    "print(len(splits[0][1]))\n",
    "\n",
    "for i in splits:\n",
    "    print(len(i[0]))"
   ]
  },
  {
   "cell_type": "code",
   "execution_count": 8,
   "metadata": {},
   "outputs": [
    {
     "name": "stdout",
     "output_type": "stream",
     "text": [
      "[[166704, 166701], [333405, 166701], [500106, 166701], [666807, 166701], [833508, 166701]]\n"
     ]
    }
   ],
   "source": [
    "print([[len(t) for t in split] for split in splits])\n",
    "splited = [[t for t in split] for split in splits]"
   ]
  },
  {
   "cell_type": "code",
   "execution_count": 9,
   "metadata": {},
   "outputs": [
    {
     "name": "stdout",
     "output_type": "stream",
     "text": [
      "2\n",
      "2\n",
      "2\n",
      "2\n",
      "2\n"
     ]
    }
   ],
   "source": [
    "for split in splits:\n",
    "    print(len(split))\n",
    "# 1-data-test.txt\n",
    "# 1-data-train.txt"
   ]
  },
  {
   "cell_type": "code",
   "execution_count": 35,
   "metadata": {},
   "outputs": [],
   "source": []
  },
  {
   "cell_type": "code",
   "execution_count": 6,
   "metadata": {},
   "outputs": [],
   "source": [
    "data_dir = r\"C:\\Projects\\RecSys2020\\datasets\\ml1m\\\\\"\n",
    "cvs = [\n",
    "    KFold,\n",
    "    GroupKFold,\n",
    "    ShuffleSplit,\n",
    "    StratifiedKFold,\n",
    "    GroupShuffleSplit,\n",
    "    StratifiedShuffleSplit,\n",
    "    TimeSeriesSplit,\n",
    "]"
   ]
  },
  {
   "cell_type": "code",
   "execution_count": null,
   "metadata": {},
   "outputs": [],
   "source": [
    "cv = TimeSeriesSplit(n_splits)\n",
    "for fold, (train, test) in enumerate(cv.split(X=lens, y=y, groups=timestampGroups)):\n",
    "    fold += 1\n",
    "    print(fold)\n",
    "    print(fold, \" train=\", len(lens[lens.index.isin(splits[i][0])]))\n",
    "    print(fold, \" test=\", len(lens[lens.index.isin(splits[i][1])]))\n",
    "\n",
    "    train = lens[[\"UserID\", \"MovieID\", \"Rating\", \"Timestamp\"]][lens.index.isin(train)]\n",
    "    test = lens[[\"UserID\", \"MovieID\", \"Rating\", \"Timestamp\"]][lens.index.isin(test)]\n",
    "    cv_name = type(cv).__name__\n",
    "    dirr = os.path.join(data_dir, cv_name)\n",
    "\n",
    "    train.to_csv(os.path.join(dirr, str(fold) + \"-data-train.txt\"))\n",
    "    test.to_csv(os.path.join(dirr, str(fold) + \"-data-test.txt\"))"
   ]
  },
  {
   "cell_type": "code",
   "execution_count": 43,
   "metadata": {},
   "outputs": [
    {
     "data": {
      "text/html": [
       "<div>\n",
       "<style scoped>\n",
       "    .dataframe tbody tr th:only-of-type {\n",
       "        vertical-align: middle;\n",
       "    }\n",
       "\n",
       "    .dataframe tbody tr th {\n",
       "        vertical-align: top;\n",
       "    }\n",
       "\n",
       "    .dataframe thead th {\n",
       "        text-align: right;\n",
       "    }\n",
       "</style>\n",
       "<table border=\"1\" class=\"dataframe\">\n",
       "  <thead>\n",
       "    <tr style=\"text-align: right;\">\n",
       "      <th></th>\n",
       "      <th>UserID</th>\n",
       "      <th>MovieID</th>\n",
       "      <th>Rating</th>\n",
       "      <th>Timestamp</th>\n",
       "    </tr>\n",
       "  </thead>\n",
       "  <tbody>\n",
       "    <tr>\n",
       "      <th>1</th>\n",
       "      <td>1</td>\n",
       "      <td>48</td>\n",
       "      <td>5</td>\n",
       "      <td>978824351</td>\n",
       "    </tr>\n",
       "    <tr>\n",
       "      <th>2</th>\n",
       "      <td>1</td>\n",
       "      <td>150</td>\n",
       "      <td>5</td>\n",
       "      <td>978301777</td>\n",
       "    </tr>\n",
       "  </tbody>\n",
       "</table>\n",
       "</div>"
      ],
      "text/plain": [
       "   UserID  MovieID  Rating  Timestamp\n",
       "1       1       48       5  978824351\n",
       "2       1      150       5  978301777"
      ]
     },
     "execution_count": 43,
     "metadata": {},
     "output_type": "execute_result"
    }
   ],
   "source": [
    "lens[[\"UserID\", \"MovieID\", \"Rating\", \"Timestamp\"]][lens.index.isin(splits[i][0])]"
   ]
  },
  {
   "cell_type": "code",
   "execution_count": 17,
   "metadata": {},
   "outputs": [],
   "source": [
    "def split(cvs, groups):\n",
    "    for cv in cvs:\n",
    "        this_cv = cv(n_splits=n_splits)\n",
    "        this_cv_name = type(this_cv).__name__\n",
    "        dir = os.path.join(data_dir, this_cv_name)\n",
    "        if not os.path.exists(dir):\n",
    "            os.mkdir(dir)\n",
    "\n",
    "        for fold, (train, test) in enumerate(this_cv.split(X=lens, y=y, groups=groups)):\n",
    "            fold += 1\n",
    "            print()\n",
    "            print(this_cv_name, fold, \" train=\", len(lens[lens.index.isin(train)]))\n",
    "            print(this_cv_name, fold, \" test=\", len(lens[lens.index.isin(test)]))\n",
    "\n",
    "            train = lens[[\"UserID\", \"MovieID\", \"Rating\", \"Timestamp\"]][\n",
    "                lens.index.isin(train)\n",
    "            ]\n",
    "            test = lens[[\"UserID\", \"MovieID\", \"Rating\", \"Timestamp\"]][\n",
    "                lens.index.isin(test)\n",
    "            ]\n",
    "\n",
    "            train.to_csv(\n",
    "                os.path.join(dir, str(fold) + \"-data-train.txt\"),\n",
    "                index=False,\n",
    "                header=False,\n",
    "                sep=\"\\t\",\n",
    "            )\n",
    "            test.to_csv(\n",
    "                os.path.join(dir, str(fold) + \"-data-test.txt\"),\n",
    "                index=False,\n",
    "                header=False,\n",
    "                sep=\"\\t\",\n",
    "            )"
   ]
  },
  {
   "cell_type": "code",
   "execution_count": 19,
   "metadata": {},
   "outputs": [
    {
     "name": "stdout",
     "output_type": "stream",
     "text": [
      "\n",
      "KFold 1  train= 800167\n",
      "KFold 1  test= 200042\n",
      "\n",
      "KFold 2  train= 800167\n",
      "KFold 2  test= 200042\n",
      "\n",
      "KFold 3  train= 800167\n",
      "KFold 3  test= 200042\n",
      "\n",
      "KFold 4  train= 800167\n",
      "KFold 4  test= 200042\n",
      "\n",
      "KFold 5  train= 800168\n",
      "KFold 5  test= 200041\n",
      "\n",
      "ShuffleSplit 1  train= 900188\n",
      "ShuffleSplit 1  test= 100021\n",
      "\n",
      "ShuffleSplit 2  train= 900188\n",
      "ShuffleSplit 2  test= 100021\n",
      "\n",
      "ShuffleSplit 3  train= 900188\n",
      "ShuffleSplit 3  test= 100021\n",
      "\n",
      "ShuffleSplit 4  train= 900188\n",
      "ShuffleSplit 4  test= 100021\n",
      "\n",
      "ShuffleSplit 5  train= 900188\n",
      "ShuffleSplit 5  test= 100021\n",
      "\n",
      "StratifiedKFold 1  train= 800167\n",
      "StratifiedKFold 1  test= 200042\n",
      "\n",
      "StratifiedKFold 2  train= 800167\n",
      "StratifiedKFold 2  test= 200042\n",
      "\n",
      "StratifiedKFold 3  train= 800167\n",
      "StratifiedKFold 3  test= 200042\n",
      "\n",
      "StratifiedKFold 4  train= 800167\n",
      "StratifiedKFold 4  test= 200042\n",
      "\n",
      "StratifiedKFold 5  train= 800168\n",
      "StratifiedKFold 5  test= 200041\n",
      "\n",
      "GroupShuffleSplit 1  train= 753769\n",
      "GroupShuffleSplit 1  test= 246440\n",
      "\n",
      "GroupShuffleSplit 2  train= 753769\n",
      "GroupShuffleSplit 2  test= 246440\n",
      "\n",
      "GroupShuffleSplit 3  train= 753769\n",
      "GroupShuffleSplit 3  test= 246440\n",
      "\n",
      "GroupShuffleSplit 4  train= 246440\n",
      "GroupShuffleSplit 4  test= 753769\n",
      "\n",
      "GroupShuffleSplit 5  train= 246440\n",
      "GroupShuffleSplit 5  test= 753769\n",
      "\n",
      "StratifiedShuffleSplit 1  train= 900188\n",
      "StratifiedShuffleSplit 1  test= 100021\n",
      "\n",
      "StratifiedShuffleSplit 2  train= 900188\n",
      "StratifiedShuffleSplit 2  test= 100021\n",
      "\n",
      "StratifiedShuffleSplit 3  train= 900188\n",
      "StratifiedShuffleSplit 3  test= 100021\n",
      "\n",
      "StratifiedShuffleSplit 4  train= 900188\n",
      "StratifiedShuffleSplit 4  test= 100021\n",
      "\n",
      "StratifiedShuffleSplit 5  train= 900188\n",
      "StratifiedShuffleSplit 5  test= 100021\n",
      "\n",
      "TimeSeriesSplit 1  train= 166704\n",
      "TimeSeriesSplit 1  test= 166701\n",
      "\n",
      "TimeSeriesSplit 2  train= 333405\n",
      "TimeSeriesSplit 2  test= 166701\n",
      "\n",
      "TimeSeriesSplit 3  train= 500106\n",
      "TimeSeriesSplit 3  test= 166701\n",
      "\n",
      "TimeSeriesSplit 4  train= 666807\n",
      "TimeSeriesSplit 4  test= 166701\n",
      "\n",
      "TimeSeriesSplit 5  train= 833508\n",
      "TimeSeriesSplit 5  test= 166701\n"
     ]
    }
   ],
   "source": [
    "def split(cvs, groups):\n",
    "    for cv in cvs:\n",
    "        this_cv = cv(n_splits=n_splits)\n",
    "        this_cv_name = type(this_cv).__name__\n",
    "        dir = os.path.join(data_dir, this_cv_name)\n",
    "        if not os.path.exists(dir):\n",
    "            os.mkdir(dir)\n",
    "\n",
    "        for fold, (train, test) in enumerate(this_cv.split(X=lens, y=y, groups=groups)):\n",
    "            fold += 1\n",
    "            print()\n",
    "            print(this_cv_name, fold, \" train=\", len(lens[lens.index.isin(train)]))\n",
    "            print(this_cv_name, fold, \" test=\", len(lens[lens.index.isin(test)]))\n",
    "\n",
    "            train = lens[[\"UserID\", \"MovieID\", \"Rating\", \"Timestamp\"]][\n",
    "                lens.index.isin(train)\n",
    "            ]\n",
    "            test = lens[[\"UserID\", \"MovieID\", \"Rating\", \"Timestamp\"]][\n",
    "                lens.index.isin(test)\n",
    "            ]\n",
    "\n",
    "            train.to_csv(\n",
    "                os.path.join(dir, str(fold) + \"-data-train.txt\"),\n",
    "                index=False,\n",
    "                header=False,\n",
    "                sep=\"\\t\",\n",
    "            )\n",
    "            test.to_csv(\n",
    "                os.path.join(dir, str(fold) + \"-data-test.txt\"),\n",
    "                index=False,\n",
    "                header=False,\n",
    "                sep=\"\\t\",\n",
    "            )\n",
    "\n",
    "\n",
    "data_dir = r\"C:\\Projects\\RecSys2020\\datasets\\ml1m\\\\\"\n",
    "cvs = [KFold, ShuffleSplit, StratifiedKFold, GroupShuffleSplit, StratifiedShuffleSplit]\n",
    "split(cvs, np.array(lens[\"sexcode\"]).T)\n",
    "split([TimeSeriesSplit], timestampGroups)\n",
    "# , TimeSeriesSplit, GroupKFold]\n",
    "# g = np.array(lens['sexcode']).T"
   ]
  },
  {
   "cell_type": "code",
   "execution_count": null,
   "metadata": {},
   "outputs": [],
   "source": []
  },
  {
   "cell_type": "code",
   "execution_count": null,
   "metadata": {
    "collapsed": false,
    "jupyter": {
     "outputs_hidden": false
    },
    "pycharm": {
     "name": "#%%\n"
    }
   },
   "outputs": [],
   "source": []
  }
 ],
 "metadata": {
  "kernelspec": {
   "display_name": "PyCharm (TargetSampling)",
   "language": "python",
   "name": "pycharm-960a82ab"
  },
  "language_info": {
   "codemirror_mode": {
    "name": "ipython",
    "version": 3
   },
   "file_extension": ".py",
   "mimetype": "text/x-python",
   "name": "python",
   "nbconvert_exporter": "python",
   "pygments_lexer": "ipython3",
   "version": "3.9.1"
  }
 },
 "nbformat": 4,
 "nbformat_minor": 4
}