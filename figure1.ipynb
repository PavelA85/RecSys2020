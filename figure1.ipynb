{
 "cells": [
  {
   "cell_type": "code",
   "execution_count": 1,
   "metadata": {},
   "outputs": [
    {
     "name": "stdout",
     "output_type": "stream",
     "text": [
      "Using pandas 1.2.0 version\n",
      "Using seaborn 0.11.1 version\n",
      "Using scipy 1.6.0 version\n"
     ]
    }
   ],
   "source": [
    "import pandas as pd\n",
    "import seaborn as sns\n",
    "import scipy\n",
    "\n",
    "import numpy as np\n",
    "import matplotlib.pyplot as plt\n",
    "import scipy.stats as stats\n",
    "\n",
    "print(\"Using pandas %s version\" % pd.__version__)\n",
    "print(\"Using seaborn %s version\"% sns.__version__)\n",
    "print(\"Using scipy %s version\" % scipy.__version__)"
   ]
  },
  {
   "cell_type": "code",
   "execution_count": 2,
   "metadata": {},
   "outputs": [
    {
     "data": {
      "text/html": [
       "<div>\n",
       "<style scoped>\n",
       "    .dataframe tbody tr th:only-of-type {\n",
       "        vertical-align: middle;\n",
       "    }\n",
       "\n",
       "    .dataframe tbody tr th {\n",
       "        vertical-align: top;\n",
       "    }\n",
       "\n",
       "    .dataframe thead th {\n",
       "        text-align: right;\n",
       "    }\n",
       "</style>\n",
       "<table border=\"1\" class=\"dataframe\">\n",
       "  <thead>\n",
       "    <tr style=\"text-align: right;\">\n",
       "      <th></th>\n",
       "      <th>Recommender</th>\n",
       "      <th>Full</th>\n",
       "      <th>Test</th>\n",
       "    </tr>\n",
       "  </thead>\n",
       "  <tbody>\n",
       "    <tr>\n",
       "      <th>0</th>\n",
       "      <td>iMF (full)</td>\n",
       "      <td>0.355007</td>\n",
       "      <td>0.660162</td>\n",
       "    </tr>\n",
       "    <tr>\n",
       "      <th>1</th>\n",
       "      <td>iMF (test)</td>\n",
       "      <td>0.177550</td>\n",
       "      <td>0.684576</td>\n",
       "    </tr>\n",
       "    <tr>\n",
       "      <th>2</th>\n",
       "      <td>kNN (full/test)</td>\n",
       "      <td>0.310464</td>\n",
       "      <td>0.659460</td>\n",
       "    </tr>\n",
       "    <tr>\n",
       "      <th>3</th>\n",
       "      <td>Normalized kNN (full)</td>\n",
       "      <td>0.206560</td>\n",
       "      <td>0.642364</td>\n",
       "    </tr>\n",
       "    <tr>\n",
       "      <th>4</th>\n",
       "      <td>Normalized kNN (test)</td>\n",
       "      <td>0.085848</td>\n",
       "      <td>0.671166</td>\n",
       "    </tr>\n",
       "  </tbody>\n",
       "</table>\n",
       "</div>"
      ],
      "text/plain": [
       "             Recommender      Full      Test\n",
       "0             iMF (full)  0.355007  0.660162\n",
       "1             iMF (test)  0.177550  0.684576\n",
       "2        kNN (full/test)  0.310464  0.659460\n",
       "3  Normalized kNN (full)  0.206560  0.642364\n",
       "4  Normalized kNN (test)  0.085848  0.671166"
      ]
     },
     "execution_count": 2,
     "metadata": {},
     "output_type": "execute_result"
    }
   ],
   "source": [
    "fig1 = pd.read_table(r'C:\\Projects\\RecSys2020\\results\\figure1.txt',sep='\\t',header=4)\n",
    "\n",
    "fig1.head()"
   ]
  },
  {
   "cell_type": "code",
   "execution_count": 3,
   "metadata": {},
   "outputs": [
    {
     "data": {
      "text/plain": [
       "<matplotlib.legend.Legend object at 0x0000024B4207F310>"
      ]
     },
     "execution_count": 3,
     "metadata": {},
     "output_type": "execute_result"
    }
   ],
   "source": [
    "f1 = np.array(fig1)\n",
    "df = pd.DataFrame(index=['Full', 'Test'])\n",
    "for i,r in enumerate(fig1.Recommender):\n",
    "    df[r] = f1[i][1:]\n",
    "    \n",
    "df.plot(kind='bar', color=('red','blue','green','magenta', 'black', 'purple', 'grey', 'orange'),legend=None)\n",
    "plt.ylabel('P@10')\n",
    "plt.gca().xaxis.set_tick_params(rotation=0)\n",
    "plt.legend(bbox_to_anchor=(1.05, 1), loc='upper left', title='Recommender', title_fontsize='xx-large')\n"
   ]
  },
  {
   "cell_type": "code",
   "execution_count": 4,
   "metadata": {},
   "outputs": [
    {
     "data": {
      "text/plain": [
       "([<matplotlib.axis.XTick object at 0x0000024B4335A430>, <matplotlib.axis.XTick object at 0x0000024B4335A400>], [Text(1, 0, 'Full'), Text(2, 0, 'Test')])"
      ]
     },
     "execution_count": 4,
     "metadata": {},
     "output_type": "execute_result"
    }
   ],
   "source": [
    "data = [list(a) for a in zip(fig1.Recommender, fig1.Full.rank(ascending=False),fig1.Test.rank(ascending=False))]\n",
    "\n",
    "artists = []\n",
    "for row, color in zip(data, ('red','blue','green','magenta', 'black', 'purple', 'grey', 'orange')):\n",
    "    artists.append(plt.Line2D(xdata=[1,2], ydata=[row[1:]], lw=1, color=color, marker='o'))\n",
    "\n",
    "fig, ax = plt.subplots()\n",
    "\n",
    "for artist in artists:\n",
    "    a = ax.add_artist(artist)\n",
    "    \n",
    "ax.set_ybound([0.8,8.2])\n",
    "ax.set_xbound([0.94,2.06])\n",
    "ax.spines['top'].set_visible(False)\n",
    "ax.spines['right'].set_visible(False)\n",
    "ax.spines['bottom'].set_visible(False)\n",
    "ax.spines['left'].set_visible(False)\n",
    "\n",
    "plt.gca().invert_yaxis()\n",
    "plt.ylabel('System ranking')\n",
    "plt.legend(artists, fig1.Recommender, bbox_to_anchor=(1.05, 1), loc='upper left', title='Recommender', title_fontsize='xx-large')\n",
    "\n",
    "#plt.tick_params(\n",
    "#    axis='x',          # changes apply to the x-axis\n",
    "#    which='both',      # both major and minor ticks are affected\n",
    "#    bottom=False,      # ticks along the bottom edge are off\n",
    "#    top=False,         # ticks along the top edge are off\n",
    "#    labelbottom=False) # labels along the bottom edge are off\n",
    "plt.xticks([1,2], ['Full', 'Test'])\n",
    "\n",
    "#plt.rcParams[\"figure.figsize\"] = (2,6)\n"
   ]
  },
  {
   "cell_type": "code",
   "execution_count": 5,
   "metadata": {},
   "outputs": [
    {
     "data": {
      "text/plain": [
       "([<matplotlib.axis.XTick object at 0x0000024B433CD880>, <matplotlib.axis.XTick object at 0x0000024B433CD850>], [Text(1, 0, 'Full'), Text(2, 0, 'Test')])"
      ]
     },
     "execution_count": 5,
     "metadata": {},
     "output_type": "execute_result"
    }
   ],
   "source": [
    "def energy_rank(data, marker_width=.5, color='blue'):\n",
    "    y_data = np.repeat(data, 2)\n",
    "    x_data = np.empty_like(y_data)\n",
    "    x_data[0::2] = np.arange(1, len(data)+1) - (marker_width/2)\n",
    "    x_data[1::2] = np.arange(1, len(data)+1) + (marker_width/2)\n",
    "    lines = []\n",
    "    lines.append(plt.Line2D(x_data, y_data, lw=1, linestyle='dashed', color=color))\n",
    "    for x in range(0,len(data)*2, 2):\n",
    "        lines.append(plt.Line2D(x_data[x:x+2], y_data[x:x+2], lw=2, linestyle='solid', color=color))\n",
    "    return lines\n",
    "\n",
    "data = [list(a) for a in zip(fig1.Full.rank(),fig1.Test.rank())]\n",
    "#np.random.rand(8,2) * 4 # 4 lines with 8 datapoints from 0 - 4\n",
    "\n",
    "artists = []\n",
    "for row, color in zip(data, ('red','blue','green','magenta', 'black', 'purple', 'grey', 'orange')):\n",
    "    artists.extend(energy_rank(row, color=color))\n",
    "    #artists.append(plt.Line2D([data[0][0]], [data[0][1]], lw=1, linestyle='dashed', color=color))\n",
    "\n",
    "fig, ax = plt.subplots()\n",
    "\n",
    "for artist in artists:\n",
    "    ax.add_artist(artist)\n",
    "ax.set_ybound([0.8,8.2])\n",
    "ax.set_xbound([1,2])\n",
    "\n",
    "plt.gca().invert_yaxis()\n",
    "plt.ylabel('System ranking')\n",
    "plt.legend(artists, fig1.Recommender, bbox_to_anchor=(1.05, 1), loc='upper left', title='Recommender', title_fontsize='xx-large')\n",
    "\n",
    "plt.xticks([1,2], ['Full', 'Test'])\n",
    "\n",
    "#plt.tick_params(\n",
    "#    axis='x',          # changes apply to the x-axis\n",
    "#    which='both',      # both major and minor ticks are affected\n",
    "#    bottom=False,      # ticks along the bottom edge are off\n",
    "#    top=False,         # ticks along the top edge are off\n",
    "#    labelbottom=False) # labels along the bottom edge are off"
   ]
  },
  {
   "cell_type": "code",
   "execution_count": 6,
   "metadata": {},
   "outputs": [
    {
     "name": "stderr",
     "output_type": "stream",
     "text": [
      "C:/Users/pavel/AppData/Local/Temp/xpython_26048/2122436968.py:1: UserWarning: Tight layout not applied. The left and right margins cannot be made large enough to accommodate all axes decorations. \n",
      "  plt.show()\n"
     ]
    }
   ],
   "source": [
    "plt.show()"
   ]
  }
 ],
 "metadata": {
  "kernelspec": {
   "display_name": "Python 3.9 (XPython)",
   "language": "python",
   "name": "xpython"
  },
  "language_info": {
   "file_extension": ".py",
   "mimetype": "text/x-python",
   "name": "python",
   "version": "3.9.1"
  }
 },
 "nbformat": 4,
 "nbformat_minor": 4
}
